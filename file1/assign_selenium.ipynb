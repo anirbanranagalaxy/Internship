{
 "cells": [
  {
   "cell_type": "markdown",
   "id": "b930b757",
   "metadata": {},
   "source": [
    "# Name - Anirban Rana\n"
   ]
  },
  {
   "cell_type": "markdown",
   "id": "48d9f29f",
   "metadata": {},
   "source": [
    "# Batch - DS2309"
   ]
  },
  {
   "cell_type": "markdown",
   "id": "3a12bb43",
   "metadata": {},
   "source": [
    "# Question no 1"
   ]
  },
  {
   "cell_type": "code",
   "execution_count": 9,
   "id": "4447563e",
   "metadata": {},
   "outputs": [],
   "source": [
    "import selenium"
   ]
  },
  {
   "cell_type": "code",
   "execution_count": 1,
   "id": "ab979ba5",
   "metadata": {},
   "outputs": [],
   "source": [
    "from selenium import webdriver\n",
    "from selenium.webdriver.common.by import By\n",
    "import pandas as pd \n",
    "import warnings\n",
    "warnings.filterwarnings('ignore')\n",
    "import time"
   ]
  },
  {
   "cell_type": "code",
   "execution_count": 26,
   "id": "11908b57",
   "metadata": {},
   "outputs": [],
   "source": [
    "driver = webdriver.Chrome()"
   ]
  },
  {
   "cell_type": "code",
   "execution_count": 27,
   "id": "f0470469",
   "metadata": {},
   "outputs": [],
   "source": [
    "driver.get('https://www.shine.com/')"
   ]
  },
  {
   "cell_type": "code",
   "execution_count": 28,
   "id": "fce01a15",
   "metadata": {},
   "outputs": [],
   "source": [
    "job_title=[]\n",
    "job_location=[]\n",
    "company_name=[]\n",
    "experience_required=[]"
   ]
  },
  {
   "cell_type": "code",
   "execution_count": 30,
   "id": "2ec86adb",
   "metadata": {},
   "outputs": [],
   "source": [
    "designation = driver.find_element(By.CLASS_NAME,'searchBarInput')\n",
    "\n",
    "designation.send_keys(\"Data Analyst\")\n",
    "designation.click()\n"
   ]
  },
  {
   "cell_type": "code",
   "execution_count": 32,
   "id": "71cced1e",
   "metadata": {},
   "outputs": [],
   "source": [
    "title = driver.find_element(By.XPATH,'/html/body/div/div[4]/div/div[2]/div[2]/div/form/div/div[1]/ul/li[1]/div/input')\n",
    "title.send_keys(\"Data Analyst\")\n"
   ]
  },
  {
   "cell_type": "code",
   "execution_count": 35,
   "id": "eba9e6d1",
   "metadata": {},
   "outputs": [],
   "source": [
    "location = driver.find_element(By.XPATH,'/html/body/div/div[4]/div/div[2]/div[2]/div/form/div/div[1]/ul/li[2]/div/input')\n",
    "location.send_keys(\"Bangalore\")"
   ]
  },
  {
   "cell_type": "code",
   "execution_count": 37,
   "id": "25bb1233",
   "metadata": {},
   "outputs": [],
   "source": [
    "search = driver.find_element(By.XPATH,'/html/body/div/div[4]/div/div[2]/div[2]/div/form/div/div[2]/div/button')\n",
    "search.click()"
   ]
  },
  {
   "cell_type": "code",
   "execution_count": 38,
   "id": "057440c2",
   "metadata": {},
   "outputs": [],
   "source": [
    "#scraping the job title\n",
    "job_title.clear()\n",
    "title_tags = driver.find_elements(By.XPATH,'//h2[@itemprop=\"name\"]/a')\n",
    "for i in title_tags[0:10]:\n",
    "    job_title.append(i.text)"
   ]
  },
  {
   "cell_type": "code",
   "execution_count": 39,
   "id": "23b5ab14",
   "metadata": {},
   "outputs": [
    {
     "data": {
      "text/plain": [
       "['Clinical Data Analyst',\n",
       " 'Data Analyst 1',\n",
       " 'Data Analyst Urgent Recruitment',\n",
       " 'Data Analyst Urgent Recruitment',\n",
       " 'Data Analyst Urgent Recruitment',\n",
       " 'Clinical Data Analyst',\n",
       " 'Hiring For Data Analyst',\n",
       " 'Data Analyst',\n",
       " 'Data Analyst',\n",
       " 'Apply Now a Data Analyst']"
      ]
     },
     "execution_count": 39,
     "metadata": {},
     "output_type": "execute_result"
    }
   ],
   "source": [
    "job_title"
   ]
  },
  {
   "cell_type": "code",
   "execution_count": 58,
   "id": "ab720884",
   "metadata": {},
   "outputs": [],
   "source": [
    "#scraping job location\n",
    "job_location.clear()\n",
    "loc_tags = driver.find_elements(By.XPATH,'//div[@class=\" jobCard_jobCard_lists_item__YxRkV jobCard_locationIcon__zrWt2\"]')\n",
    "import re\n",
    "for i in loc_tags[0:10]:\n",
    "    line=re.sub(r'\\n\\+\\d+','',i.text)\n",
    "    job_location.append(line.strip())"
   ]
  },
  {
   "cell_type": "code",
   "execution_count": 59,
   "id": "7c419628",
   "metadata": {},
   "outputs": [
    {
     "data": {
      "text/plain": [
       "['Bangalore',\n",
       " 'Bangalore',\n",
       " 'Bangalore',\n",
       " 'Bangalore',\n",
       " 'Bangalore',\n",
       " 'Bangalore',\n",
       " 'Bangalore',\n",
       " 'Bangalore',\n",
       " 'Bangalore',\n",
       " 'Bangalore']"
      ]
     },
     "execution_count": 59,
     "metadata": {},
     "output_type": "execute_result"
    }
   ],
   "source": [
    "job_location"
   ]
  },
  {
   "cell_type": "code",
   "execution_count": 60,
   "id": "7ed662c8",
   "metadata": {},
   "outputs": [],
   "source": [
    "#scraping company name \n",
    "company_name.clear()\n",
    "com_tags = driver.find_elements(By.XPATH,'//div[@class=\"jobCard_jobCard_cName__mYnow\"]/span')\n",
    "for i in com_tags[0:10]:\n",
    "    company_name.append(i.text)"
   ]
  },
  {
   "cell_type": "code",
   "execution_count": 61,
   "id": "1cca80b5",
   "metadata": {},
   "outputs": [
    {
     "data": {
      "text/plain": [
       "['quiscon biotech',\n",
       " 'merck ltd',\n",
       " 'divya interprises',\n",
       " 'divya interprises',\n",
       " 'divya interprises',\n",
       " 'techno endura',\n",
       " 'divya interprises',\n",
       " 'v-tech data outsourcing',\n",
       " 'deuglo infosystem private limited',\n",
       " 'deuglo infosystem private limited']"
      ]
     },
     "execution_count": 61,
     "metadata": {},
     "output_type": "execute_result"
    }
   ],
   "source": [
    "company_name"
   ]
  },
  {
   "cell_type": "code",
   "execution_count": 62,
   "id": "16e62e2b",
   "metadata": {},
   "outputs": [],
   "source": [
    "#scraping experience required\n",
    "experience_required.clear()\n",
    "exp_tags = driver.find_elements(By.XPATH,'//div[@class=\" jobCard_jobCard_lists_item__YxRkV jobCard_jobIcon__3FB1t\"]')\n",
    "for i in exp_tags[0:10]:\n",
    "    experience_required.append(i.text)"
   ]
  },
  {
   "cell_type": "code",
   "execution_count": 63,
   "id": "53e4db7f",
   "metadata": {},
   "outputs": [
    {
     "data": {
      "text/plain": [
       "['0 to 2 Yrs',\n",
       " '1 to 3 Yrs',\n",
       " '0 to 4 Yrs',\n",
       " '0 to 4 Yrs',\n",
       " '0 to 4 Yrs',\n",
       " '0 to 1 Yr',\n",
       " '0 to 4 Yrs',\n",
       " '0 to 2 Yrs',\n",
       " '1 to 2 Yrs',\n",
       " '1 to 2 Yrs']"
      ]
     },
     "execution_count": 63,
     "metadata": {},
     "output_type": "execute_result"
    }
   ],
   "source": [
    "experience_required"
   ]
  },
  {
   "cell_type": "code",
   "execution_count": 64,
   "id": "bd8092ac",
   "metadata": {},
   "outputs": [],
   "source": [
    "import pandas as pd"
   ]
  },
  {
   "cell_type": "code",
   "execution_count": 65,
   "id": "c5d1867f",
   "metadata": {},
   "outputs": [],
   "source": [
    "df = pd.DataFrame({'Title':job_title,'Comapany':company_name,'Location':job_location,'Experience':experience_required})"
   ]
  },
  {
   "cell_type": "code",
   "execution_count": 66,
   "id": "ecab6b75",
   "metadata": {},
   "outputs": [
    {
     "data": {
      "text/html": [
       "<div>\n",
       "<style scoped>\n",
       "    .dataframe tbody tr th:only-of-type {\n",
       "        vertical-align: middle;\n",
       "    }\n",
       "\n",
       "    .dataframe tbody tr th {\n",
       "        vertical-align: top;\n",
       "    }\n",
       "\n",
       "    .dataframe thead th {\n",
       "        text-align: right;\n",
       "    }\n",
       "</style>\n",
       "<table border=\"1\" class=\"dataframe\">\n",
       "  <thead>\n",
       "    <tr style=\"text-align: right;\">\n",
       "      <th></th>\n",
       "      <th>Title</th>\n",
       "      <th>Comapany</th>\n",
       "      <th>Location</th>\n",
       "      <th>Experience</th>\n",
       "    </tr>\n",
       "  </thead>\n",
       "  <tbody>\n",
       "    <tr>\n",
       "      <th>0</th>\n",
       "      <td>Clinical Data Analyst</td>\n",
       "      <td>quiscon biotech</td>\n",
       "      <td>Bangalore</td>\n",
       "      <td>0 to 2 Yrs</td>\n",
       "    </tr>\n",
       "    <tr>\n",
       "      <th>1</th>\n",
       "      <td>Data Analyst 1</td>\n",
       "      <td>merck ltd</td>\n",
       "      <td>Bangalore</td>\n",
       "      <td>1 to 3 Yrs</td>\n",
       "    </tr>\n",
       "    <tr>\n",
       "      <th>2</th>\n",
       "      <td>Data Analyst Urgent Recruitment</td>\n",
       "      <td>divya interprises</td>\n",
       "      <td>Bangalore</td>\n",
       "      <td>0 to 4 Yrs</td>\n",
       "    </tr>\n",
       "    <tr>\n",
       "      <th>3</th>\n",
       "      <td>Data Analyst Urgent Recruitment</td>\n",
       "      <td>divya interprises</td>\n",
       "      <td>Bangalore</td>\n",
       "      <td>0 to 4 Yrs</td>\n",
       "    </tr>\n",
       "    <tr>\n",
       "      <th>4</th>\n",
       "      <td>Data Analyst Urgent Recruitment</td>\n",
       "      <td>divya interprises</td>\n",
       "      <td>Bangalore</td>\n",
       "      <td>0 to 4 Yrs</td>\n",
       "    </tr>\n",
       "    <tr>\n",
       "      <th>5</th>\n",
       "      <td>Clinical Data Analyst</td>\n",
       "      <td>techno endura</td>\n",
       "      <td>Bangalore</td>\n",
       "      <td>0 to 1 Yr</td>\n",
       "    </tr>\n",
       "    <tr>\n",
       "      <th>6</th>\n",
       "      <td>Hiring For Data Analyst</td>\n",
       "      <td>divya interprises</td>\n",
       "      <td>Bangalore</td>\n",
       "      <td>0 to 4 Yrs</td>\n",
       "    </tr>\n",
       "    <tr>\n",
       "      <th>7</th>\n",
       "      <td>Data Analyst</td>\n",
       "      <td>v-tech data outsourcing</td>\n",
       "      <td>Bangalore</td>\n",
       "      <td>0 to 2 Yrs</td>\n",
       "    </tr>\n",
       "    <tr>\n",
       "      <th>8</th>\n",
       "      <td>Data Analyst</td>\n",
       "      <td>deuglo infosystem private limited</td>\n",
       "      <td>Bangalore</td>\n",
       "      <td>1 to 2 Yrs</td>\n",
       "    </tr>\n",
       "    <tr>\n",
       "      <th>9</th>\n",
       "      <td>Apply Now a Data Analyst</td>\n",
       "      <td>deuglo infosystem private limited</td>\n",
       "      <td>Bangalore</td>\n",
       "      <td>1 to 2 Yrs</td>\n",
       "    </tr>\n",
       "  </tbody>\n",
       "</table>\n",
       "</div>"
      ],
      "text/plain": [
       "                             Title                           Comapany  \\\n",
       "0            Clinical Data Analyst                    quiscon biotech   \n",
       "1                   Data Analyst 1                          merck ltd   \n",
       "2  Data Analyst Urgent Recruitment                  divya interprises   \n",
       "3  Data Analyst Urgent Recruitment                  divya interprises   \n",
       "4  Data Analyst Urgent Recruitment                  divya interprises   \n",
       "5            Clinical Data Analyst                      techno endura   \n",
       "6          Hiring For Data Analyst                  divya interprises   \n",
       "7                     Data Analyst            v-tech data outsourcing   \n",
       "8                     Data Analyst  deuglo infosystem private limited   \n",
       "9         Apply Now a Data Analyst  deuglo infosystem private limited   \n",
       "\n",
       "    Location  Experience  \n",
       "0  Bangalore  0 to 2 Yrs  \n",
       "1  Bangalore  1 to 3 Yrs  \n",
       "2  Bangalore  0 to 4 Yrs  \n",
       "3  Bangalore  0 to 4 Yrs  \n",
       "4  Bangalore  0 to 4 Yrs  \n",
       "5  Bangalore   0 to 1 Yr  \n",
       "6  Bangalore  0 to 4 Yrs  \n",
       "7  Bangalore  0 to 2 Yrs  \n",
       "8  Bangalore  1 to 2 Yrs  \n",
       "9  Bangalore  1 to 2 Yrs  "
      ]
     },
     "execution_count": 66,
     "metadata": {},
     "output_type": "execute_result"
    }
   ],
   "source": [
    "df"
   ]
  },
  {
   "cell_type": "code",
   "execution_count": null,
   "id": "b7465cfa",
   "metadata": {},
   "outputs": [],
   "source": []
  },
  {
   "cell_type": "markdown",
   "id": "b96c0a15",
   "metadata": {},
   "source": [
    "# Question no 2"
   ]
  },
  {
   "cell_type": "code",
   "execution_count": 67,
   "id": "c9b4331a",
   "metadata": {},
   "outputs": [],
   "source": [
    "driver = webdriver.Chrome()"
   ]
  },
  {
   "cell_type": "code",
   "execution_count": 68,
   "id": "bd9c1100",
   "metadata": {},
   "outputs": [],
   "source": [
    "driver.get('https://www.shine.com/')"
   ]
  },
  {
   "cell_type": "code",
   "execution_count": 69,
   "id": "f64b5e7c",
   "metadata": {},
   "outputs": [],
   "source": [
    "job_title = []\n",
    "job_location = []\n",
    "company_name = []\n"
   ]
  },
  {
   "cell_type": "code",
   "execution_count": 70,
   "id": "12c6b959",
   "metadata": {},
   "outputs": [],
   "source": [
    "designation = driver.find_element(By.XPATH,'/html/body/div/header[2]/div[2]/div[1]/input')\n",
    "designation.send_keys(\"Data Scientist\")"
   ]
  },
  {
   "cell_type": "code",
   "execution_count": 71,
   "id": "2c5506d9",
   "metadata": {},
   "outputs": [],
   "source": [
    "designation.click()"
   ]
  },
  {
   "cell_type": "code",
   "execution_count": 72,
   "id": "ff1fb313",
   "metadata": {},
   "outputs": [],
   "source": [
    "title = driver.find_element(By.XPATH,'/html/body/div/div[4]/div/div[2]/div[2]/div/form/div/div[1]/ul/li[1]/div/input')\n",
    "title.send_keys('Data Scientist')"
   ]
  },
  {
   "cell_type": "code",
   "execution_count": 73,
   "id": "c3fe9ec6",
   "metadata": {},
   "outputs": [],
   "source": [
    "loc = driver.find_element(By.XPATH,'/html/body/div/div[4]/div/div[2]/div[2]/div/form/div/div[1]/ul/li[2]/div/input')\n",
    "loc.send_keys('Bangalore')"
   ]
  },
  {
   "cell_type": "code",
   "execution_count": 75,
   "id": "5cfb37ac",
   "metadata": {},
   "outputs": [],
   "source": [
    "search = driver.find_element(By.XPATH,'/html/body/div/div[4]/div/div[2]/div[2]/div/form/div/div[2]/div/button')\n",
    "search.click()"
   ]
  },
  {
   "cell_type": "code",
   "execution_count": 76,
   "id": "c4f0da9c",
   "metadata": {},
   "outputs": [],
   "source": [
    "#scraping job title\n",
    "job_title.clear()\n",
    "title_tags = driver.find_elements(By.XPATH,'//h2[@itemprop=\"name\"]/a')\n",
    "for i in title_tags[0:10]:\n",
    "    job_title.append(i.text)"
   ]
  },
  {
   "cell_type": "code",
   "execution_count": 77,
   "id": "0cd1ea23",
   "metadata": {},
   "outputs": [
    {
     "data": {
      "text/plain": [
       "['Data Scientist Urgent Recruitment',\n",
       " 'Data Scientist- Bangalore',\n",
       " 'Data Scientist AI ML CV',\n",
       " 'Data Scientist AI ML NLP',\n",
       " 'Phd Data Scientist',\n",
       " 'Data Scientist-Bangalore',\n",
       " 'Hiring For Data Scientist',\n",
       " 'Data Scientist',\n",
       " 'Staff Data Scientist & Team Lead',\n",
       " 'Data Scientist Associate Sr - NLP']"
      ]
     },
     "execution_count": 77,
     "metadata": {},
     "output_type": "execute_result"
    }
   ],
   "source": [
    "job_title"
   ]
  },
  {
   "cell_type": "code",
   "execution_count": 80,
   "id": "8571329b",
   "metadata": {},
   "outputs": [],
   "source": [
    "#scraping job location \n",
    "job_location.clear()\n",
    "loc_tags = driver.find_elements(By.XPATH,'//div[@class=\" jobCard_jobCard_lists_item__YxRkV jobCard_locationIcon__zrWt2\"]')\n",
    "for i in loc_tags[0:10]:\n",
    "    line=re.sub(r'\\n\\+\\d+','',i.text)\n",
    "    job_location.append(line.strip())\n",
    "    "
   ]
  },
  {
   "cell_type": "code",
   "execution_count": 81,
   "id": "614eaa21",
   "metadata": {},
   "outputs": [
    {
     "data": {
      "text/plain": [
       "['Bangalore',\n",
       " 'Bangalore',\n",
       " 'Bangalore',\n",
       " 'Bangalore',\n",
       " 'Bangalore',\n",
       " 'Bangalore',\n",
       " 'Bangalore',\n",
       " 'Bangalore',\n",
       " 'Bangalore',\n",
       " 'Bangalore']"
      ]
     },
     "execution_count": 81,
     "metadata": {},
     "output_type": "execute_result"
    }
   ],
   "source": [
    "job_location"
   ]
  },
  {
   "cell_type": "code",
   "execution_count": 83,
   "id": "b2316f63",
   "metadata": {},
   "outputs": [],
   "source": [
    "#scraping company name\n",
    "company_name.clear()\n",
    "name_tags = driver.find_elements(By.XPATH,'//div[@class=\"jobCard_jobCard_cName__mYnow\"]/span')\n",
    "for i in name_tags[0:10]:\n",
    "    company_name.append(i.text)"
   ]
  },
  {
   "cell_type": "code",
   "execution_count": 85,
   "id": "8ff81431",
   "metadata": {},
   "outputs": [
    {
     "data": {
      "text/plain": [
       "['divya interprises',\n",
       " 'the fashion cosmo',\n",
       " 'bosch group',\n",
       " 'bosch group',\n",
       " 'bosch group',\n",
       " 'shiva hr services',\n",
       " 'divya interprises',\n",
       " 'racanaa energy solution private lim...',\n",
       " 'true caller',\n",
       " 'jpmorgan']"
      ]
     },
     "execution_count": 85,
     "metadata": {},
     "output_type": "execute_result"
    }
   ],
   "source": [
    "company_name"
   ]
  },
  {
   "cell_type": "code",
   "execution_count": 86,
   "id": "1275bbce",
   "metadata": {},
   "outputs": [],
   "source": [
    "#creating dataframe\n",
    "df = pd.DataFrame({'Title':job_title,'Company':company_name,'Location':job_location})"
   ]
  },
  {
   "cell_type": "code",
   "execution_count": 87,
   "id": "1ef2ef71",
   "metadata": {},
   "outputs": [
    {
     "data": {
      "text/html": [
       "<div>\n",
       "<style scoped>\n",
       "    .dataframe tbody tr th:only-of-type {\n",
       "        vertical-align: middle;\n",
       "    }\n",
       "\n",
       "    .dataframe tbody tr th {\n",
       "        vertical-align: top;\n",
       "    }\n",
       "\n",
       "    .dataframe thead th {\n",
       "        text-align: right;\n",
       "    }\n",
       "</style>\n",
       "<table border=\"1\" class=\"dataframe\">\n",
       "  <thead>\n",
       "    <tr style=\"text-align: right;\">\n",
       "      <th></th>\n",
       "      <th>Title</th>\n",
       "      <th>Company</th>\n",
       "      <th>Location</th>\n",
       "    </tr>\n",
       "  </thead>\n",
       "  <tbody>\n",
       "    <tr>\n",
       "      <th>0</th>\n",
       "      <td>Data Scientist Urgent Recruitment</td>\n",
       "      <td>divya interprises</td>\n",
       "      <td>Bangalore</td>\n",
       "    </tr>\n",
       "    <tr>\n",
       "      <th>1</th>\n",
       "      <td>Data Scientist- Bangalore</td>\n",
       "      <td>the fashion cosmo</td>\n",
       "      <td>Bangalore</td>\n",
       "    </tr>\n",
       "    <tr>\n",
       "      <th>2</th>\n",
       "      <td>Data Scientist AI ML CV</td>\n",
       "      <td>bosch group</td>\n",
       "      <td>Bangalore</td>\n",
       "    </tr>\n",
       "    <tr>\n",
       "      <th>3</th>\n",
       "      <td>Data Scientist AI ML NLP</td>\n",
       "      <td>bosch group</td>\n",
       "      <td>Bangalore</td>\n",
       "    </tr>\n",
       "    <tr>\n",
       "      <th>4</th>\n",
       "      <td>Phd Data Scientist</td>\n",
       "      <td>bosch group</td>\n",
       "      <td>Bangalore</td>\n",
       "    </tr>\n",
       "    <tr>\n",
       "      <th>5</th>\n",
       "      <td>Data Scientist-Bangalore</td>\n",
       "      <td>shiva hr services</td>\n",
       "      <td>Bangalore</td>\n",
       "    </tr>\n",
       "    <tr>\n",
       "      <th>6</th>\n",
       "      <td>Hiring For Data Scientist</td>\n",
       "      <td>divya interprises</td>\n",
       "      <td>Bangalore</td>\n",
       "    </tr>\n",
       "    <tr>\n",
       "      <th>7</th>\n",
       "      <td>Data Scientist</td>\n",
       "      <td>racanaa energy solution private lim...</td>\n",
       "      <td>Bangalore</td>\n",
       "    </tr>\n",
       "    <tr>\n",
       "      <th>8</th>\n",
       "      <td>Staff Data Scientist &amp; Team Lead</td>\n",
       "      <td>true caller</td>\n",
       "      <td>Bangalore</td>\n",
       "    </tr>\n",
       "    <tr>\n",
       "      <th>9</th>\n",
       "      <td>Data Scientist Associate Sr - NLP</td>\n",
       "      <td>jpmorgan</td>\n",
       "      <td>Bangalore</td>\n",
       "    </tr>\n",
       "  </tbody>\n",
       "</table>\n",
       "</div>"
      ],
      "text/plain": [
       "                               Title                                 Company  \\\n",
       "0  Data Scientist Urgent Recruitment                       divya interprises   \n",
       "1          Data Scientist- Bangalore                       the fashion cosmo   \n",
       "2            Data Scientist AI ML CV                             bosch group   \n",
       "3           Data Scientist AI ML NLP                             bosch group   \n",
       "4                 Phd Data Scientist                             bosch group   \n",
       "5           Data Scientist-Bangalore                       shiva hr services   \n",
       "6          Hiring For Data Scientist                       divya interprises   \n",
       "7                     Data Scientist  racanaa energy solution private lim...   \n",
       "8   Staff Data Scientist & Team Lead                             true caller   \n",
       "9  Data Scientist Associate Sr - NLP                                jpmorgan   \n",
       "\n",
       "    Location  \n",
       "0  Bangalore  \n",
       "1  Bangalore  \n",
       "2  Bangalore  \n",
       "3  Bangalore  \n",
       "4  Bangalore  \n",
       "5  Bangalore  \n",
       "6  Bangalore  \n",
       "7  Bangalore  \n",
       "8  Bangalore  \n",
       "9  Bangalore  "
      ]
     },
     "execution_count": 87,
     "metadata": {},
     "output_type": "execute_result"
    }
   ],
   "source": [
    "df"
   ]
  },
  {
   "cell_type": "code",
   "execution_count": null,
   "id": "e98333f3",
   "metadata": {},
   "outputs": [],
   "source": []
  },
  {
   "cell_type": "markdown",
   "id": "539535eb",
   "metadata": {},
   "source": [
    "# Question no 3"
   ]
  },
  {
   "cell_type": "code",
   "execution_count": 88,
   "id": "61441af0",
   "metadata": {},
   "outputs": [],
   "source": [
    "driver = webdriver.Chrome()"
   ]
  },
  {
   "cell_type": "code",
   "execution_count": 89,
   "id": "9a5759c3",
   "metadata": {},
   "outputs": [],
   "source": [
    "driver.get('https://www.shine.com/')"
   ]
  },
  {
   "cell_type": "code",
   "execution_count": 90,
   "id": "1fffa0df",
   "metadata": {},
   "outputs": [],
   "source": [
    "job_title =[]\n",
    "job_location=[]\n",
    "company_name=[]\n",
    "experience_required=[]"
   ]
  },
  {
   "cell_type": "code",
   "execution_count": 91,
   "id": "c5b2d404",
   "metadata": {},
   "outputs": [],
   "source": [
    "designation = driver.find_element(By.XPATH,'/html/body/div/header[2]/div[2]/div[1]/input')\n",
    "designation.send_keys('Data Scientist')"
   ]
  },
  {
   "cell_type": "code",
   "execution_count": 92,
   "id": "06c6f77e",
   "metadata": {},
   "outputs": [],
   "source": [
    "designation.click()"
   ]
  },
  {
   "cell_type": "code",
   "execution_count": 93,
   "id": "87fa4fdb",
   "metadata": {},
   "outputs": [],
   "source": [
    "title = driver.find_element(By.XPATH,'/html/body/div/div[4]/div/div[2]/div[2]/div/form/div/div[1]/ul/li[1]/div/input')\n",
    "title.send_keys('Data Scientist')"
   ]
  },
  {
   "cell_type": "code",
   "execution_count": 94,
   "id": "5d35b692",
   "metadata": {},
   "outputs": [],
   "source": [
    "search = driver.find_element(By.XPATH,'/html/body/div/div[4]/div/div[2]/div[2]/div/form/div/div[2]/div/button')\n",
    "search.click()"
   ]
  },
  {
   "cell_type": "code",
   "execution_count": 95,
   "id": "18d3f1ba",
   "metadata": {},
   "outputs": [],
   "source": [
    "loc_filter = driver.find_element(By.XPATH,'/html/body/div[1]/div[1]/div[3]/div/div[1]/div/div[2]/div/ul/li[1]/button')\n",
    "loc_filter.click()"
   ]
  },
  {
   "cell_type": "code",
   "execution_count": 96,
   "id": "05e54d38",
   "metadata": {},
   "outputs": [],
   "source": [
    "loc_enter = driver.find_element(By.XPATH,'/html/body/div[1]/div[1]/div[3]/div/div[1]/div/div[2]/div[2]/div/div/div/div[3]/div/div/div/ul/li[1]/input')\n",
    "loc_enter.send_keys('Delhi')"
   ]
  },
  {
   "cell_type": "code",
   "execution_count": 97,
   "id": "2c0bb43e",
   "metadata": {},
   "outputs": [],
   "source": [
    "loc_click = driver.find_element(By.XPATH,'/html/body/div[1]/div[1]/div[3]/div/div[1]/div/div[2]/div[2]/div/div/div/div[3]/div/div/div/ul/li[2]/span/label')\n",
    "loc_click.click()"
   ]
  },
  {
   "cell_type": "code",
   "execution_count": 98,
   "id": "9e2891dc",
   "metadata": {},
   "outputs": [],
   "source": [
    "sal_filter = driver.find_element(By.XPATH,'/html/body/div[1]/div[1]/div[3]/div/div[1]/div/div[2]/div[2]/div/div/div/div[3]/div/ul/li[3]')\n",
    "sal_filter.click()"
   ]
  },
  {
   "cell_type": "code",
   "execution_count": 99,
   "id": "7f45bc12",
   "metadata": {},
   "outputs": [],
   "source": [
    "sal_select = driver.find_element(By.XPATH,'/html/body/div[1]/div[1]/div[3]/div/div[1]/div/div[2]/div[2]/div/div/div/div[3]/div/div/div/ul/li[3]/span/label')\n",
    "sal_select.click()"
   ]
  },
  {
   "cell_type": "code",
   "execution_count": 100,
   "id": "d5753226",
   "metadata": {},
   "outputs": [],
   "source": [
    "show_result = driver.find_element(By.XPATH,'/html/body/div[1]/div[1]/div[3]/div/div[1]/div/div[2]/div[2]/div/div/div/div[4]/button[2]')\n",
    "show_result.click()"
   ]
  },
  {
   "cell_type": "code",
   "execution_count": 101,
   "id": "e2a61fa5",
   "metadata": {},
   "outputs": [],
   "source": [
    "#scraping job title\n",
    "job_title.clear()\n",
    "title_tags = driver.find_elements(By.XPATH,'//h2[@itemprop=\"name\"]/a')\n",
    "for i in title_tags[0:10]:\n",
    "    job_title.append(i.text)"
   ]
  },
  {
   "cell_type": "code",
   "execution_count": 102,
   "id": "575d49d2",
   "metadata": {},
   "outputs": [
    {
     "data": {
      "text/plain": [
       "['Data Scientist- Delhi',\n",
       " 'Data Scientist-Delhi',\n",
       " 'Data Scientist- Delhi',\n",
       " 'Data Scientist- Delhi',\n",
       " 'Data Scientist',\n",
       " 'Data Scientist',\n",
       " 'Clinical Data Analyst',\n",
       " 'Data Modeler',\n",
       " 'Data Scientist',\n",
       " 'Biostatistician']"
      ]
     },
     "execution_count": 102,
     "metadata": {},
     "output_type": "execute_result"
    }
   ],
   "source": [
    "job_title"
   ]
  },
  {
   "cell_type": "code",
   "execution_count": 105,
   "id": "dcfb959f",
   "metadata": {},
   "outputs": [],
   "source": [
    "#scraping job location \n",
    "job_location.clear()\n",
    "loc_tags = driver.find_elements(By.XPATH,'//div[@class=\" jobCard_jobCard_lists_item__YxRkV jobCard_locationIcon__zrWt2\"]')\n",
    "for i in loc_tags[0:10]:\n",
    "    line = re.sub(r'\\n\\+\\d+','',i.text)\n",
    "    job_location.append(line.strip())"
   ]
  },
  {
   "cell_type": "code",
   "execution_count": 106,
   "id": "a3634eff",
   "metadata": {},
   "outputs": [
    {
     "data": {
      "text/plain": [
       "['Delhi',\n",
       " 'Delhi',\n",
       " 'Delhi',\n",
       " 'Delhi',\n",
       " 'Delhi',\n",
       " 'Delhi',\n",
       " 'Delhi',\n",
       " 'Delhi',\n",
       " 'Delhi',\n",
       " 'Delhi']"
      ]
     },
     "execution_count": 106,
     "metadata": {},
     "output_type": "execute_result"
    }
   ],
   "source": [
    "job_location"
   ]
  },
  {
   "cell_type": "code",
   "execution_count": 107,
   "id": "95f722d1",
   "metadata": {},
   "outputs": [],
   "source": [
    "#scraping company name\n",
    "company_name.clear()\n",
    "name_tags = driver.find_elements(By.XPATH,'//div[@class=\"jobCard_jobCard_cName__mYnow\"]/span')\n",
    "for i in name_tags[0:10]:\n",
    "    company_name.append(i.text)"
   ]
  },
  {
   "cell_type": "code",
   "execution_count": 108,
   "id": "669870f2",
   "metadata": {},
   "outputs": [
    {
     "data": {
      "text/plain": [
       "['the fashion cosmo',\n",
       " 'shiva hr services',\n",
       " 'the fashion cosmo',\n",
       " 'the fashion cosmo',\n",
       " 'acme services private limited',\n",
       " 'quiscon biotech',\n",
       " 'techno endura',\n",
       " 'v-tech data outsourcing',\n",
       " 'acme services private limited',\n",
       " 'national seeds corporation limited']"
      ]
     },
     "execution_count": 108,
     "metadata": {},
     "output_type": "execute_result"
    }
   ],
   "source": [
    "company_name"
   ]
  },
  {
   "cell_type": "code",
   "execution_count": 109,
   "id": "7e0d8ed4",
   "metadata": {},
   "outputs": [],
   "source": [
    "#scraping experience required\n",
    "experience_required.clear()\n",
    "exp_tags = driver.find_elements(By.XPATH,'//div[@class=\" jobCard_jobCard_lists_item__YxRkV jobCard_jobIcon__3FB1t\"]')\n",
    "for i in exp_tags[0:10]:\n",
    "    experience_required.append(i.text)\n",
    "    "
   ]
  },
  {
   "cell_type": "code",
   "execution_count": 110,
   "id": "59578964",
   "metadata": {},
   "outputs": [
    {
     "data": {
      "text/plain": [
       "['0 to 3 Yrs',\n",
       " '0 to 3 Yrs',\n",
       " '0 to 3 Yrs',\n",
       " '0 to 3 Yrs',\n",
       " '3 to 5 Yrs',\n",
       " '0 to 1 Yr',\n",
       " '0 to 1 Yr',\n",
       " '0 to 2 Yrs',\n",
       " '3 to 5 Yrs',\n",
       " '1 to 6 Yrs']"
      ]
     },
     "execution_count": 110,
     "metadata": {},
     "output_type": "execute_result"
    }
   ],
   "source": [
    "experience_required"
   ]
  },
  {
   "cell_type": "code",
   "execution_count": 111,
   "id": "e3aad2fb",
   "metadata": {},
   "outputs": [],
   "source": [
    "#creating dataframe\n",
    "df = pd.DataFrame({'Title':job_title,'Company':company_name,'Location':job_location,'Experience':experience_required})"
   ]
  },
  {
   "cell_type": "code",
   "execution_count": 112,
   "id": "44ea1196",
   "metadata": {},
   "outputs": [
    {
     "data": {
      "text/html": [
       "<div>\n",
       "<style scoped>\n",
       "    .dataframe tbody tr th:only-of-type {\n",
       "        vertical-align: middle;\n",
       "    }\n",
       "\n",
       "    .dataframe tbody tr th {\n",
       "        vertical-align: top;\n",
       "    }\n",
       "\n",
       "    .dataframe thead th {\n",
       "        text-align: right;\n",
       "    }\n",
       "</style>\n",
       "<table border=\"1\" class=\"dataframe\">\n",
       "  <thead>\n",
       "    <tr style=\"text-align: right;\">\n",
       "      <th></th>\n",
       "      <th>Title</th>\n",
       "      <th>Company</th>\n",
       "      <th>Location</th>\n",
       "      <th>Experience</th>\n",
       "    </tr>\n",
       "  </thead>\n",
       "  <tbody>\n",
       "    <tr>\n",
       "      <th>0</th>\n",
       "      <td>Data Scientist- Delhi</td>\n",
       "      <td>the fashion cosmo</td>\n",
       "      <td>Delhi</td>\n",
       "      <td>0 to 3 Yrs</td>\n",
       "    </tr>\n",
       "    <tr>\n",
       "      <th>1</th>\n",
       "      <td>Data Scientist-Delhi</td>\n",
       "      <td>shiva hr services</td>\n",
       "      <td>Delhi</td>\n",
       "      <td>0 to 3 Yrs</td>\n",
       "    </tr>\n",
       "    <tr>\n",
       "      <th>2</th>\n",
       "      <td>Data Scientist- Delhi</td>\n",
       "      <td>the fashion cosmo</td>\n",
       "      <td>Delhi</td>\n",
       "      <td>0 to 3 Yrs</td>\n",
       "    </tr>\n",
       "    <tr>\n",
       "      <th>3</th>\n",
       "      <td>Data Scientist- Delhi</td>\n",
       "      <td>the fashion cosmo</td>\n",
       "      <td>Delhi</td>\n",
       "      <td>0 to 3 Yrs</td>\n",
       "    </tr>\n",
       "    <tr>\n",
       "      <th>4</th>\n",
       "      <td>Data Scientist</td>\n",
       "      <td>acme services private limited</td>\n",
       "      <td>Delhi</td>\n",
       "      <td>3 to 5 Yrs</td>\n",
       "    </tr>\n",
       "    <tr>\n",
       "      <th>5</th>\n",
       "      <td>Data Scientist</td>\n",
       "      <td>quiscon biotech</td>\n",
       "      <td>Delhi</td>\n",
       "      <td>0 to 1 Yr</td>\n",
       "    </tr>\n",
       "    <tr>\n",
       "      <th>6</th>\n",
       "      <td>Clinical Data Analyst</td>\n",
       "      <td>techno endura</td>\n",
       "      <td>Delhi</td>\n",
       "      <td>0 to 1 Yr</td>\n",
       "    </tr>\n",
       "    <tr>\n",
       "      <th>7</th>\n",
       "      <td>Data Modeler</td>\n",
       "      <td>v-tech data outsourcing</td>\n",
       "      <td>Delhi</td>\n",
       "      <td>0 to 2 Yrs</td>\n",
       "    </tr>\n",
       "    <tr>\n",
       "      <th>8</th>\n",
       "      <td>Data Scientist</td>\n",
       "      <td>acme services private limited</td>\n",
       "      <td>Delhi</td>\n",
       "      <td>3 to 5 Yrs</td>\n",
       "    </tr>\n",
       "    <tr>\n",
       "      <th>9</th>\n",
       "      <td>Biostatistician</td>\n",
       "      <td>national seeds corporation limited</td>\n",
       "      <td>Delhi</td>\n",
       "      <td>1 to 6 Yrs</td>\n",
       "    </tr>\n",
       "  </tbody>\n",
       "</table>\n",
       "</div>"
      ],
      "text/plain": [
       "                   Title                             Company Location  \\\n",
       "0  Data Scientist- Delhi                   the fashion cosmo    Delhi   \n",
       "1   Data Scientist-Delhi                   shiva hr services    Delhi   \n",
       "2  Data Scientist- Delhi                   the fashion cosmo    Delhi   \n",
       "3  Data Scientist- Delhi                   the fashion cosmo    Delhi   \n",
       "4         Data Scientist       acme services private limited    Delhi   \n",
       "5         Data Scientist                     quiscon biotech    Delhi   \n",
       "6  Clinical Data Analyst                       techno endura    Delhi   \n",
       "7           Data Modeler             v-tech data outsourcing    Delhi   \n",
       "8         Data Scientist       acme services private limited    Delhi   \n",
       "9        Biostatistician  national seeds corporation limited    Delhi   \n",
       "\n",
       "   Experience  \n",
       "0  0 to 3 Yrs  \n",
       "1  0 to 3 Yrs  \n",
       "2  0 to 3 Yrs  \n",
       "3  0 to 3 Yrs  \n",
       "4  3 to 5 Yrs  \n",
       "5   0 to 1 Yr  \n",
       "6   0 to 1 Yr  \n",
       "7  0 to 2 Yrs  \n",
       "8  3 to 5 Yrs  \n",
       "9  1 to 6 Yrs  "
      ]
     },
     "execution_count": 112,
     "metadata": {},
     "output_type": "execute_result"
    }
   ],
   "source": [
    "df"
   ]
  },
  {
   "cell_type": "code",
   "execution_count": null,
   "id": "a4c1bf38",
   "metadata": {},
   "outputs": [],
   "source": []
  },
  {
   "cell_type": "markdown",
   "id": "47b70a1f",
   "metadata": {},
   "source": [
    "# Question no 4"
   ]
  },
  {
   "cell_type": "code",
   "execution_count": 118,
   "id": "29121ade",
   "metadata": {},
   "outputs": [],
   "source": [
    "driver = webdriver.Chrome()"
   ]
  },
  {
   "cell_type": "code",
   "execution_count": 119,
   "id": "012d8f18",
   "metadata": {},
   "outputs": [],
   "source": [
    "driver.get('https://www.flipkart.com/')"
   ]
  },
  {
   "cell_type": "code",
   "execution_count": 120,
   "id": "5b3aad65",
   "metadata": {},
   "outputs": [],
   "source": [
    "title = driver.find_element(By.XPATH,'/html/body/div[1]/div/div[1]/div/div/div/div/div[1]/div/div[1]/div/div[1]/header/div[1]/div[2]/form/div/div/input')\n",
    "title.send_keys('sunglasses')\n"
   ]
  },
  {
   "cell_type": "code",
   "execution_count": 123,
   "id": "50a1bee0",
   "metadata": {},
   "outputs": [],
   "source": [
    "title.submit()"
   ]
  },
  {
   "cell_type": "code",
   "execution_count": 124,
   "id": "f55f8bf6",
   "metadata": {},
   "outputs": [],
   "source": [
    "brand=[]\n",
    "pdescription=[]\n",
    "price=[]\n",
    "discount=[]\n"
   ]
  },
  {
   "cell_type": "code",
   "execution_count": 125,
   "id": "709686b7",
   "metadata": {},
   "outputs": [],
   "source": [
    "#scraping everything at once\n",
    "brand.clear()\n",
    "pdescription.clear()\n",
    "price.clear()\n",
    "discount.clear()\n",
    "start = 0\n",
    "end = 3\n",
    "for page in range(start,end):\n",
    "    brand_tag = driver.find_elements(By.XPATH,'//div[@class=\"_2WkVRV\"]')\n",
    "    pdesc = driver.find_elements(By.XPATH,'//a[@class=\"IRpwTa\"]')\n",
    "    price_tag = driver.find_elements(By.XPATH,'//div[@class=\"_30jeq3\"]')\n",
    "    discount_tag = driver.find_elements(By.XPATH,'//div[@class=\"_3Ay6Sb\"]/span')\n",
    "    for i in brand_tag[0:100]:\n",
    "        brand.append(i.text)\n",
    "    for i in pdesc[0:100]:\n",
    "        pdescription.append(i.text)\n",
    "    for i in price_tag[0:100]:\n",
    "        price.append(i.text)\n",
    "    for i in discount_tag[0:100]:\n",
    "        discount.append(i.text)\n",
    "    "
   ]
  },
  {
   "cell_type": "code",
   "execution_count": 134,
   "id": "a6c96c19",
   "metadata": {},
   "outputs": [
    {
     "data": {
      "text/plain": [
       "(120, 120, 120, 120)"
      ]
     },
     "execution_count": 134,
     "metadata": {},
     "output_type": "execute_result"
    }
   ],
   "source": [
    "len(brand),len(pdescription),len(price),len(discount)"
   ]
  },
  {
   "cell_type": "code",
   "execution_count": 135,
   "id": "e3c3306d",
   "metadata": {},
   "outputs": [],
   "source": [
    "#creating dataframe\n",
    "df = pd.DataFrame({'Brand':brand,'Product-Description':pdescription,'Price':price,'Discount':discount})"
   ]
  },
  {
   "cell_type": "code",
   "execution_count": 136,
   "id": "d2745546",
   "metadata": {},
   "outputs": [],
   "source": [
    "df= df.head(100)"
   ]
  },
  {
   "cell_type": "code",
   "execution_count": 137,
   "id": "e4664a6f",
   "metadata": {},
   "outputs": [
    {
     "data": {
      "text/html": [
       "<div>\n",
       "<style scoped>\n",
       "    .dataframe tbody tr th:only-of-type {\n",
       "        vertical-align: middle;\n",
       "    }\n",
       "\n",
       "    .dataframe tbody tr th {\n",
       "        vertical-align: top;\n",
       "    }\n",
       "\n",
       "    .dataframe thead th {\n",
       "        text-align: right;\n",
       "    }\n",
       "</style>\n",
       "<table border=\"1\" class=\"dataframe\">\n",
       "  <thead>\n",
       "    <tr style=\"text-align: right;\">\n",
       "      <th></th>\n",
       "      <th>Brand</th>\n",
       "      <th>Product-Description</th>\n",
       "      <th>Price</th>\n",
       "      <th>Discount</th>\n",
       "    </tr>\n",
       "  </thead>\n",
       "  <tbody>\n",
       "    <tr>\n",
       "      <th>0</th>\n",
       "      <td>VINCENT CHASE</td>\n",
       "      <td>UV Protection Rectangular Sunglasses (53)</td>\n",
       "      <td>₹499</td>\n",
       "      <td>75% off</td>\n",
       "    </tr>\n",
       "    <tr>\n",
       "      <th>1</th>\n",
       "      <td>Silver Kartz</td>\n",
       "      <td>UV Protection Wayfarer Sunglasses (Free Size)</td>\n",
       "      <td>₹213</td>\n",
       "      <td>85% off</td>\n",
       "    </tr>\n",
       "    <tr>\n",
       "      <th>2</th>\n",
       "      <td>iCopertina</td>\n",
       "      <td>UV Protection Rectangular Sunglasses (Free Size)</td>\n",
       "      <td>₹199</td>\n",
       "      <td>80% off</td>\n",
       "    </tr>\n",
       "    <tr>\n",
       "      <th>3</th>\n",
       "      <td>Fastrack</td>\n",
       "      <td>UV Protection Wayfarer Sunglasses (58)</td>\n",
       "      <td>₹549</td>\n",
       "      <td>50% off</td>\n",
       "    </tr>\n",
       "    <tr>\n",
       "      <th>4</th>\n",
       "      <td>Rich Club</td>\n",
       "      <td>UV Protection Retro Square Sunglasses (54)</td>\n",
       "      <td>₹399</td>\n",
       "      <td>69% off</td>\n",
       "    </tr>\n",
       "    <tr>\n",
       "      <th>...</th>\n",
       "      <td>...</td>\n",
       "      <td>...</td>\n",
       "      <td>...</td>\n",
       "      <td>...</td>\n",
       "    </tr>\n",
       "    <tr>\n",
       "      <th>95</th>\n",
       "      <td>ROZZETTA CRAFT</td>\n",
       "      <td>UV Protection Aviator Sunglasses (62)</td>\n",
       "      <td>₹599</td>\n",
       "      <td>76% off</td>\n",
       "    </tr>\n",
       "    <tr>\n",
       "      <th>96</th>\n",
       "      <td>VINCENT CHASE</td>\n",
       "      <td>UV Protection Wayfarer Sunglasses (59)</td>\n",
       "      <td>₹519</td>\n",
       "      <td>74% off</td>\n",
       "    </tr>\n",
       "    <tr>\n",
       "      <th>97</th>\n",
       "      <td>Eyewearlabs</td>\n",
       "      <td>Polarized, UV Protection Wayfarer Sunglasses (51)</td>\n",
       "      <td>₹1,236</td>\n",
       "      <td>65% off</td>\n",
       "    </tr>\n",
       "    <tr>\n",
       "      <th>98</th>\n",
       "      <td>VINCENT CHASE</td>\n",
       "      <td>by Lenskart Polarized, UV Protection Retro Squ...</td>\n",
       "      <td>₹699</td>\n",
       "      <td>65% off</td>\n",
       "    </tr>\n",
       "    <tr>\n",
       "      <th>99</th>\n",
       "      <td>New Specs</td>\n",
       "      <td>UV Protection Rectangular Sunglasses (Free Size)</td>\n",
       "      <td>₹158</td>\n",
       "      <td>84% off</td>\n",
       "    </tr>\n",
       "  </tbody>\n",
       "</table>\n",
       "<p>100 rows × 4 columns</p>\n",
       "</div>"
      ],
      "text/plain": [
       "             Brand                                Product-Description   Price  \\\n",
       "0    VINCENT CHASE          UV Protection Rectangular Sunglasses (53)    ₹499   \n",
       "1     Silver Kartz      UV Protection Wayfarer Sunglasses (Free Size)    ₹213   \n",
       "2       iCopertina   UV Protection Rectangular Sunglasses (Free Size)    ₹199   \n",
       "3         Fastrack             UV Protection Wayfarer Sunglasses (58)    ₹549   \n",
       "4        Rich Club         UV Protection Retro Square Sunglasses (54)    ₹399   \n",
       "..             ...                                                ...     ...   \n",
       "95  ROZZETTA CRAFT              UV Protection Aviator Sunglasses (62)    ₹599   \n",
       "96   VINCENT CHASE             UV Protection Wayfarer Sunglasses (59)    ₹519   \n",
       "97     Eyewearlabs  Polarized, UV Protection Wayfarer Sunglasses (51)  ₹1,236   \n",
       "98   VINCENT CHASE  by Lenskart Polarized, UV Protection Retro Squ...    ₹699   \n",
       "99       New Specs   UV Protection Rectangular Sunglasses (Free Size)    ₹158   \n",
       "\n",
       "   Discount  \n",
       "0   75% off  \n",
       "1   85% off  \n",
       "2   80% off  \n",
       "3   50% off  \n",
       "4   69% off  \n",
       "..      ...  \n",
       "95  76% off  \n",
       "96  74% off  \n",
       "97  65% off  \n",
       "98  65% off  \n",
       "99  84% off  \n",
       "\n",
       "[100 rows x 4 columns]"
      ]
     },
     "execution_count": 137,
     "metadata": {},
     "output_type": "execute_result"
    }
   ],
   "source": [
    "df"
   ]
  },
  {
   "cell_type": "code",
   "execution_count": null,
   "id": "308a90d3",
   "metadata": {},
   "outputs": [],
   "source": []
  },
  {
   "cell_type": "markdown",
   "id": "aa4b9fa9",
   "metadata": {},
   "source": [
    "# Question no 5"
   ]
  },
  {
   "cell_type": "code",
   "execution_count": 19,
   "id": "9736b632",
   "metadata": {},
   "outputs": [],
   "source": [
    "driver = webdriver.Chrome()"
   ]
  },
  {
   "cell_type": "code",
   "execution_count": 20,
   "id": "fc1adabf",
   "metadata": {},
   "outputs": [],
   "source": [
    "driver.get('https://www.flipkart.com/apple-iphone-11-black-64-gb/product-reviews/itm4e5041ba101fd?pid=MOBFWQ6BXGJCEYNY&lid=LSTMOBFWQ6BXGJCEYNYZXSHRJ&marketplace=FLIPKART')"
   ]
  },
  {
   "cell_type": "code",
   "execution_count": 21,
   "id": "78f7a2b8",
   "metadata": {},
   "outputs": [],
   "source": [
    "rating= []\n",
    "review_summary = []\n",
    "full_review = []\n",
    "import time"
   ]
  },
  {
   "cell_type": "code",
   "execution_count": 23,
   "id": "a9311b24",
   "metadata": {},
   "outputs": [],
   "source": [
    "rating.clear()\n",
    "review_summary.clear()\n",
    "full_review.clear()\n",
    "\n",
    "start = 0\n",
    "end = 10\n",
    "for page in range(start,end):\n",
    "    rat_tag = driver.find_elements(By.XPATH,'//div[@class=\"_3LWZlK _1BLPMq\"]')\n",
    "    r_sum = driver.find_elements(By.XPATH,'//p[@class=\"_2-N8zT\"]')\n",
    "    full_sum = driver.find_elements(By.XPATH,'//div[@class=\"t-ZTKy\"]/div/div')\n",
    "    for i in rat_tag[0:100]:\n",
    "        rating.append(i.text)\n",
    "    for i in r_sum[0:100]:\n",
    "        review_summary.append(i.text)\n",
    "    for i in full_sum[0:100]:\n",
    "        full_review.append(i.text)\n",
    "    next_button = driver.find_element(By.XPATH,'//nav[@class=\"yFHi8N\"]//a')\n",
    "    next_button.click()\n",
    "    time.sleep(3)"
   ]
  },
  {
   "cell_type": "code",
   "execution_count": 27,
   "id": "496621fe",
   "metadata": {},
   "outputs": [
    {
     "data": {
      "text/plain": [
       "(100, 100, 100)"
      ]
     },
     "execution_count": 27,
     "metadata": {},
     "output_type": "execute_result"
    }
   ],
   "source": [
    "len(rating),len(full_review),len(review_summary)"
   ]
  },
  {
   "cell_type": "code",
   "execution_count": 28,
   "id": "16e39fc5",
   "metadata": {},
   "outputs": [],
   "source": [
    "#creating data frame\n",
    "import pandas as pd\n",
    "df = pd.DataFrame({'Review Title':review_summary,'Full Review':full_review,'Rating':rating})"
   ]
  },
  {
   "cell_type": "code",
   "execution_count": 29,
   "id": "2963e402",
   "metadata": {},
   "outputs": [
    {
     "data": {
      "text/html": [
       "<div>\n",
       "<style scoped>\n",
       "    .dataframe tbody tr th:only-of-type {\n",
       "        vertical-align: middle;\n",
       "    }\n",
       "\n",
       "    .dataframe tbody tr th {\n",
       "        vertical-align: top;\n",
       "    }\n",
       "\n",
       "    .dataframe thead th {\n",
       "        text-align: right;\n",
       "    }\n",
       "</style>\n",
       "<table border=\"1\" class=\"dataframe\">\n",
       "  <thead>\n",
       "    <tr style=\"text-align: right;\">\n",
       "      <th></th>\n",
       "      <th>Review Title</th>\n",
       "      <th>Full Review</th>\n",
       "      <th>Rating</th>\n",
       "    </tr>\n",
       "  </thead>\n",
       "  <tbody>\n",
       "    <tr>\n",
       "      <th>0</th>\n",
       "      <td>Best in the market!</td>\n",
       "      <td>Good Camera</td>\n",
       "      <td>5</td>\n",
       "    </tr>\n",
       "    <tr>\n",
       "      <th>1</th>\n",
       "      <td>Worth every penny</td>\n",
       "      <td>Feeling awesome after getting the delivery of ...</td>\n",
       "      <td>5</td>\n",
       "    </tr>\n",
       "    <tr>\n",
       "      <th>2</th>\n",
       "      <td>Terrific</td>\n",
       "      <td>Very very good</td>\n",
       "      <td>5</td>\n",
       "    </tr>\n",
       "    <tr>\n",
       "      <th>3</th>\n",
       "      <td>Classy product</td>\n",
       "      <td>Camera is awesome\\nBest battery backup\\nA perf...</td>\n",
       "      <td>5</td>\n",
       "    </tr>\n",
       "    <tr>\n",
       "      <th>4</th>\n",
       "      <td>Wonderful</td>\n",
       "      <td>This is amazing at all</td>\n",
       "      <td>5</td>\n",
       "    </tr>\n",
       "    <tr>\n",
       "      <th>...</th>\n",
       "      <td>...</td>\n",
       "      <td>...</td>\n",
       "      <td>...</td>\n",
       "    </tr>\n",
       "    <tr>\n",
       "      <th>95</th>\n",
       "      <td>Classy product</td>\n",
       "      <td>Photos super</td>\n",
       "      <td>5</td>\n",
       "    </tr>\n",
       "    <tr>\n",
       "      <th>96</th>\n",
       "      <td>Terrific purchase</td>\n",
       "      <td>Value for money 😍</td>\n",
       "      <td>5</td>\n",
       "    </tr>\n",
       "    <tr>\n",
       "      <th>97</th>\n",
       "      <td>Fabulous!</td>\n",
       "      <td>Super🔥 and good performance 👌❤️</td>\n",
       "      <td>5</td>\n",
       "    </tr>\n",
       "    <tr>\n",
       "      <th>98</th>\n",
       "      <td>Brilliant</td>\n",
       "      <td>Excellent Phone.</td>\n",
       "      <td>5</td>\n",
       "    </tr>\n",
       "    <tr>\n",
       "      <th>99</th>\n",
       "      <td>Highly recommended</td>\n",
       "      <td>Awesome Battery Life...Camera clarity is too g...</td>\n",
       "      <td>5</td>\n",
       "    </tr>\n",
       "  </tbody>\n",
       "</table>\n",
       "<p>100 rows × 3 columns</p>\n",
       "</div>"
      ],
      "text/plain": [
       "           Review Title                                        Full Review  \\\n",
       "0   Best in the market!                                        Good Camera   \n",
       "1     Worth every penny  Feeling awesome after getting the delivery of ...   \n",
       "2              Terrific                                     Very very good   \n",
       "3        Classy product  Camera is awesome\\nBest battery backup\\nA perf...   \n",
       "4             Wonderful                             This is amazing at all   \n",
       "..                  ...                                                ...   \n",
       "95       Classy product                                       Photos super   \n",
       "96    Terrific purchase                                  Value for money 😍   \n",
       "97            Fabulous!                    Super🔥 and good performance 👌❤️   \n",
       "98            Brilliant                                   Excellent Phone.   \n",
       "99   Highly recommended  Awesome Battery Life...Camera clarity is too g...   \n",
       "\n",
       "   Rating  \n",
       "0       5  \n",
       "1       5  \n",
       "2       5  \n",
       "3       5  \n",
       "4       5  \n",
       "..    ...  \n",
       "95      5  \n",
       "96      5  \n",
       "97      5  \n",
       "98      5  \n",
       "99      5  \n",
       "\n",
       "[100 rows x 3 columns]"
      ]
     },
     "execution_count": 29,
     "metadata": {},
     "output_type": "execute_result"
    }
   ],
   "source": [
    "df"
   ]
  },
  {
   "cell_type": "code",
   "execution_count": null,
   "id": "87023c8a",
   "metadata": {},
   "outputs": [],
   "source": []
  },
  {
   "cell_type": "code",
   "execution_count": null,
   "id": "3f2a8a3c",
   "metadata": {},
   "outputs": [],
   "source": []
  },
  {
   "cell_type": "markdown",
   "id": "4ea9a21f",
   "metadata": {},
   "source": [
    "# Question no 6"
   ]
  },
  {
   "cell_type": "code",
   "execution_count": 143,
   "id": "0591094e",
   "metadata": {},
   "outputs": [],
   "source": [
    "driver = webdriver.Chrome()"
   ]
  },
  {
   "cell_type": "code",
   "execution_count": 144,
   "id": "e23912a9",
   "metadata": {},
   "outputs": [],
   "source": [
    "driver.get('https://www.flipkart.com/')"
   ]
  },
  {
   "cell_type": "code",
   "execution_count": 145,
   "id": "82a2c3e4",
   "metadata": {},
   "outputs": [],
   "source": [
    "title = driver.find_element(By.XPATH,'/html/body/div[1]/div/div[1]/div/div/div/div/div[1]/div/div[1]/div/div[1]/header/div[1]/div[2]/form/div/div/input')\n",
    "title.send_keys('sneakers')\n",
    "title.submit()"
   ]
  },
  {
   "cell_type": "code",
   "execution_count": 146,
   "id": "692df677",
   "metadata": {},
   "outputs": [],
   "source": [
    "brand =[]\n",
    "pdescription=[]\n",
    "price=[]\n"
   ]
  },
  {
   "cell_type": "code",
   "execution_count": 148,
   "id": "23a4cd9a",
   "metadata": {},
   "outputs": [],
   "source": [
    "#scraping at once\n",
    "brand.clear()\n",
    "pdescription.clear()\n",
    "price.clear()\n",
    "start = 0\n",
    "end = 3\n",
    "for page in range(start,end):\n",
    "    brand_tags = driver.find_elements(By.XPATH,'//div[@class=\"_2WkVRV\"]')\n",
    "    price_tags = driver.find_elements(By.XPATH,'//div[@class=\"_30jeq3\"]')\n",
    "    pdesc = driver.find_elements(By.XPATH,'//div[@class=\"_2B099V\"]/a')\n",
    "    for i in brand_tags:\n",
    "        brand.append(i.text)\n",
    "    for i in price_tags:\n",
    "        price.append(i.text)\n",
    "    for i in pdesc:\n",
    "        pdescription.append(i.text)"
   ]
  },
  {
   "cell_type": "code",
   "execution_count": 156,
   "id": "67408033",
   "metadata": {},
   "outputs": [],
   "source": [
    "g = pdescription[::2]"
   ]
  },
  {
   "cell_type": "code",
   "execution_count": 158,
   "id": "d7b61e41",
   "metadata": {},
   "outputs": [
    {
     "data": {
      "text/plain": [
       "120"
      ]
     },
     "execution_count": 158,
     "metadata": {},
     "output_type": "execute_result"
    }
   ],
   "source": [
    "len(g)"
   ]
  },
  {
   "cell_type": "code",
   "execution_count": 159,
   "id": "c9e4a456",
   "metadata": {},
   "outputs": [],
   "source": [
    "#creating data frame\n",
    "df = pd.DataFrame({'Brand':brand,'Product-Descrition':g,'Price':price})"
   ]
  },
  {
   "cell_type": "code",
   "execution_count": 161,
   "id": "9ba30540",
   "metadata": {},
   "outputs": [],
   "source": [
    "df=df.head(100)"
   ]
  },
  {
   "cell_type": "code",
   "execution_count": 162,
   "id": "6113c3a1",
   "metadata": {},
   "outputs": [
    {
     "data": {
      "text/html": [
       "<div>\n",
       "<style scoped>\n",
       "    .dataframe tbody tr th:only-of-type {\n",
       "        vertical-align: middle;\n",
       "    }\n",
       "\n",
       "    .dataframe tbody tr th {\n",
       "        vertical-align: top;\n",
       "    }\n",
       "\n",
       "    .dataframe thead th {\n",
       "        text-align: right;\n",
       "    }\n",
       "</style>\n",
       "<table border=\"1\" class=\"dataframe\">\n",
       "  <thead>\n",
       "    <tr style=\"text-align: right;\">\n",
       "      <th></th>\n",
       "      <th>Brand</th>\n",
       "      <th>Product-Descrition</th>\n",
       "      <th>Price</th>\n",
       "    </tr>\n",
       "  </thead>\n",
       "  <tbody>\n",
       "    <tr>\n",
       "      <th>0</th>\n",
       "      <td>ATOM</td>\n",
       "      <td>Alpha Predator Sneakers For Men</td>\n",
       "      <td>₹1,389</td>\n",
       "    </tr>\n",
       "    <tr>\n",
       "      <th>1</th>\n",
       "      <td>kerzl</td>\n",
       "      <td>KERZL SMARTY CASUAL RUNNING SNEAKER SHOES FOR ...</td>\n",
       "      <td>₹599</td>\n",
       "    </tr>\n",
       "    <tr>\n",
       "      <th>2</th>\n",
       "      <td>URBANBOX</td>\n",
       "      <td>Trending Stylish Casual Outdoor Sneakers Shoes...</td>\n",
       "      <td>₹299</td>\n",
       "    </tr>\n",
       "    <tr>\n",
       "      <th>3</th>\n",
       "      <td>Layasa</td>\n",
       "      <td>Sneakers For Men</td>\n",
       "      <td>₹299</td>\n",
       "    </tr>\n",
       "    <tr>\n",
       "      <th>4</th>\n",
       "      <td>aadi</td>\n",
       "      <td>Synthetic Leather |Lightweight|Comfort|Summer|...</td>\n",
       "      <td>₹349</td>\n",
       "    </tr>\n",
       "    <tr>\n",
       "      <th>...</th>\n",
       "      <td>...</td>\n",
       "      <td>...</td>\n",
       "      <td>...</td>\n",
       "    </tr>\n",
       "    <tr>\n",
       "      <th>95</th>\n",
       "      <td>U.S. POLO ASSN.</td>\n",
       "      <td>CLARKIN Sneakers For Men</td>\n",
       "      <td>₹1,824</td>\n",
       "    </tr>\n",
       "    <tr>\n",
       "      <th>96</th>\n",
       "      <td>ATOM</td>\n",
       "      <td>Multi Print Sneakers For Men</td>\n",
       "      <td>₹1,349</td>\n",
       "    </tr>\n",
       "    <tr>\n",
       "      <th>97</th>\n",
       "      <td>Aqualite</td>\n",
       "      <td>Running Shoes,Sports Shoes for Women|Memory Fo...</td>\n",
       "      <td>₹699</td>\n",
       "    </tr>\n",
       "    <tr>\n",
       "      <th>98</th>\n",
       "      <td>Labbin</td>\n",
       "      <td>Casual Sneakers ColourFul Block Shoes For Boys...</td>\n",
       "      <td>₹649</td>\n",
       "    </tr>\n",
       "    <tr>\n",
       "      <th>99</th>\n",
       "      <td>aadi</td>\n",
       "      <td>Sneakers For Men</td>\n",
       "      <td>₹399</td>\n",
       "    </tr>\n",
       "  </tbody>\n",
       "</table>\n",
       "<p>100 rows × 3 columns</p>\n",
       "</div>"
      ],
      "text/plain": [
       "              Brand                                 Product-Descrition   Price\n",
       "0              ATOM                    Alpha Predator Sneakers For Men  ₹1,389\n",
       "1             kerzl  KERZL SMARTY CASUAL RUNNING SNEAKER SHOES FOR ...    ₹599\n",
       "2          URBANBOX  Trending Stylish Casual Outdoor Sneakers Shoes...    ₹299\n",
       "3            Layasa                                   Sneakers For Men    ₹299\n",
       "4              aadi  Synthetic Leather |Lightweight|Comfort|Summer|...    ₹349\n",
       "..              ...                                                ...     ...\n",
       "95  U.S. POLO ASSN.                           CLARKIN Sneakers For Men  ₹1,824\n",
       "96             ATOM                       Multi Print Sneakers For Men  ₹1,349\n",
       "97         Aqualite  Running Shoes,Sports Shoes for Women|Memory Fo...    ₹699\n",
       "98           Labbin  Casual Sneakers ColourFul Block Shoes For Boys...    ₹649\n",
       "99             aadi                                   Sneakers For Men    ₹399\n",
       "\n",
       "[100 rows x 3 columns]"
      ]
     },
     "execution_count": 162,
     "metadata": {},
     "output_type": "execute_result"
    }
   ],
   "source": [
    "df"
   ]
  },
  {
   "cell_type": "code",
   "execution_count": null,
   "id": "25e96bbc",
   "metadata": {},
   "outputs": [],
   "source": []
  },
  {
   "cell_type": "markdown",
   "id": "2e4e4ba7",
   "metadata": {},
   "source": [
    "# Question no 7"
   ]
  },
  {
   "cell_type": "code",
   "execution_count": 3,
   "id": "3adbea43",
   "metadata": {},
   "outputs": [],
   "source": [
    "driver = webdriver.Chrome()"
   ]
  },
  {
   "cell_type": "code",
   "execution_count": 4,
   "id": "3a726a71",
   "metadata": {},
   "outputs": [],
   "source": [
    "driver.get('https://www.amazon.in/')"
   ]
  },
  {
   "cell_type": "code",
   "execution_count": 5,
   "id": "cbb9a473",
   "metadata": {},
   "outputs": [],
   "source": [
    "title = driver.find_element(By.XPATH,'/html/body/div[1]/header/div/div[1]/div[2]/div/form/div[2]/div[1]/input')\n",
    "title.send_keys('Laptop')"
   ]
  },
  {
   "cell_type": "code",
   "execution_count": 6,
   "id": "33f38629",
   "metadata": {},
   "outputs": [],
   "source": [
    "search = driver.find_element(By.XPATH,'/html/body/div[1]/header/div/div[1]/div[2]/div/form/div[3]/div/span/input')\n",
    "search.click()"
   ]
  },
  {
   "cell_type": "code",
   "execution_count": 7,
   "id": "f96ca1ea",
   "metadata": {},
   "outputs": [],
   "source": [
    "title = []\n",
    "rating=[]\n",
    "price =[]"
   ]
  },
  {
   "cell_type": "code",
   "execution_count": 8,
   "id": "6c756d1e",
   "metadata": {},
   "outputs": [],
   "source": [
    "filter_cpu = driver.find_element(By.XPATH,'/html/body/div[1]/div[1]/div[1]/div[2]/div/div[3]/span/div[1]/div/div/div[7]/ul[6]/span[9]/li/span/a/span')\n",
    "filter_cpu.click()"
   ]
  },
  {
   "cell_type": "code",
   "execution_count": 27,
   "id": "128b77f7",
   "metadata": {},
   "outputs": [],
   "source": [
    "#scraping everything at once\n",
    "rating.clear()\n",
    "price.clear()\n",
    "title.clear()\n",
    "title_tags = driver.find_elements(By.XPATH,'//h2[@class=\"a-size-mini a-spacing-none a-color-base s-line-clamp-2\"]')\n",
    "price_tags = driver.find_elements(By.XPATH,'//span[@class=\"a-price-whole\"]')\n",
    "rating_tag = driver.find_elements(By.XPATH,'//span[@class=\"a-icon-alt\"]')\n",
    "count_tag = driver.find_elements(By.XPATH,'//span[@class=\"a-size-base s-underline-text\"]')\n",
    "for i in title_tags[0:10]:\n",
    "    title.append(i.text)\n",
    "for i in price_tags[0:10]:\n",
    "    price.append(i.text)\n",
    "for ratings,counts in zip(rating_tag[0:10],count_tag[0:10]):\n",
    "    rating.append((ratings.text,counts.text))"
   ]
  },
  {
   "cell_type": "code",
   "execution_count": 30,
   "id": "2e26eccf",
   "metadata": {},
   "outputs": [],
   "source": [
    "# important - I am not allowed to scrap reviews and rating by robots.text so I just extracted no of ratings(how many people rated)\n"
   ]
  },
  {
   "cell_type": "code",
   "execution_count": 29,
   "id": "22b8e357",
   "metadata": {},
   "outputs": [],
   "source": [
    "import pandas as pd"
   ]
  },
  {
   "cell_type": "code",
   "execution_count": 31,
   "id": "445ef2c4",
   "metadata": {},
   "outputs": [],
   "source": [
    "df= pd.DataFrame({'Laptop Name':title,'Price':price,'Rating':rating})"
   ]
  },
  {
   "cell_type": "code",
   "execution_count": 32,
   "id": "6709ed0c",
   "metadata": {},
   "outputs": [
    {
     "data": {
      "text/html": [
       "<div>\n",
       "<style scoped>\n",
       "    .dataframe tbody tr th:only-of-type {\n",
       "        vertical-align: middle;\n",
       "    }\n",
       "\n",
       "    .dataframe tbody tr th {\n",
       "        vertical-align: top;\n",
       "    }\n",
       "\n",
       "    .dataframe thead th {\n",
       "        text-align: right;\n",
       "    }\n",
       "</style>\n",
       "<table border=\"1\" class=\"dataframe\">\n",
       "  <thead>\n",
       "    <tr style=\"text-align: right;\">\n",
       "      <th></th>\n",
       "      <th>Laptop Name</th>\n",
       "      <th>Price</th>\n",
       "      <th>Rating</th>\n",
       "    </tr>\n",
       "  </thead>\n",
       "  <tbody>\n",
       "    <tr>\n",
       "      <th>0</th>\n",
       "      <td>ASUS TUF Gaming F15, 15.6\"(39.62 cms) FHD 144H...</td>\n",
       "      <td>68,990</td>\n",
       "      <td>(, 39)</td>\n",
       "    </tr>\n",
       "    <tr>\n",
       "      <th>1</th>\n",
       "      <td>MSI Modern 14, Intel 12th Gen. i7-1255U, 36CM ...</td>\n",
       "      <td>49,990</td>\n",
       "      <td>(, 17)</td>\n",
       "    </tr>\n",
       "    <tr>\n",
       "      <th>2</th>\n",
       "      <td>HP Laptop 15s, 12th Gen Intel Core i7-1255U, 1...</td>\n",
       "      <td>63,990</td>\n",
       "      <td>(, 18)</td>\n",
       "    </tr>\n",
       "    <tr>\n",
       "      <th>3</th>\n",
       "      <td>MSI GF63 Thin, Intel Core i7-11800H, 40CM FHD ...</td>\n",
       "      <td>57,990</td>\n",
       "      <td>(, 143)</td>\n",
       "    </tr>\n",
       "    <tr>\n",
       "      <th>4</th>\n",
       "      <td>ASUS Vivobook 15, IntelCore i7-12650H 12th Gen...</td>\n",
       "      <td>60,990</td>\n",
       "      <td>(, 322)</td>\n",
       "    </tr>\n",
       "    <tr>\n",
       "      <th>5</th>\n",
       "      <td>Lenovo IdeaPad Slim 3 Intel Core i7 11th Gen 1...</td>\n",
       "      <td>62,000</td>\n",
       "      <td>(, 53)</td>\n",
       "    </tr>\n",
       "    <tr>\n",
       "      <th>6</th>\n",
       "      <td>MSI GF63 Thin, Intel Core i7-11800H, 40CM FHD ...</td>\n",
       "      <td>64,990</td>\n",
       "      <td>(, 93)</td>\n",
       "    </tr>\n",
       "    <tr>\n",
       "      <th>7</th>\n",
       "      <td>Acer Predator Helios Neo 16 Gaming Laptop 13th...</td>\n",
       "      <td>1,09,990</td>\n",
       "      <td>(, 112)</td>\n",
       "    </tr>\n",
       "    <tr>\n",
       "      <th>8</th>\n",
       "      <td>Acer Aspire Lite Premium Metal Laptop 11th Gen...</td>\n",
       "      <td>47,990</td>\n",
       "      <td>(, 152)</td>\n",
       "    </tr>\n",
       "    <tr>\n",
       "      <th>9</th>\n",
       "      <td>Dell Inspiron 5430 Laptop, Intel Core i7-1360P...</td>\n",
       "      <td>84,990</td>\n",
       "      <td>(, 45)</td>\n",
       "    </tr>\n",
       "  </tbody>\n",
       "</table>\n",
       "</div>"
      ],
      "text/plain": [
       "                                         Laptop Name     Price   Rating\n",
       "0  ASUS TUF Gaming F15, 15.6\"(39.62 cms) FHD 144H...    68,990   (, 39)\n",
       "1  MSI Modern 14, Intel 12th Gen. i7-1255U, 36CM ...    49,990   (, 17)\n",
       "2  HP Laptop 15s, 12th Gen Intel Core i7-1255U, 1...    63,990   (, 18)\n",
       "3  MSI GF63 Thin, Intel Core i7-11800H, 40CM FHD ...    57,990  (, 143)\n",
       "4  ASUS Vivobook 15, IntelCore i7-12650H 12th Gen...    60,990  (, 322)\n",
       "5  Lenovo IdeaPad Slim 3 Intel Core i7 11th Gen 1...    62,000   (, 53)\n",
       "6  MSI GF63 Thin, Intel Core i7-11800H, 40CM FHD ...    64,990   (, 93)\n",
       "7  Acer Predator Helios Neo 16 Gaming Laptop 13th...  1,09,990  (, 112)\n",
       "8  Acer Aspire Lite Premium Metal Laptop 11th Gen...    47,990  (, 152)\n",
       "9  Dell Inspiron 5430 Laptop, Intel Core i7-1360P...    84,990   (, 45)"
      ]
     },
     "execution_count": 32,
     "metadata": {},
     "output_type": "execute_result"
    }
   ],
   "source": [
    "df"
   ]
  },
  {
   "cell_type": "code",
   "execution_count": 33,
   "id": "8cc557bd",
   "metadata": {},
   "outputs": [],
   "source": [
    "# important - I am not allowed to scrap reviews and rating by robots.text so I just extracted no of ratings(how many people rated)\n"
   ]
  },
  {
   "cell_type": "code",
   "execution_count": null,
   "id": "dc55decf",
   "metadata": {},
   "outputs": [],
   "source": []
  },
  {
   "cell_type": "markdown",
   "id": "944740df",
   "metadata": {},
   "source": [
    "# Question no 8"
   ]
  },
  {
   "cell_type": "code",
   "execution_count": 34,
   "id": "6ad9c91a",
   "metadata": {},
   "outputs": [],
   "source": [
    "driver = webdriver.Chrome()"
   ]
  },
  {
   "cell_type": "code",
   "execution_count": 35,
   "id": "37f2d3d7",
   "metadata": {},
   "outputs": [],
   "source": [
    "driver.get('https://www.azquotes.com/')"
   ]
  },
  {
   "cell_type": "code",
   "execution_count": 36,
   "id": "1122fac5",
   "metadata": {},
   "outputs": [],
   "source": [
    "top_quotes = driver.find_element(By.XPATH,'/html/body/div[1]/div[1]/div[1]/div/div[3]/ul/li[5]/a')\n",
    "top_quotes.click()"
   ]
  },
  {
   "cell_type": "code",
   "execution_count": 38,
   "id": "50481166",
   "metadata": {},
   "outputs": [],
   "source": [
    "quote = []\n",
    "authors =[]\n",
    "type_ = []\n",
    "import time"
   ]
  },
  {
   "cell_type": "code",
   "execution_count": 40,
   "id": "15e1614a",
   "metadata": {},
   "outputs": [],
   "source": [
    "quote.clear()\n",
    "authors.clear()\n",
    "type_.clear()\n",
    "start= 0\n",
    "end = 10\n",
    "for page in range(start,end):\n",
    "    quote_tags = driver.find_elements(By.XPATH,'//a[@class=\"title\"]')\n",
    "    author_tag = driver.find_elements(By.XPATH,'//div[@class=\"author\"]/a')\n",
    "    type_tag = driver.find_elements(By.XPATH,'//div[@class=\"tags\"]//a')\n",
    "    for i in quote_tags[0:1000]:\n",
    "        quote.append(i.text)\n",
    "    for i in author_tag[0:1000]:\n",
    "        authors.append(i.text)\n",
    "    for i in type_tag[0:1000]:\n",
    "        type_.append(i.text)\n",
    "    next_button = driver.find_element(By.XPATH,'/html/body/div[1]/div[2]/div/div/div/div[1]/div/div[4]/li[12]/a')\n",
    "    next_button.click()\n",
    "    time.sleep(3)"
   ]
  },
  {
   "cell_type": "code",
   "execution_count": 50,
   "id": "e67e1675",
   "metadata": {},
   "outputs": [],
   "source": [
    "values = [type_[i:i+3] for i in range(0,len(type_),3)]"
   ]
  },
  {
   "cell_type": "code",
   "execution_count": 52,
   "id": "908be786",
   "metadata": {},
   "outputs": [],
   "source": [
    "#values"
   ]
  },
  {
   "cell_type": "code",
   "execution_count": 53,
   "id": "e68a71dc",
   "metadata": {},
   "outputs": [],
   "source": [
    "#creating dataframe\n",
    "pd = pd.DataFrame({'Quote':quote,'Author':authors,'Type':values})"
   ]
  },
  {
   "cell_type": "code",
   "execution_count": 54,
   "id": "6acfcf74",
   "metadata": {},
   "outputs": [
    {
     "data": {
      "text/html": [
       "<div>\n",
       "<style scoped>\n",
       "    .dataframe tbody tr th:only-of-type {\n",
       "        vertical-align: middle;\n",
       "    }\n",
       "\n",
       "    .dataframe tbody tr th {\n",
       "        vertical-align: top;\n",
       "    }\n",
       "\n",
       "    .dataframe thead th {\n",
       "        text-align: right;\n",
       "    }\n",
       "</style>\n",
       "<table border=\"1\" class=\"dataframe\">\n",
       "  <thead>\n",
       "    <tr style=\"text-align: right;\">\n",
       "      <th></th>\n",
       "      <th>Quote</th>\n",
       "      <th>Author</th>\n",
       "      <th>Type</th>\n",
       "    </tr>\n",
       "  </thead>\n",
       "  <tbody>\n",
       "    <tr>\n",
       "      <th>0</th>\n",
       "      <td>The essence of strategy is choosing what not t...</td>\n",
       "      <td>Michael Porter</td>\n",
       "      <td>[Essence, Deep Thought, Transcendentalism]</td>\n",
       "    </tr>\n",
       "    <tr>\n",
       "      <th>1</th>\n",
       "      <td>One cannot and must not try to erase the past ...</td>\n",
       "      <td>Golda Meir</td>\n",
       "      <td>[Inspiration, Past, Trying]</td>\n",
       "    </tr>\n",
       "    <tr>\n",
       "      <th>2</th>\n",
       "      <td>Patriotism means to stand by the country. It d...</td>\n",
       "      <td>Theodore Roosevelt</td>\n",
       "      <td>[Country, Peace, War]</td>\n",
       "    </tr>\n",
       "    <tr>\n",
       "      <th>3</th>\n",
       "      <td>Death is something inevitable. When a man has ...</td>\n",
       "      <td>Nelson Mandela</td>\n",
       "      <td>[Inspirational, Motivational, Death]</td>\n",
       "    </tr>\n",
       "    <tr>\n",
       "      <th>4</th>\n",
       "      <td>You have to love a nation that celebrates its ...</td>\n",
       "      <td>Erma Bombeck</td>\n",
       "      <td>[4th Of July, Food, Patriotic]</td>\n",
       "    </tr>\n",
       "    <tr>\n",
       "      <th>...</th>\n",
       "      <td>...</td>\n",
       "      <td>...</td>\n",
       "      <td>...</td>\n",
       "    </tr>\n",
       "    <tr>\n",
       "      <th>995</th>\n",
       "      <td>Regret for the things we did can be tempered b...</td>\n",
       "      <td>Sydney J. Harris</td>\n",
       "      <td>[Love, Inspirational, Motivational]</td>\n",
       "    </tr>\n",
       "    <tr>\n",
       "      <th>996</th>\n",
       "      <td>America... just a nation of two hundred millio...</td>\n",
       "      <td>Hunter S. Thompson</td>\n",
       "      <td>[Gun, Two, Qualms About]</td>\n",
       "    </tr>\n",
       "    <tr>\n",
       "      <th>997</th>\n",
       "      <td>For every disciplined effort there is a multip...</td>\n",
       "      <td>Jim Rohn</td>\n",
       "      <td>[Inspirational, Greatness, Best Effort]</td>\n",
       "    </tr>\n",
       "    <tr>\n",
       "      <th>998</th>\n",
       "      <td>The spiritual journey is individual, highly pe...</td>\n",
       "      <td>Ram Dass</td>\n",
       "      <td>[Spiritual, Truth, Yoga]</td>\n",
       "    </tr>\n",
       "    <tr>\n",
       "      <th>999</th>\n",
       "      <td>The mind is not a vessel to be filled but a fi...</td>\n",
       "      <td>Plutarch</td>\n",
       "      <td>[Inspirational, Leadership, Education]</td>\n",
       "    </tr>\n",
       "  </tbody>\n",
       "</table>\n",
       "<p>1000 rows × 3 columns</p>\n",
       "</div>"
      ],
      "text/plain": [
       "                                                 Quote              Author  \\\n",
       "0    The essence of strategy is choosing what not t...      Michael Porter   \n",
       "1    One cannot and must not try to erase the past ...          Golda Meir   \n",
       "2    Patriotism means to stand by the country. It d...  Theodore Roosevelt   \n",
       "3    Death is something inevitable. When a man has ...      Nelson Mandela   \n",
       "4    You have to love a nation that celebrates its ...        Erma Bombeck   \n",
       "..                                                 ...                 ...   \n",
       "995  Regret for the things we did can be tempered b...    Sydney J. Harris   \n",
       "996  America... just a nation of two hundred millio...  Hunter S. Thompson   \n",
       "997  For every disciplined effort there is a multip...            Jim Rohn   \n",
       "998  The spiritual journey is individual, highly pe...            Ram Dass   \n",
       "999  The mind is not a vessel to be filled but a fi...            Plutarch   \n",
       "\n",
       "                                           Type  \n",
       "0    [Essence, Deep Thought, Transcendentalism]  \n",
       "1                   [Inspiration, Past, Trying]  \n",
       "2                         [Country, Peace, War]  \n",
       "3          [Inspirational, Motivational, Death]  \n",
       "4                [4th Of July, Food, Patriotic]  \n",
       "..                                          ...  \n",
       "995         [Love, Inspirational, Motivational]  \n",
       "996                    [Gun, Two, Qualms About]  \n",
       "997     [Inspirational, Greatness, Best Effort]  \n",
       "998                    [Spiritual, Truth, Yoga]  \n",
       "999      [Inspirational, Leadership, Education]  \n",
       "\n",
       "[1000 rows x 3 columns]"
      ]
     },
     "execution_count": 54,
     "metadata": {},
     "output_type": "execute_result"
    }
   ],
   "source": [
    "pd"
   ]
  },
  {
   "cell_type": "code",
   "execution_count": null,
   "id": "e6c4b10c",
   "metadata": {},
   "outputs": [],
   "source": []
  },
  {
   "cell_type": "markdown",
   "id": "7cec5be8",
   "metadata": {},
   "source": [
    "# Question no 9"
   ]
  },
  {
   "cell_type": "code",
   "execution_count": 61,
   "id": "37ef3dfc",
   "metadata": {},
   "outputs": [],
   "source": [
    "driver = webdriver.Chrome()"
   ]
  },
  {
   "cell_type": "code",
   "execution_count": 62,
   "id": "a2e3a0e6",
   "metadata": {},
   "outputs": [],
   "source": [
    "driver.get('https://www.jagranjosh.com/')"
   ]
  },
  {
   "cell_type": "code",
   "execution_count": 63,
   "id": "e8d7fc49",
   "metadata": {},
   "outputs": [],
   "source": [
    "name=[]\n",
    "b_d=[]\n",
    "duration=[]\n",
    "remarks=[]"
   ]
  },
  {
   "cell_type": "code",
   "execution_count": 64,
   "id": "54b6e2ce",
   "metadata": {},
   "outputs": [],
   "source": [
    "gk = driver.find_element(By.XPATH,'/html/body/div[1]/header/nav/div/div/div[3]/ul/li[6]/a')\n",
    "gk.click()"
   ]
  },
  {
   "cell_type": "code",
   "execution_count": 65,
   "id": "45c56db0",
   "metadata": {},
   "outputs": [],
   "source": [
    "list_pm = driver.find_element(By.XPATH,'/html/body/div[2]/div/div/div[2]/div/div[10]/div/div/ul/li[2]/a')\n",
    "list_pm.click()\n"
   ]
  },
  {
   "cell_type": "code",
   "execution_count": 91,
   "id": "785f0539",
   "metadata": {},
   "outputs": [],
   "source": [
    "name.clear()\n",
    "b_d.clear()\n",
    "duration.clear()\n",
    "remarks.clear()\n",
    "name_tags = driver.find_elements(By.XPATH,'//p')\n",
    "for i in name_tags:\n",
    "    name.append(i.text)"
   ]
  },
  {
   "cell_type": "code",
   "execution_count": 128,
   "id": "77c001a4",
   "metadata": {},
   "outputs": [],
   "source": [
    "names = [name[i+1:i+6] for i in range(13,len(name)-8,6)]"
   ]
  },
  {
   "cell_type": "code",
   "execution_count": 129,
   "id": "5ca91b3c",
   "metadata": {},
   "outputs": [
    {
     "data": {
      "text/plain": [
       "[['Jawahar Lal Nehru',\n",
       "  '(1889–1964)',\n",
       "  '15 August 1947 to 27 May 1964',\n",
       "  '16 years, 286 days',\n",
       "  'The first prime minister of India and the longest-serving PM of India, the first to die in office.'],\n",
       " ['Gulzarilal Nanda (Acting)',\n",
       "  '(1898-1998)',\n",
       "  '27 May 1964 to 9 June 1964,',\n",
       "  '13 days',\n",
       "  'First acting PM of India'],\n",
       " ['Lal Bahadur Shastri',\n",
       "  '(1904–1966)',\n",
       "  '9 June 1964 to 11 January 1966',\n",
       "  '1 year, 216 days',\n",
       "  \"He has given the slogan of 'Jai Jawan Jai Kisan' during the Indo-Pak war of 1965\"],\n",
       " ['Gulzari Lal Nanda  (Acting)',\n",
       "  '(1898-1998)',\n",
       "  '11 January 1966 to 24 January 1966',\n",
       "  '13 days',\n",
       "  '-'],\n",
       " ['Indira Gandhi',\n",
       "  '(1917–1984)',\n",
       "  '24 January 1966 to 24 March 1977',\n",
       "  '11 years, 59 days',\n",
       "  'First female Prime Minister of India'],\n",
       " ['Morarji Desai',\n",
       "  '(1896–1995)',\n",
       "  '24 March 1977 to  28 July 1979 ',\n",
       "  '2 year, 126 days',\n",
       "  'Oldest to become PM (81 years old) and first to resign from office'],\n",
       " ['Charan Singh',\n",
       "  '(1902–1987)',\n",
       "  '28 July 1979 to 14 January 1980',\n",
       "  '170 days',\n",
       "  'Only PM who did not face the Parliament'],\n",
       " ['Indira Gandhi',\n",
       "  '(1917–1984)',\n",
       "  '14 January 1980 to 31 October 1984',\n",
       "  '4 years, 291 days',\n",
       "  'The first lady who served as PM for the second term'],\n",
       " ['Rajiv Gandhi',\n",
       "  '(1944–1991)',\n",
       "  '31 October 1984 to 2 December 1989',\n",
       "  '5 years, 32 days',\n",
       "  'Youngest to become PM (40 years old)'],\n",
       " ['V. P. Singh',\n",
       "  '(1931–2008)',\n",
       "  '2 December 1989 to 10 November 1990',\n",
       "  '343 days',\n",
       "  'First PM to step down after a vote of no confidence'],\n",
       " ['Chandra Shekhar',\n",
       "  '(1927–2007)',\n",
       "  '10 November 1990 to 21 June 1991',\n",
       "  '223 days',\n",
       "  'He belongs to  Samajwadi Janata Party'],\n",
       " ['P. V. Narasimha Rao',\n",
       "  '(1921–2004)',\n",
       "  '21 June 1991 to 16 May 1996',\n",
       "  '4 years, 330 days',\n",
       "  'First PM from South India'],\n",
       " ['Atal Bihari Vajpayee',\n",
       "  '(1924- 2018)',\n",
       "  '16 May 1996 to 1 June 1996',\n",
       "  '16 days',\n",
       "  'PM for shortest tenure'],\n",
       " ['H. D. Deve Gowda',\n",
       "  '(born 1933)',\n",
       "  '1 June 1996 to 21 April 1997',\n",
       "  '324 days',\n",
       "  'He belongs to  Janata Dal'],\n",
       " ['Inder Kumar Gujral',\n",
       "  '(1919–2012)',\n",
       "  '21 April 1997 to 19 March 1998 ',\n",
       "  '332 days',\n",
       "  '------'],\n",
       " ['Atal Bihari Vajpayee',\n",
       "  '(1924-2018)',\n",
       "  '19 March 1998 to 22 May 2004 ',\n",
       "  '6 years, 64 days',\n",
       "  ' The first non-congress PM who completed a full term as PM'],\n",
       " ['Manmohan Singh',\n",
       "  '(born 1932)',\n",
       "  '22 May 2004 to 26 May 2014   ',\n",
       "  '10 years, 4 days',\n",
       "  ' First Sikh PM'],\n",
       " ['Narendra Modi',\n",
       "  '(born 1950)',\n",
       "  '26 May 2014 - 2019',\n",
       "  '4th Prime Minister of India who served two consecutive tenures',\n",
       "  '19.']]"
      ]
     },
     "execution_count": 129,
     "metadata": {},
     "output_type": "execute_result"
    }
   ],
   "source": [
    "names"
   ]
  },
  {
   "cell_type": "code",
   "execution_count": 141,
   "id": "5c2ec36f",
   "metadata": {},
   "outputs": [],
   "source": [
    "import pandas as pd\n",
    "df = pd.DataFrame(names,columns= ['Name','Born-Dead',\n",
    "'Term of office','Duration','Remarks'])"
   ]
  },
  {
   "cell_type": "code",
   "execution_count": 26,
   "id": "7b7dfcd6",
   "metadata": {},
   "outputs": [],
   "source": [
    "#df"
   ]
  },
  {
   "cell_type": "code",
   "execution_count": 143,
   "id": "cdfecfb7",
   "metadata": {},
   "outputs": [],
   "source": [
    "df = df.drop(df.index[-1])"
   ]
  },
  {
   "cell_type": "code",
   "execution_count": 155,
   "id": "34007eb9",
   "metadata": {},
   "outputs": [],
   "source": [
    "#df"
   ]
  },
  {
   "cell_type": "code",
   "execution_count": 149,
   "id": "13ea9aec",
   "metadata": {},
   "outputs": [],
   "source": [
    "df = df.append({'Name':'Narendra Modi','Born-Dead':'(born 1950)','Term of office':'26 May 2014 - 2019','Duration':'NaN', 'Remarks':'4th Prime Minister of India who served two consecutive tenures'},ignore_index = True)"
   ]
  },
  {
   "cell_type": "code",
   "execution_count": 153,
   "id": "493bd023",
   "metadata": {},
   "outputs": [],
   "source": [
    "df = df.append({'Name':'Narendra Modi','Born-Dead':'(born 1950)','Term of office':'30 May 2019- Incumbent','Duration':'NaN', 'Remarks':'First non-congress PM with two consecutive tenures'},ignore_index = True)"
   ]
  },
  {
   "cell_type": "code",
   "execution_count": 154,
   "id": "1133b10d",
   "metadata": {},
   "outputs": [
    {
     "data": {
      "text/html": [
       "<div>\n",
       "<style scoped>\n",
       "    .dataframe tbody tr th:only-of-type {\n",
       "        vertical-align: middle;\n",
       "    }\n",
       "\n",
       "    .dataframe tbody tr th {\n",
       "        vertical-align: top;\n",
       "    }\n",
       "\n",
       "    .dataframe thead th {\n",
       "        text-align: right;\n",
       "    }\n",
       "</style>\n",
       "<table border=\"1\" class=\"dataframe\">\n",
       "  <thead>\n",
       "    <tr style=\"text-align: right;\">\n",
       "      <th></th>\n",
       "      <th>Name</th>\n",
       "      <th>Born-Dead</th>\n",
       "      <th>Term of office</th>\n",
       "      <th>Duration</th>\n",
       "      <th>Remarks</th>\n",
       "    </tr>\n",
       "  </thead>\n",
       "  <tbody>\n",
       "    <tr>\n",
       "      <th>0</th>\n",
       "      <td>Jawahar Lal Nehru</td>\n",
       "      <td>(1889–1964)</td>\n",
       "      <td>15 August 1947 to 27 May 1964</td>\n",
       "      <td>16 years, 286 days</td>\n",
       "      <td>The first prime minister of India and the long...</td>\n",
       "    </tr>\n",
       "    <tr>\n",
       "      <th>1</th>\n",
       "      <td>Gulzarilal Nanda (Acting)</td>\n",
       "      <td>(1898-1998)</td>\n",
       "      <td>27 May 1964 to 9 June 1964,</td>\n",
       "      <td>13 days</td>\n",
       "      <td>First acting PM of India</td>\n",
       "    </tr>\n",
       "    <tr>\n",
       "      <th>2</th>\n",
       "      <td>Lal Bahadur Shastri</td>\n",
       "      <td>(1904–1966)</td>\n",
       "      <td>9 June 1964 to 11 January 1966</td>\n",
       "      <td>1 year, 216 days</td>\n",
       "      <td>He has given the slogan of 'Jai Jawan Jai Kisa...</td>\n",
       "    </tr>\n",
       "    <tr>\n",
       "      <th>3</th>\n",
       "      <td>Gulzari Lal Nanda  (Acting)</td>\n",
       "      <td>(1898-1998)</td>\n",
       "      <td>11 January 1966 to 24 January 1966</td>\n",
       "      <td>13 days</td>\n",
       "      <td>-</td>\n",
       "    </tr>\n",
       "    <tr>\n",
       "      <th>4</th>\n",
       "      <td>Indira Gandhi</td>\n",
       "      <td>(1917–1984)</td>\n",
       "      <td>24 January 1966 to 24 March 1977</td>\n",
       "      <td>11 years, 59 days</td>\n",
       "      <td>First female Prime Minister of India</td>\n",
       "    </tr>\n",
       "    <tr>\n",
       "      <th>5</th>\n",
       "      <td>Morarji Desai</td>\n",
       "      <td>(1896–1995)</td>\n",
       "      <td>24 March 1977 to  28 July 1979</td>\n",
       "      <td>2 year, 126 days</td>\n",
       "      <td>Oldest to become PM (81 years old) and first t...</td>\n",
       "    </tr>\n",
       "    <tr>\n",
       "      <th>6</th>\n",
       "      <td>Charan Singh</td>\n",
       "      <td>(1902–1987)</td>\n",
       "      <td>28 July 1979 to 14 January 1980</td>\n",
       "      <td>170 days</td>\n",
       "      <td>Only PM who did not face the Parliament</td>\n",
       "    </tr>\n",
       "    <tr>\n",
       "      <th>7</th>\n",
       "      <td>Indira Gandhi</td>\n",
       "      <td>(1917–1984)</td>\n",
       "      <td>14 January 1980 to 31 October 1984</td>\n",
       "      <td>4 years, 291 days</td>\n",
       "      <td>The first lady who served as PM for the second...</td>\n",
       "    </tr>\n",
       "    <tr>\n",
       "      <th>8</th>\n",
       "      <td>Rajiv Gandhi</td>\n",
       "      <td>(1944–1991)</td>\n",
       "      <td>31 October 1984 to 2 December 1989</td>\n",
       "      <td>5 years, 32 days</td>\n",
       "      <td>Youngest to become PM (40 years old)</td>\n",
       "    </tr>\n",
       "    <tr>\n",
       "      <th>9</th>\n",
       "      <td>V. P. Singh</td>\n",
       "      <td>(1931–2008)</td>\n",
       "      <td>2 December 1989 to 10 November 1990</td>\n",
       "      <td>343 days</td>\n",
       "      <td>First PM to step down after a vote of no confi...</td>\n",
       "    </tr>\n",
       "    <tr>\n",
       "      <th>10</th>\n",
       "      <td>Chandra Shekhar</td>\n",
       "      <td>(1927–2007)</td>\n",
       "      <td>10 November 1990 to 21 June 1991</td>\n",
       "      <td>223 days</td>\n",
       "      <td>He belongs to  Samajwadi Janata Party</td>\n",
       "    </tr>\n",
       "    <tr>\n",
       "      <th>11</th>\n",
       "      <td>P. V. Narasimha Rao</td>\n",
       "      <td>(1921–2004)</td>\n",
       "      <td>21 June 1991 to 16 May 1996</td>\n",
       "      <td>4 years, 330 days</td>\n",
       "      <td>First PM from South India</td>\n",
       "    </tr>\n",
       "    <tr>\n",
       "      <th>12</th>\n",
       "      <td>Atal Bihari Vajpayee</td>\n",
       "      <td>(1924- 2018)</td>\n",
       "      <td>16 May 1996 to 1 June 1996</td>\n",
       "      <td>16 days</td>\n",
       "      <td>PM for shortest tenure</td>\n",
       "    </tr>\n",
       "    <tr>\n",
       "      <th>13</th>\n",
       "      <td>H. D. Deve Gowda</td>\n",
       "      <td>(born 1933)</td>\n",
       "      <td>1 June 1996 to 21 April 1997</td>\n",
       "      <td>324 days</td>\n",
       "      <td>He belongs to  Janata Dal</td>\n",
       "    </tr>\n",
       "    <tr>\n",
       "      <th>14</th>\n",
       "      <td>Inder Kumar Gujral</td>\n",
       "      <td>(1919–2012)</td>\n",
       "      <td>21 April 1997 to 19 March 1998</td>\n",
       "      <td>332 days</td>\n",
       "      <td>------</td>\n",
       "    </tr>\n",
       "    <tr>\n",
       "      <th>15</th>\n",
       "      <td>Atal Bihari Vajpayee</td>\n",
       "      <td>(1924-2018)</td>\n",
       "      <td>19 March 1998 to 22 May 2004</td>\n",
       "      <td>6 years, 64 days</td>\n",
       "      <td>The first non-congress PM who completed a ful...</td>\n",
       "    </tr>\n",
       "    <tr>\n",
       "      <th>16</th>\n",
       "      <td>Manmohan Singh</td>\n",
       "      <td>(born 1932)</td>\n",
       "      <td>22 May 2004 to 26 May 2014</td>\n",
       "      <td>10 years, 4 days</td>\n",
       "      <td>First Sikh PM</td>\n",
       "    </tr>\n",
       "    <tr>\n",
       "      <th>17</th>\n",
       "      <td>Narendra Modi</td>\n",
       "      <td>(born 1950)</td>\n",
       "      <td>26 May 2014 - 2019</td>\n",
       "      <td>NaN</td>\n",
       "      <td>4th Prime Minister of India who served two con...</td>\n",
       "    </tr>\n",
       "    <tr>\n",
       "      <th>18</th>\n",
       "      <td>Narendra Modi</td>\n",
       "      <td>(born 1950)</td>\n",
       "      <td>30 May 2019- Incumbent</td>\n",
       "      <td>NaN</td>\n",
       "      <td>First non-congress PM with two consecutive ten...</td>\n",
       "    </tr>\n",
       "  </tbody>\n",
       "</table>\n",
       "</div>"
      ],
      "text/plain": [
       "                           Name     Born-Dead  \\\n",
       "0             Jawahar Lal Nehru   (1889–1964)   \n",
       "1     Gulzarilal Nanda (Acting)   (1898-1998)   \n",
       "2           Lal Bahadur Shastri   (1904–1966)   \n",
       "3   Gulzari Lal Nanda  (Acting)   (1898-1998)   \n",
       "4                 Indira Gandhi   (1917–1984)   \n",
       "5                 Morarji Desai   (1896–1995)   \n",
       "6                  Charan Singh   (1902–1987)   \n",
       "7                 Indira Gandhi   (1917–1984)   \n",
       "8                  Rajiv Gandhi   (1944–1991)   \n",
       "9                   V. P. Singh   (1931–2008)   \n",
       "10              Chandra Shekhar   (1927–2007)   \n",
       "11          P. V. Narasimha Rao   (1921–2004)   \n",
       "12         Atal Bihari Vajpayee  (1924- 2018)   \n",
       "13             H. D. Deve Gowda   (born 1933)   \n",
       "14           Inder Kumar Gujral   (1919–2012)   \n",
       "15         Atal Bihari Vajpayee   (1924-2018)   \n",
       "16               Manmohan Singh   (born 1932)   \n",
       "17                Narendra Modi   (born 1950)   \n",
       "18                Narendra Modi   (born 1950)   \n",
       "\n",
       "                         Term of office            Duration  \\\n",
       "0         15 August 1947 to 27 May 1964  16 years, 286 days   \n",
       "1           27 May 1964 to 9 June 1964,             13 days   \n",
       "2        9 June 1964 to 11 January 1966    1 year, 216 days   \n",
       "3    11 January 1966 to 24 January 1966             13 days   \n",
       "4      24 January 1966 to 24 March 1977   11 years, 59 days   \n",
       "5       24 March 1977 to  28 July 1979     2 year, 126 days   \n",
       "6       28 July 1979 to 14 January 1980            170 days   \n",
       "7    14 January 1980 to 31 October 1984   4 years, 291 days   \n",
       "8    31 October 1984 to 2 December 1989    5 years, 32 days   \n",
       "9   2 December 1989 to 10 November 1990            343 days   \n",
       "10     10 November 1990 to 21 June 1991            223 days   \n",
       "11          21 June 1991 to 16 May 1996   4 years, 330 days   \n",
       "12           16 May 1996 to 1 June 1996             16 days   \n",
       "13         1 June 1996 to 21 April 1997            324 days   \n",
       "14      21 April 1997 to 19 March 1998             332 days   \n",
       "15        19 March 1998 to 22 May 2004     6 years, 64 days   \n",
       "16        22 May 2004 to 26 May 2014       10 years, 4 days   \n",
       "17                   26 May 2014 - 2019                 NaN   \n",
       "18               30 May 2019- Incumbent                 NaN   \n",
       "\n",
       "                                              Remarks  \n",
       "0   The first prime minister of India and the long...  \n",
       "1                            First acting PM of India  \n",
       "2   He has given the slogan of 'Jai Jawan Jai Kisa...  \n",
       "3                                                   -  \n",
       "4                First female Prime Minister of India  \n",
       "5   Oldest to become PM (81 years old) and first t...  \n",
       "6             Only PM who did not face the Parliament  \n",
       "7   The first lady who served as PM for the second...  \n",
       "8                Youngest to become PM (40 years old)  \n",
       "9   First PM to step down after a vote of no confi...  \n",
       "10              He belongs to  Samajwadi Janata Party  \n",
       "11                          First PM from South India  \n",
       "12                             PM for shortest tenure  \n",
       "13                          He belongs to  Janata Dal  \n",
       "14                                             ------  \n",
       "15   The first non-congress PM who completed a ful...  \n",
       "16                                      First Sikh PM  \n",
       "17  4th Prime Minister of India who served two con...  \n",
       "18  First non-congress PM with two consecutive ten...  "
      ]
     },
     "execution_count": 154,
     "metadata": {},
     "output_type": "execute_result"
    }
   ],
   "source": [
    "df"
   ]
  },
  {
   "cell_type": "code",
   "execution_count": null,
   "id": "48164578",
   "metadata": {},
   "outputs": [],
   "source": []
  },
  {
   "cell_type": "markdown",
   "id": "c28bddbc",
   "metadata": {},
   "source": [
    "# Question no 10"
   ]
  },
  {
   "cell_type": "code",
   "execution_count": 1,
   "id": "c2b7ad6b",
   "metadata": {},
   "outputs": [],
   "source": [
    "from selenium import webdriver\n",
    "from selenium.webdriver.common.by import By\n",
    "import pandas as pd \n",
    "import warnings\n",
    "warnings.filterwarnings('ignore')\n",
    "import time\n",
    "import pandas as pd"
   ]
  },
  {
   "cell_type": "code",
   "execution_count": 2,
   "id": "4cdc2b41",
   "metadata": {},
   "outputs": [],
   "source": [
    "driver = webdriver.Chrome()"
   ]
  },
  {
   "cell_type": "code",
   "execution_count": 3,
   "id": "61044700",
   "metadata": {},
   "outputs": [],
   "source": [
    "driver.get('https://www.motor1.com/')"
   ]
  },
  {
   "cell_type": "code",
   "execution_count": 4,
   "id": "bde16af8",
   "metadata": {},
   "outputs": [],
   "source": [
    "designation = driver.find_element(By.XPATH,'/html/body/div[10]/div[2]/div/div/div[3]/div/div/div/form/input')\n",
    "designation.send_keys('50 most expensive cars')"
   ]
  },
  {
   "cell_type": "code",
   "execution_count": 5,
   "id": "d54e7ee7",
   "metadata": {},
   "outputs": [],
   "source": [
    "designation.submit()"
   ]
  },
  {
   "cell_type": "code",
   "execution_count": 6,
   "id": "a83b1548",
   "metadata": {},
   "outputs": [],
   "source": [
    "search = driver.find_element(By.XPATH,'/html/body/div[10]/div[6]/form/input[2]')\n",
    "search.click()"
   ]
  },
  {
   "cell_type": "code",
   "execution_count": 7,
   "id": "6ce971bb",
   "metadata": {},
   "outputs": [],
   "source": [
    "tap = driver.find_element(By.XPATH,'/html/body/div[10]/div[9]/div/div[1]/div/div/div[2]/div/div[1]/h3/a')\n",
    "tap.click()"
   ]
  },
  {
   "cell_type": "code",
   "execution_count": 17,
   "id": "07514f68",
   "metadata": {},
   "outputs": [],
   "source": [
    "car_name =[]\n",
    "price = []\n",
    "import re"
   ]
  },
  {
   "cell_type": "code",
   "execution_count": 19,
   "id": "5e8801d0",
   "metadata": {},
   "outputs": [],
   "source": [
    "car_name.clear()\n",
    "price.clear()\n",
    "name_tags = driver.find_elements(By.XPATH,'//h3[@class=\"subheader\"]')\n",
    "price_tags = driver.find_elements(By.XPATH,'//p/strong')\n",
    "for i in name_tags[0:50]:\n",
    "    car_name.append(i.text)\n",
    "for i in price_tags:\n",
    "    line = re.sub(r'Price: ','',i.text)\n",
    "    price.append(line)"
   ]
  },
  {
   "cell_type": "code",
   "execution_count": 23,
   "id": "7e29d98c",
   "metadata": {},
   "outputs": [
    {
     "data": {
      "text/plain": [
       "50"
      ]
     },
     "execution_count": 23,
     "metadata": {},
     "output_type": "execute_result"
    }
   ],
   "source": [
    "len(car_name)"
   ]
  },
  {
   "cell_type": "code",
   "execution_count": 22,
   "id": "2413e8fd",
   "metadata": {},
   "outputs": [
    {
     "data": {
      "text/plain": [
       "50"
      ]
     },
     "execution_count": 22,
     "metadata": {},
     "output_type": "execute_result"
    }
   ],
   "source": [
    "len(price)"
   ]
  },
  {
   "cell_type": "code",
   "execution_count": 36,
   "id": "9f631b4b",
   "metadata": {},
   "outputs": [],
   "source": [
    "df = pd.DataFrame({'Car Name':car_name,'Price':price})"
   ]
  },
  {
   "cell_type": "code",
   "execution_count": 40,
   "id": "e48629a6",
   "metadata": {},
   "outputs": [],
   "source": [
    "#df"
   ]
  },
  {
   "cell_type": "code",
   "execution_count": 38,
   "id": "c9b550f5",
   "metadata": {},
   "outputs": [],
   "source": [
    "df = df[::-1]"
   ]
  },
  {
   "cell_type": "code",
   "execution_count": 39,
   "id": "19cb295c",
   "metadata": {},
   "outputs": [
    {
     "data": {
      "text/html": [
       "<div>\n",
       "<style scoped>\n",
       "    .dataframe tbody tr th:only-of-type {\n",
       "        vertical-align: middle;\n",
       "    }\n",
       "\n",
       "    .dataframe tbody tr th {\n",
       "        vertical-align: top;\n",
       "    }\n",
       "\n",
       "    .dataframe thead th {\n",
       "        text-align: right;\n",
       "    }\n",
       "</style>\n",
       "<table border=\"1\" class=\"dataframe\">\n",
       "  <thead>\n",
       "    <tr style=\"text-align: right;\">\n",
       "      <th></th>\n",
       "      <th>Car Name</th>\n",
       "      <th>Price</th>\n",
       "    </tr>\n",
       "  </thead>\n",
       "  <tbody>\n",
       "    <tr>\n",
       "      <th>49</th>\n",
       "      <td>Rolls-Royce La Rose Noire Droptail</td>\n",
       "      <td>$30 Million (est.)</td>\n",
       "    </tr>\n",
       "    <tr>\n",
       "      <th>48</th>\n",
       "      <td>Rolls-Royce Boat Tail*</td>\n",
       "      <td>$28.0 Million (est.)</td>\n",
       "    </tr>\n",
       "    <tr>\n",
       "      <th>47</th>\n",
       "      <td>Bugatti La Voiture Noire</td>\n",
       "      <td>$13.4 Million</td>\n",
       "    </tr>\n",
       "    <tr>\n",
       "      <th>46</th>\n",
       "      <td>Rolls-Royce Sweptail</td>\n",
       "      <td>$12.8 Million</td>\n",
       "    </tr>\n",
       "    <tr>\n",
       "      <th>45</th>\n",
       "      <td>Bugatti Chiron Profilée</td>\n",
       "      <td>$10.8 Million</td>\n",
       "    </tr>\n",
       "    <tr>\n",
       "      <th>44</th>\n",
       "      <td>Bugatti Centodieci</td>\n",
       "      <td>$9.0 Million</td>\n",
       "    </tr>\n",
       "    <tr>\n",
       "      <th>43</th>\n",
       "      <td>Mercedes-Maybach Exelero</td>\n",
       "      <td>$8.0 Million</td>\n",
       "    </tr>\n",
       "    <tr>\n",
       "      <th>42</th>\n",
       "      <td>777 Hypercar</td>\n",
       "      <td>$7.5 Million</td>\n",
       "    </tr>\n",
       "    <tr>\n",
       "      <th>41</th>\n",
       "      <td>Pagani Codalunga</td>\n",
       "      <td>$7.4 Million</td>\n",
       "    </tr>\n",
       "    <tr>\n",
       "      <th>40</th>\n",
       "      <td>SP Automotive Chaos</td>\n",
       "      <td>$6.4 Million</td>\n",
       "    </tr>\n",
       "    <tr>\n",
       "      <th>39</th>\n",
       "      <td>Bugatti Divo</td>\n",
       "      <td>$5.8 Million</td>\n",
       "    </tr>\n",
       "    <tr>\n",
       "      <th>38</th>\n",
       "      <td>Pagani Huayra Imola</td>\n",
       "      <td>$5.4 Million</td>\n",
       "    </tr>\n",
       "    <tr>\n",
       "      <th>37</th>\n",
       "      <td>Bugatti Mistral</td>\n",
       "      <td>$5.0 Million</td>\n",
       "    </tr>\n",
       "    <tr>\n",
       "      <th>36</th>\n",
       "      <td>Pininfarina B95 Speedster</td>\n",
       "      <td>$4.8 Million</td>\n",
       "    </tr>\n",
       "    <tr>\n",
       "      <th>35</th>\n",
       "      <td>Bugatti Bolide</td>\n",
       "      <td>$4.7 Million</td>\n",
       "    </tr>\n",
       "    <tr>\n",
       "      <th>34</th>\n",
       "      <td>Lamborghini Veneno</td>\n",
       "      <td>$4.5 Million</td>\n",
       "    </tr>\n",
       "    <tr>\n",
       "      <th>33</th>\n",
       "      <td>Bugatti Chiron Super Sport 300+</td>\n",
       "      <td>$3.9 Million</td>\n",
       "    </tr>\n",
       "    <tr>\n",
       "      <th>32</th>\n",
       "      <td>Koenigsegg CC850</td>\n",
       "      <td>$3.7 Million</td>\n",
       "    </tr>\n",
       "    <tr>\n",
       "      <th>31</th>\n",
       "      <td>Lamborghini Sian</td>\n",
       "      <td>$3.6 million</td>\n",
       "    </tr>\n",
       "    <tr>\n",
       "      <th>30</th>\n",
       "      <td>McLaren Solus</td>\n",
       "      <td>$3.5 Million</td>\n",
       "    </tr>\n",
       "    <tr>\n",
       "      <th>29</th>\n",
       "      <td>W Motors Lykan Hypersport</td>\n",
       "      <td>$3.4 Million</td>\n",
       "    </tr>\n",
       "    <tr>\n",
       "      <th>28</th>\n",
       "      <td>Aston Martin Valkyrie</td>\n",
       "      <td>$3.2 Million</td>\n",
       "    </tr>\n",
       "    <tr>\n",
       "      <th>27</th>\n",
       "      <td>Koenigsegg Jesko</td>\n",
       "      <td>$3.0 Million</td>\n",
       "    </tr>\n",
       "    <tr>\n",
       "      <th>26</th>\n",
       "      <td>Hennessey Venom F5 Roadster</td>\n",
       "      <td>$3.0 Million</td>\n",
       "    </tr>\n",
       "    <tr>\n",
       "      <th>25</th>\n",
       "      <td>Aston Martin Victor</td>\n",
       "      <td>$3.0 Million</td>\n",
       "    </tr>\n",
       "    <tr>\n",
       "      <th>24</th>\n",
       "      <td>Zenvo Aurora</td>\n",
       "      <td>$2.8 Million</td>\n",
       "    </tr>\n",
       "    <tr>\n",
       "      <th>23</th>\n",
       "      <td>Mercedes-AMG Project One</td>\n",
       "      <td>$2.7 Million</td>\n",
       "    </tr>\n",
       "    <tr>\n",
       "      <th>22</th>\n",
       "      <td>Lamborghini Countach</td>\n",
       "      <td>$2.6 Million</td>\n",
       "    </tr>\n",
       "    <tr>\n",
       "      <th>21</th>\n",
       "      <td>Gordon Murray T.50</td>\n",
       "      <td>$2.6 Million</td>\n",
       "    </tr>\n",
       "    <tr>\n",
       "      <th>20</th>\n",
       "      <td>Pininfarina Battista</td>\n",
       "      <td>$2.5 Million</td>\n",
       "    </tr>\n",
       "    <tr>\n",
       "      <th>19</th>\n",
       "      <td>Pagani Utopia</td>\n",
       "      <td>$2.5 Million</td>\n",
       "    </tr>\n",
       "    <tr>\n",
       "      <th>18</th>\n",
       "      <td>Rimac Nevera</td>\n",
       "      <td>$2.4 Million</td>\n",
       "    </tr>\n",
       "    <tr>\n",
       "      <th>17</th>\n",
       "      <td>McLaren Speedtail</td>\n",
       "      <td>$2.3 Million</td>\n",
       "    </tr>\n",
       "    <tr>\n",
       "      <th>16</th>\n",
       "      <td>Ferrari Daytona SP3</td>\n",
       "      <td>$2.3 Million</td>\n",
       "    </tr>\n",
       "    <tr>\n",
       "      <th>15</th>\n",
       "      <td>Delage D12</td>\n",
       "      <td>$2.3 Million</td>\n",
       "    </tr>\n",
       "    <tr>\n",
       "      <th>14</th>\n",
       "      <td>Aston Martin Vulcan</td>\n",
       "      <td>$2.3 Million</td>\n",
       "    </tr>\n",
       "    <tr>\n",
       "      <th>13</th>\n",
       "      <td>Lotus Evija</td>\n",
       "      <td>$2.1 Million</td>\n",
       "    </tr>\n",
       "    <tr>\n",
       "      <th>12</th>\n",
       "      <td>SSC Tuatara</td>\n",
       "      <td>$2.0 Million</td>\n",
       "    </tr>\n",
       "    <tr>\n",
       "      <th>11</th>\n",
       "      <td>Deus Vayanne</td>\n",
       "      <td>$2.0 Million</td>\n",
       "    </tr>\n",
       "    <tr>\n",
       "      <th>10</th>\n",
       "      <td>Bentley Mulliner Batur</td>\n",
       "      <td>$2.0 Million</td>\n",
       "    </tr>\n",
       "    <tr>\n",
       "      <th>9</th>\n",
       "      <td>Hispano Suiza Carmen Boulogne</td>\n",
       "      <td>$1.9 Million</td>\n",
       "    </tr>\n",
       "    <tr>\n",
       "      <th>8</th>\n",
       "      <td>Bentley Bacalar</td>\n",
       "      <td>$1.9 Million</td>\n",
       "    </tr>\n",
       "    <tr>\n",
       "      <th>7</th>\n",
       "      <td>Hennessey Venom F5</td>\n",
       "      <td>$1.8 Million</td>\n",
       "    </tr>\n",
       "    <tr>\n",
       "      <th>6</th>\n",
       "      <td>Zenvo TSR-S</td>\n",
       "      <td>$1.7 Million</td>\n",
       "    </tr>\n",
       "    <tr>\n",
       "      <th>5</th>\n",
       "      <td>Koenigsegg Gemera</td>\n",
       "      <td>$1.7 Million</td>\n",
       "    </tr>\n",
       "    <tr>\n",
       "      <th>4</th>\n",
       "      <td>Gordon Murray T.33</td>\n",
       "      <td>$1.7 Million</td>\n",
       "    </tr>\n",
       "    <tr>\n",
       "      <th>3</th>\n",
       "      <td>Ferrari Monza</td>\n",
       "      <td>$1.7 Million</td>\n",
       "    </tr>\n",
       "    <tr>\n",
       "      <th>2</th>\n",
       "      <td>Czinger 21C</td>\n",
       "      <td>$1.7 Million</td>\n",
       "    </tr>\n",
       "    <tr>\n",
       "      <th>1</th>\n",
       "      <td>McLaren Elva</td>\n",
       "      <td>$1.7 Million</td>\n",
       "    </tr>\n",
       "    <tr>\n",
       "      <th>0</th>\n",
       "      <td>Aston Martin Valour</td>\n",
       "      <td>$1.5 Million</td>\n",
       "    </tr>\n",
       "  </tbody>\n",
       "</table>\n",
       "</div>"
      ],
      "text/plain": [
       "                              Car Name                 Price\n",
       "49  Rolls-Royce La Rose Noire Droptail    $30 Million (est.)\n",
       "48              Rolls-Royce Boat Tail*  $28.0 Million (est.)\n",
       "47            Bugatti La Voiture Noire         $13.4 Million\n",
       "46                Rolls-Royce Sweptail         $12.8 Million\n",
       "45             Bugatti Chiron Profilée         $10.8 Million\n",
       "44                  Bugatti Centodieci          $9.0 Million\n",
       "43            Mercedes-Maybach Exelero          $8.0 Million\n",
       "42                        777 Hypercar          $7.5 Million\n",
       "41                    Pagani Codalunga          $7.4 Million\n",
       "40                 SP Automotive Chaos          $6.4 Million\n",
       "39                        Bugatti Divo          $5.8 Million\n",
       "38                 Pagani Huayra Imola          $5.4 Million\n",
       "37                     Bugatti Mistral          $5.0 Million\n",
       "36           Pininfarina B95 Speedster          $4.8 Million\n",
       "35                      Bugatti Bolide          $4.7 Million\n",
       "34                  Lamborghini Veneno          $4.5 Million\n",
       "33     Bugatti Chiron Super Sport 300+          $3.9 Million\n",
       "32                    Koenigsegg CC850          $3.7 Million\n",
       "31                    Lamborghini Sian          $3.6 million\n",
       "30                       McLaren Solus          $3.5 Million\n",
       "29           W Motors Lykan Hypersport          $3.4 Million\n",
       "28               Aston Martin Valkyrie          $3.2 Million\n",
       "27                    Koenigsegg Jesko          $3.0 Million\n",
       "26         Hennessey Venom F5 Roadster          $3.0 Million\n",
       "25                 Aston Martin Victor          $3.0 Million\n",
       "24                        Zenvo Aurora          $2.8 Million\n",
       "23            Mercedes-AMG Project One          $2.7 Million\n",
       "22                Lamborghini Countach          $2.6 Million\n",
       "21                  Gordon Murray T.50          $2.6 Million\n",
       "20                Pininfarina Battista          $2.5 Million\n",
       "19                       Pagani Utopia          $2.5 Million\n",
       "18                        Rimac Nevera          $2.4 Million\n",
       "17                   McLaren Speedtail          $2.3 Million\n",
       "16                 Ferrari Daytona SP3          $2.3 Million\n",
       "15                          Delage D12          $2.3 Million\n",
       "14                 Aston Martin Vulcan          $2.3 Million\n",
       "13                         Lotus Evija          $2.1 Million\n",
       "12                         SSC Tuatara          $2.0 Million\n",
       "11                        Deus Vayanne          $2.0 Million\n",
       "10              Bentley Mulliner Batur          $2.0 Million\n",
       "9        Hispano Suiza Carmen Boulogne          $1.9 Million\n",
       "8                      Bentley Bacalar          $1.9 Million\n",
       "7                   Hennessey Venom F5          $1.8 Million\n",
       "6                          Zenvo TSR-S          $1.7 Million\n",
       "5                    Koenigsegg Gemera          $1.7 Million\n",
       "4                   Gordon Murray T.33          $1.7 Million\n",
       "3                        Ferrari Monza          $1.7 Million\n",
       "2                          Czinger 21C          $1.7 Million\n",
       "1                         McLaren Elva          $1.7 Million\n",
       "0                  Aston Martin Valour          $1.5 Million"
      ]
     },
     "execution_count": 39,
     "metadata": {},
     "output_type": "execute_result"
    }
   ],
   "source": [
    "df"
   ]
  },
  {
   "cell_type": "code",
   "execution_count": null,
   "id": "8cedfd36",
   "metadata": {},
   "outputs": [],
   "source": []
  },
  {
   "cell_type": "code",
   "execution_count": null,
   "id": "44e3ab0b",
   "metadata": {},
   "outputs": [],
   "source": []
  },
  {
   "cell_type": "code",
   "execution_count": null,
   "id": "deeb8435",
   "metadata": {},
   "outputs": [],
   "source": []
  },
  {
   "cell_type": "code",
   "execution_count": null,
   "id": "20c8a38c",
   "metadata": {},
   "outputs": [],
   "source": []
  }
 ],
 "metadata": {
  "kernelspec": {
   "display_name": "Python 3 (ipykernel)",
   "language": "python",
   "name": "python3"
  },
  "language_info": {
   "codemirror_mode": {
    "name": "ipython",
    "version": 3
   },
   "file_extension": ".py",
   "mimetype": "text/x-python",
   "name": "python",
   "nbconvert_exporter": "python",
   "pygments_lexer": "ipython3",
   "version": "3.10.9"
  }
 },
 "nbformat": 4,
 "nbformat_minor": 5
}
