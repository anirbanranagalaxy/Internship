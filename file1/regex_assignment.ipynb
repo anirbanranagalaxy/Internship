{
 "cells": [
  {
   "cell_type": "markdown",
   "id": "bbb18341",
   "metadata": {},
   "source": [
    "Answer Of Question 1"
   ]
  },
  {
   "cell_type": "code",
   "execution_count": 1,
   "id": "b3835805",
   "metadata": {},
   "outputs": [
    {
     "name": "stdout",
     "output_type": "stream",
     "text": [
      "Python:Exercises::PHP:exercises:\n"
     ]
    }
   ],
   "source": [
    "import re\n",
    "sample_text = 'Python Exercises, PHP exercises.'\n",
    "result = re.sub(r'[\\s+,\\.]',':',sample_text)\n",
    "print(result)"
   ]
  },
  {
   "cell_type": "markdown",
   "id": "f2637f0e",
   "metadata": {},
   "source": [
    "Answer Of Question 2\n"
   ]
  },
  {
   "cell_type": "code",
   "execution_count": 4,
   "id": "0efff831",
   "metadata": {},
   "outputs": [
    {
     "name": "stdout",
     "output_type": "stream",
     "text": [
      "['exercises']\n"
     ]
    }
   ],
   "source": [
    "sample_text = 'Python Exercises, PHP exercises.'\n",
    "result = re.findall(r'\\b[ae]\\w+',sample_text)\n",
    "print(result)"
   ]
  },
  {
   "cell_type": "markdown",
   "id": "987728ec",
   "metadata": {},
   "source": [
    "Answer Of Question 3"
   ]
  },
  {
   "cell_type": "code",
   "execution_count": 8,
   "id": "e05c0865",
   "metadata": {},
   "outputs": [
    {
     "data": {
      "text/plain": [
       "['name', 'Anirban', 'Rana', 'student', 'data', 'science']"
      ]
     },
     "execution_count": 8,
     "metadata": {},
     "output_type": "execute_result"
    }
   ],
   "source": [
    "def func(sample_text):\n",
    "    pattern = re.compile(r'\\b\\w{4,}\\b')\n",
    "    return pattern.findall(sample_text)\n",
    "\n",
    "sample_text = 'Hi my name is Anirban Rana and I am a student of data science'\n",
    "func(sample_text)"
   ]
  },
  {
   "cell_type": "markdown",
   "id": "8bdeed92",
   "metadata": {},
   "source": [
    "Answer Of Question 4"
   ]
  },
  {
   "cell_type": "code",
   "execution_count": 21,
   "id": "232000c2",
   "metadata": {},
   "outputs": [
    {
     "data": {
      "text/plain": [
       "['name', 'Rana', 'and', 'data']"
      ]
     },
     "execution_count": 21,
     "metadata": {},
     "output_type": "execute_result"
    }
   ],
   "source": [
    "def func1(sample_text):\n",
    "    pattern = re.compile(r'\\b\\w{3,5}\\b')\n",
    "    return pattern.findall(sample_text)\n",
    "\n",
    "sample_text = 'Hi my name is Anirban Rana and I am a student of data science'\n",
    "func1(sample_text)"
   ]
  },
  {
   "cell_type": "markdown",
   "id": "a5faf0ca",
   "metadata": {},
   "source": [
    "Answer Of Question 5"
   ]
  },
  {
   "cell_type": "code",
   "execution_count": 92,
   "id": "156d60ea",
   "metadata": {},
   "outputs": [
    {
     "name": "stdout",
     "output_type": "stream",
     "text": [
      "example .com\n",
      "hr@fliprobo .com\n",
      "github .com\n",
      "Hello Data Science World\n",
      "Data Scientist\n"
     ]
    }
   ],
   "source": [
    "sample_text =  [\"example (.com)\", \"hr@fliprobo (.com)\", \"github (.com)\", \"Hello (Data Science World)\", \"Data (Scientist)\"]\n",
    "def func2(sample_text):\n",
    "    pattern = re.compile(r'[\\(\\)]')\n",
    "    for i in sample_text:\n",
    "        print(pattern.sub('',i))\n",
    "\n",
    "func2(sample_text)"
   ]
  },
  {
   "cell_type": "markdown",
   "id": "d74e0fa5",
   "metadata": {},
   "source": [
    "Answer Of Question 6"
   ]
  },
  {
   "cell_type": "code",
   "execution_count": 14,
   "id": "93ddb827",
   "metadata": {},
   "outputs": [
    {
     "name": "stdout",
     "output_type": "stream",
     "text": [
      "Sample Text: [\"example \", \"hr@fliprobo \", \"github \", \"Hello \", \"Data \"]\n",
      "\n",
      "\n",
      "\n"
     ]
    }
   ],
   "source": [
    "with open (\"C:\\\\Users\\\\anirb\\\\OneDrive\\\\Desktop\\\\regex.txt\") as file:\n",
    "    for line in file:\n",
    "        result = re.sub(r'\\([^\\)]+\\)','',line)\n",
    "        print(result)"
   ]
  },
  {
   "cell_type": "markdown",
   "id": "5e016432",
   "metadata": {},
   "source": [
    "Answer Of Question 7"
   ]
  },
  {
   "cell_type": "code",
   "execution_count": 94,
   "id": "8213af60",
   "metadata": {},
   "outputs": [
    {
     "name": "stdout",
     "output_type": "stream",
     "text": [
      "['Importance', 'Of', 'Regular', 'Expressions', 'In', 'Python']\n"
     ]
    }
   ],
   "source": [
    "sample_text = 'ImportanceOfRegularExpressionsInPython'\n",
    "result = re.findall(r'[A-Z][^A-Z]*',sample_text)\n",
    "print(result)\n"
   ]
  },
  {
   "cell_type": "markdown",
   "id": "14c2ec4b",
   "metadata": {},
   "source": [
    "Answer Of Question 8"
   ]
  },
  {
   "cell_type": "code",
   "execution_count": 16,
   "id": "5839083e",
   "metadata": {},
   "outputs": [
    {
     "name": "stdout",
     "output_type": "stream",
     "text": [
      "RegularExpression 1IsAn 2ImportantTopic 3InPython\n"
     ]
    }
   ],
   "source": [
    "import re\n",
    "sample_text = \"RegularExpression1IsAn2ImportantTopic3InPython\"\n",
    "def func3(sample_text):\n",
    "    result = re.sub(r'([a-zA-Z])(\\d+)',r'\\1 \\2',sample_text)\n",
    "    print(result)\n",
    "    \n",
    "func3(sample_text)"
   ]
  },
  {
   "cell_type": "markdown",
   "id": "59b4abd2",
   "metadata": {},
   "source": [
    "Answer Of Question 9"
   ]
  },
  {
   "cell_type": "code",
   "execution_count": 27,
   "id": "6b1ddd77",
   "metadata": {},
   "outputs": [
    {
     "name": "stdout",
     "output_type": "stream",
     "text": [
      "RegularExpression 1 IsAn 2 ImportantTopic 3 InPython\n"
     ]
    }
   ],
   "source": [
    "sample_text = \"RegularExpression1IsAn2ImportantTopic3InPython\"\n",
    "def func4(sample_text):\n",
    "    result = re.sub(r'([a-zA-Z])(\\d+)',r'\\1 \\2 ',sample_text)\n",
    "    print(result)\n",
    "    \n",
    "func4(sample_text)"
   ]
  },
  {
   "cell_type": "markdown",
   "id": "d0e5d6cd",
   "metadata": {},
   "source": [
    "Answer Of Question 10"
   ]
  },
  {
   "cell_type": "code",
   "execution_count": 26,
   "id": "9cfe341d",
   "metadata": {},
   "outputs": [
    {
     "name": "stdout",
     "output_type": "stream",
     "text": [
      "['xyz@domain.com', 'xyz.abc@sdomain.domain.com']\n",
      "['hr@fliprobo.com']\n",
      "[]\n"
     ]
    }
   ],
   "source": [
    "with open (\"C:\\\\Users\\\\anirb\\\\OneDrive\\\\Desktop\\\\regex2.txt\") as file:\n",
    "    for line in file:\n",
    "        result = re.findall(r'[\\w+\\+\\_\\*\\.]+@[a-z\\.]+\\.[a-z]{2,3}',line)\n",
    "        print(result)\n",
    "        "
   ]
  },
  {
   "cell_type": "markdown",
   "id": "5c90db2f",
   "metadata": {},
   "source": [
    "Answer Of Question 11"
   ]
  },
  {
   "cell_type": "code",
   "execution_count": 43,
   "id": "faa6539d",
   "metadata": {},
   "outputs": [
    {
     "name": "stdout",
     "output_type": "stream",
     "text": [
      "['Hello my name is ANIRBAN RANA and I am a student of DATA SCIENCE']\n"
     ]
    }
   ],
   "source": [
    "sample_string= \"Hello my name is ANIRBAN RANA and I am a student of DATA SCIENCE\"\n",
    "def func5(sample_string):\n",
    "    result = re.findall(r'^[\\w\\s]*$',sample_string)   # I use space along with the criteria. If it is not considered then \\s will not be there\n",
    "    print(result)\n",
    "\n",
    "func5(sample_string)\n"
   ]
  },
  {
   "cell_type": "markdown",
   "id": "f0711930",
   "metadata": {},
   "source": [
    "Answer Of Question 12"
   ]
  },
  {
   "cell_type": "code",
   "execution_count": 54,
   "id": "50fa8124",
   "metadata": {},
   "outputs": [
    {
     "name": "stdout",
     "output_type": "stream",
     "text": [
      "enter any string :17 is not 18\n",
      "enter a specific number starts with :1\n",
      "<re.Match object; span=(0, 1), match='1'>\n"
     ]
    }
   ],
   "source": [
    "def func6():\n",
    "    string = str(input(\"enter any string :\"))\n",
    "    value = int(input(\"enter a specific number starts with :\"))\n",
    "    result = re.match('^'+str(value),string)\n",
    "    print(result)\n",
    "func6()"
   ]
  },
  {
   "cell_type": "markdown",
   "id": "5c6117da",
   "metadata": {},
   "source": [
    "Answer Of Question 13"
   ]
  },
  {
   "cell_type": "code",
   "execution_count": 59,
   "id": "850a5cb0",
   "metadata": {},
   "outputs": [
    {
     "name": "stdout",
     "output_type": "stream",
     "text": [
      "192.168.100.1\n"
     ]
    }
   ],
   "source": [
    "sample_ip_address = '00192.168.100.1'  #leading 00 should not be there\n",
    "result = re.sub(r'^0*','',sample_ip_address)\n",
    "print(result)"
   ]
  },
  {
   "cell_type": "markdown",
   "id": "b7061a88",
   "metadata": {},
   "source": [
    "Answer Of Question 14"
   ]
  },
  {
   "cell_type": "code",
   "execution_count": 66,
   "id": "b26f6750",
   "metadata": {},
   "outputs": [
    {
     "name": "stdout",
     "output_type": "stream",
     "text": [
      "<re.Match object; span=(20, 36), match='August 15th 1947'>\n",
      "None\n"
     ]
    }
   ],
   "source": [
    "with open (\"C:\\\\Users\\\\anirb\\\\OneDrive\\\\Desktop\\\\regex3.txt\") as file:\n",
    "    for line in file:\n",
    "        result = re.search(r'[a-zA-Z]+ [0-9a-z]+ \\d{4}',line)\n",
    "        print (result)"
   ]
  },
  {
   "cell_type": "markdown",
   "id": "3e4fe2da",
   "metadata": {},
   "source": [
    "Answer Of Question 15"
   ]
  },
  {
   "cell_type": "code",
   "execution_count": 67,
   "id": "78aebf11",
   "metadata": {},
   "outputs": [
    {
     "name": "stdout",
     "output_type": "stream",
     "text": [
      "<re.Match object; span=(16, 19), match='fox'>\n",
      "<re.Match object; span=(40, 43), match='dog'>\n",
      "None\n"
     ]
    }
   ],
   "source": [
    "sample_text = 'The quick brown fox jumps over the lazy dog.'\n",
    "list1 = ['fox','dog','horse']\n",
    "for i in list1:\n",
    "    result = re.search(i,sample_text)\n",
    "    print(result)"
   ]
  },
  {
   "cell_type": "markdown",
   "id": "46eccaf5",
   "metadata": {},
   "source": [
    "Answer Of Question 16"
   ]
  },
  {
   "cell_type": "code",
   "execution_count": 69,
   "id": "d71180ef",
   "metadata": {},
   "outputs": [
    {
     "name": "stdout",
     "output_type": "stream",
     "text": [
      "<re.Match object; span=(16, 19), match='fox'>\n",
      "(16, 19)\n"
     ]
    }
   ],
   "source": [
    "sample_text = 'The quick brown fox jumps over the lazy dog.'\n",
    "result = re.search('fox',sample_text)\n",
    "print(result)\n",
    "print(result.span()) # this will give us the starting and ending indexes"
   ]
  },
  {
   "cell_type": "markdown",
   "id": "798a24d6",
   "metadata": {},
   "source": [
    "Answer Of Question 17"
   ]
  },
  {
   "cell_type": "code",
   "execution_count": 70,
   "id": "44305299",
   "metadata": {},
   "outputs": [
    {
     "name": "stdout",
     "output_type": "stream",
     "text": [
      "['exercises', 'exercises', 'exercises']\n"
     ]
    }
   ],
   "source": [
    "sample_text = 'Python exercises, PHP exercises, C# exercises'\n",
    "pattern = r'\\be[a-z]+s\\b'\n",
    "result = re.findall(pattern,sample_text)\n",
    "print(result)"
   ]
  },
  {
   "cell_type": "markdown",
   "id": "5b627e25",
   "metadata": {},
   "source": [
    "Answer Of Question 18"
   ]
  },
  {
   "cell_type": "code",
   "execution_count": 3,
   "id": "9ffe5b72",
   "metadata": {},
   "outputs": [
    {
     "name": "stdout",
     "output_type": "stream",
     "text": [
      "no of matches : 3\n",
      "exercises position at = 7 : 16\n",
      "exercises position at = 22 : 31\n",
      "exercises position at = 36 : 45\n"
     ]
    }
   ],
   "source": [
    "import re\n",
    "sample_text = 'Python exercises, PHP exercises, C# exercises'\n",
    "result = re.finditer(r'\\be[a-z]+s\\b',sample_text)\n",
    "print('no of matches :',len(list(result)))\n",
    "for i in re.finditer(r'\\be[a-z]+s\\b',sample_text):\n",
    "    print(i.group(),'position at =',i.start(),':',i.end())"
   ]
  },
  {
   "cell_type": "markdown",
   "id": "2579f5c9",
   "metadata": {},
   "source": [
    "Answer Of Question 19"
   ]
  },
  {
   "cell_type": "code",
   "execution_count": 8,
   "id": "605f2bc4",
   "metadata": {},
   "outputs": [
    {
     "name": "stdout",
     "output_type": "stream",
     "text": [
      "01-10-2023\n"
     ]
    }
   ],
   "source": [
    "from datetime import datetime\n",
    "sample_text =  '2023-10-01'\n",
    "current_date = datetime.strptime(sample_text,'%Y-%m-%d')\n",
    "new_date = current_date.strftime('%d-%m-%Y')\n",
    "print(new_date)\n"
   ]
  },
  {
   "cell_type": "markdown",
   "id": "577fe6ae",
   "metadata": {},
   "source": [
    "Answer Of Question 20"
   ]
  },
  {
   "cell_type": "code",
   "execution_count": 31,
   "id": "4a2e0fd9",
   "metadata": {},
   "outputs": [
    {
     "name": "stdout",
     "output_type": "stream",
     "text": [
      "['01.12', '145.8', '3.01', '27.25', '0.25']\n"
     ]
    }
   ],
   "source": [
    "sample_text = \"01.12 0132.123 2.31875 145.8 3.01 27.25 0.25\"\n",
    "def func7():\n",
    "    pattern = re.compile(r'[0-9]*\\.\\d{1,2}\\b')\n",
    "    result = pattern.findall(sample_text)\n",
    "    print(result)\n",
    "    \n",
    "func7()\n",
    "    "
   ]
  },
  {
   "cell_type": "markdown",
   "id": "876e6fe9",
   "metadata": {},
   "source": [
    "Answer Of Question 21"
   ]
  },
  {
   "cell_type": "code",
   "execution_count": 37,
   "id": "d5e67b82",
   "metadata": {},
   "outputs": [
    {
     "name": "stdout",
     "output_type": "stream",
     "text": [
      "match is : 01.12     at = (0, 5)\n",
      "match is : 0132.123     at = (6, 14)\n",
      "match is : 2.31875     at = (15, 22)\n",
      "match is : 145.8     at = (23, 28)\n",
      "match is : 3.01     at = (29, 33)\n",
      "match is : 27.25     at = (34, 39)\n",
      "match is : 0.25     at = (40, 44)\n"
     ]
    }
   ],
   "source": [
    "sample_text = \"01.12 0132.123 2.31875 145.8 3.01 27.25 0.25\"\n",
    "pattern = re.compile(r'[0-9]*\\.\\d+\\b')\n",
    "for i in pattern.finditer(sample_text):\n",
    "    print('match is :',i.group(),'    at =',i.span())"
   ]
  },
  {
   "cell_type": "markdown",
   "id": "59bcc81f",
   "metadata": {},
   "source": [
    "Answer Of Question 22"
   ]
  },
  {
   "cell_type": "code",
   "execution_count": 45,
   "id": "04067c19",
   "metadata": {},
   "outputs": [
    {
     "name": "stdout",
     "output_type": "stream",
     "text": [
      "950\n"
     ]
    }
   ],
   "source": [
    "sample_text = 'My marks in each semester are: 947, 896, 926, 524, 734, 950, 642'\n",
    "result = re.findall(r'\\d+',sample_text)\n",
    "print(max(result))"
   ]
  },
  {
   "cell_type": "markdown",
   "id": "c76851a8",
   "metadata": {},
   "source": [
    "Answer Of Question 23"
   ]
  },
  {
   "cell_type": "code",
   "execution_count": 59,
   "id": "81d977f7",
   "metadata": {},
   "outputs": [
    {
     "name": "stdout",
     "output_type": "stream",
     "text": [
      "Regular Expression Is An Important Topic In Python \n"
     ]
    }
   ],
   "source": [
    "sample_text =  \"RegularExpressionIsAnImportantTopicInPython\"\n",
    "result = re.sub(r'([A-Z][a-z]+)([A-Z][a-z]+)',r'\\1 \\2 ',sample_text)\n",
    "print(result)"
   ]
  },
  {
   "cell_type": "markdown",
   "id": "80c6e35e",
   "metadata": {},
   "source": [
    "Answer Of Question 24"
   ]
  },
  {
   "cell_type": "code",
   "execution_count": 60,
   "id": "a32936a9",
   "metadata": {},
   "outputs": [
    {
     "name": "stdout",
     "output_type": "stream",
     "text": [
      "['Regular', 'Expression', 'Is', 'An', 'Important', 'Topic', 'In', 'Python']\n"
     ]
    }
   ],
   "source": [
    "sample_text = 'Regular Expression Is An Important Topic In Python'\n",
    "result = re.findall(r'[A-Z][a-z]+',sample_text)\n",
    "print(result)"
   ]
  },
  {
   "cell_type": "markdown",
   "id": "5722c2e9",
   "metadata": {},
   "source": [
    "Answer Of Question 25"
   ]
  },
  {
   "cell_type": "code",
   "execution_count": 66,
   "id": "64df0bc2",
   "metadata": {},
   "outputs": [
    {
     "name": "stdout",
     "output_type": "stream",
     "text": [
      "Hello hello world\n"
     ]
    }
   ],
   "source": [
    "sample_text = \"Hello hello world world\"\n",
    "result = re.sub(r'([A-Za-z]+) (\\1)',r'\\1',sample_text)\n",
    "print(result)"
   ]
  },
  {
   "cell_type": "markdown",
   "id": "92d75625",
   "metadata": {},
   "source": [
    "Answer Of Question 26"
   ]
  },
  {
   "cell_type": "code",
   "execution_count": 68,
   "id": "1a16103d",
   "metadata": {},
   "outputs": [
    {
     "name": "stdout",
     "output_type": "stream",
     "text": [
      "<re.Match object; span=(44, 50), match='Python'>\n",
      "None\n",
      "<re.Match object; span=(11, 18), match='data789'>\n"
     ]
    }
   ],
   "source": [
    "sample_text = ['Regular Expression Is An Important Topic In Python','I am a student of data science.','My pass is data789']\n",
    "for i in sample_text:\n",
    "    result = re.search(r'\\w+$',i)\n",
    "    print(result)"
   ]
  },
  {
   "cell_type": "markdown",
   "id": "c6ff4a93",
   "metadata": {},
   "source": [
    "Answer Of Question 27"
   ]
  },
  {
   "cell_type": "code",
   "execution_count": 82,
   "id": "f49df1be",
   "metadata": {},
   "outputs": [
    {
     "name": "stdout",
     "output_type": "stream",
     "text": [
      "['#Doltiwal', '#xyzabc', '#Demonetization']\n"
     ]
    }
   ],
   "source": [
    "sample_text = \"\"\"RT @kapil_kausik: #Doltiwal I mean #xyzabc is \"hurt\" by #Demonetization as the same has rendered USELESS <ed><U+00A0><U+00BD><ed><U+00B1><U+0089> \"acquired funds\" No wo\"\"\"\n",
    "result = re.findall(r'#[a-zA-Z]+',sample_text)\n",
    "print(result)"
   ]
  },
  {
   "cell_type": "markdown",
   "id": "b37815d0",
   "metadata": {},
   "source": [
    "Answer Of Question 28"
   ]
  },
  {
   "cell_type": "code",
   "execution_count": 91,
   "id": "25dd7693",
   "metadata": {},
   "outputs": [
    {
     "name": "stdout",
     "output_type": "stream",
     "text": [
      "@Jags123456 Bharat band on 28??<ed><ed>Those who  are protesting #demonetization  are all different party leaders\n"
     ]
    }
   ],
   "source": [
    "sample_text =  \"@Jags123456 Bharat band on 28??<ed><U+00A0><U+00BD><ed><U+00B8><U+0082>Those who  are protesting #demonetization  are all different party leaders\"\n",
    "result = re.sub(r'<U\\+\\w+>','',sample_text)\n",
    "print(result)"
   ]
  },
  {
   "cell_type": "markdown",
   "id": "649e66b7",
   "metadata": {},
   "source": [
    "Answer Of Question 29"
   ]
  },
  {
   "cell_type": "code",
   "execution_count": 95,
   "id": "8266441d",
   "metadata": {},
   "outputs": [
    {
     "name": "stdout",
     "output_type": "stream",
     "text": [
      "['12-09-1992', '15-12-1999']\n",
      "[]\n"
     ]
    }
   ],
   "source": [
    "with open (\"C:\\\\Users\\\\anirb\\\\OneDrive\\\\Desktop\\\\regex4.txt\") as file:\n",
    "    for line in file:\n",
    "        result = re.findall(r'\\d{2}\\-\\d{2}\\-\\d{4}',line)\n",
    "        print(result)"
   ]
  },
  {
   "cell_type": "markdown",
   "id": "7437a366",
   "metadata": {},
   "source": [
    "Answer Of Question 30"
   ]
  },
  {
   "cell_type": "code",
   "execution_count": 101,
   "id": "33e7da99",
   "metadata": {},
   "outputs": [
    {
     "name": "stdout",
     "output_type": "stream",
     "text": [
      " following example creates  ArrayList  a capacity   elements. 4 elements   added   ArrayList   ArrayList  trimmed accordingly.\n"
     ]
    }
   ],
   "source": [
    "sample_text = \"The following example creates an ArrayList with a capacity of 50 elements. 4 elements are then added to the ArrayList and the ArrayList is trimmed accordingly.\"\n",
    "result = re.sub(r'(\\b[A-Za-z0-9]{2,4}\\b)','',sample_text)\n",
    "print(result)\n",
    "    "
   ]
  }
 ],
 "metadata": {
  "kernelspec": {
   "display_name": "Python 3 (ipykernel)",
   "language": "python",
   "name": "python3"
  },
  "language_info": {
   "codemirror_mode": {
    "name": "ipython",
    "version": 3
   },
   "file_extension": ".py",
   "mimetype": "text/x-python",
   "name": "python",
   "nbconvert_exporter": "python",
   "pygments_lexer": "ipython3",
   "version": "3.10.9"
  }
 },
 "nbformat": 4,
 "nbformat_minor": 5
}
