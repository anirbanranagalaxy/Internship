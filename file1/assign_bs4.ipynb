{
 "cells": [
  {
   "cell_type": "markdown",
   "id": "75e9955f",
   "metadata": {},
   "source": [
    "Question no 6"
   ]
  },
  {
   "cell_type": "code",
   "execution_count": 2,
   "id": "12768bdd",
   "metadata": {},
   "outputs": [],
   "source": [
    "from bs4 import BeautifulSoup as bs\n",
    "import requests\n",
    "import pandas as pd"
   ]
  },
  {
   "cell_type": "code",
   "execution_count": 3,
   "id": "9fade7a0",
   "metadata": {},
   "outputs": [],
   "source": [
    "page = requests.get(\"https://www.journals.elsevier.com/artificial-intelligence/most-downloaded-articles\")"
   ]
  },
  {
   "cell_type": "code",
   "execution_count": 4,
   "id": "b876302b",
   "metadata": {},
   "outputs": [
    {
     "data": {
      "text/plain": [
       "<Response [200]>"
      ]
     },
     "execution_count": 4,
     "metadata": {},
     "output_type": "execute_result"
    }
   ],
   "source": [
    "page"
   ]
  },
  {
   "cell_type": "code",
   "execution_count": 5,
   "id": "404d0364",
   "metadata": {},
   "outputs": [],
   "source": [
    "soup = bs(page.content,'html.parser')"
   ]
  },
  {
   "cell_type": "code",
   "execution_count": 6,
   "id": "89970ff9",
   "metadata": {},
   "outputs": [
    {
     "data": {
      "text/plain": [
       "'Reward is enough'"
      ]
     },
     "execution_count": 6,
     "metadata": {},
     "output_type": "execute_result"
    }
   ],
   "source": [
    "tittle = soup.find('h2',class_=\"sc-1qrq3sd-1 gRGSUS sc-1nmom32-0 sc-1nmom32-1 btcbYu goSKRg\")\n",
    "tittle.text"
   ]
  },
  {
   "cell_type": "code",
   "execution_count": 7,
   "id": "14b8e7ee",
   "metadata": {},
   "outputs": [
    {
     "data": {
      "text/plain": [
       "['Reward is enough',\n",
       " 'Explanation in artificial intelligence: Insights from the social sciences',\n",
       " 'Creativity and artificial intelligence',\n",
       " 'Conflict-based search for optimal multi-agent pathfinding',\n",
       " 'Knowledge graphs as tools for explainable machine learning: A survey',\n",
       " 'Law and logic: A review from an argumentation perspective',\n",
       " 'Between MDPs and semi-MDPs: A framework for temporal abstraction in reinforcement learning',\n",
       " 'Explaining individual predictions when features are dependent: More accurate approximations to Shapley values',\n",
       " 'Multiple object tracking: A literature review',\n",
       " 'A survey of inverse reinforcement learning: Challenges, methods and progress',\n",
       " 'Evaluating XAI: A comparison of rule-based and example-based explanations',\n",
       " 'Explainable AI tools for legal reasoning about cases: A study on the European Court of Human Rights',\n",
       " 'Hard choices in artificial intelligence',\n",
       " 'Assessing the communication gap between AI models and healthcare professionals: Explainability, utility and trust in AI-driven clinical decision-making',\n",
       " 'Explaining black-box classifiers using post-hoc explanations-by-example: The effect of explanations and error-rates in XAI user studies',\n",
       " 'The Hanabi challenge: A new frontier for AI research',\n",
       " 'Wrappers for feature subset selection',\n",
       " 'Artificial cognition for social human–robot interaction: An implementation',\n",
       " 'A review of possible effects of cognitive biases on interpretation of rule-based machine learning models',\n",
       " 'The multifaceted impact of Ada Lovelace in the digital age',\n",
       " 'Robot ethics: Mapping the issues for a mechanized world',\n",
       " 'Reward (Mis)design for autonomous driving',\n",
       " 'Planning and acting in partially observable stochastic domains',\n",
       " 'What do we want from Explainable Artificial Intelligence (XAI)? – A stakeholder perspective on XAI and a conceptual model guiding interdisciplinary XAI research']"
      ]
     },
     "execution_count": 7,
     "metadata": {},
     "output_type": "execute_result"
    }
   ],
   "source": [
    "all_tittle = []\n",
    "for i in soup.find_all('h2',class_=\"sc-1qrq3sd-1 gRGSUS sc-1nmom32-0 sc-1nmom32-1 btcbYu goSKRg\"):\n",
    "    all_tittle.append(i.text)\n",
    "all_tittle"
   ]
  },
  {
   "cell_type": "code",
   "execution_count": 8,
   "id": "23931d72",
   "metadata": {},
   "outputs": [
    {
     "data": {
      "text/plain": [
       "'David Silver, Satinder Singh, Doina Precup, Richard S. Sutton '"
      ]
     },
     "execution_count": 8,
     "metadata": {},
     "output_type": "execute_result"
    }
   ],
   "source": [
    "auth = soup.find('span',class_=\"sc-1w3fpd7-0 dnCnAO\")\n",
    "auth.text"
   ]
  },
  {
   "cell_type": "code",
   "execution_count": 9,
   "id": "5604e240",
   "metadata": {},
   "outputs": [
    {
     "data": {
      "text/plain": [
       "['David Silver, Satinder Singh, Doina Precup, Richard S. Sutton ',\n",
       " 'Tim Miller ',\n",
       " 'Margaret A. Boden ',\n",
       " 'Guni Sharon, Roni Stern, Ariel Felner, Nathan R. Sturtevant ',\n",
       " 'Ilaria Tiddi, Stefan Schlobach ',\n",
       " 'Henry Prakken, Giovanni Sartor ',\n",
       " 'Richard S. Sutton, Doina Precup, Satinder Singh ',\n",
       " 'Kjersti Aas, Martin Jullum, Anders Løland ',\n",
       " 'Wenhan Luo, Junliang Xing and 4 more',\n",
       " 'Saurabh Arora, Prashant Doshi ',\n",
       " 'Jasper van der Waa, Elisabeth Nieuwburg, Anita Cremers, Mark Neerincx ',\n",
       " 'Joe Collenette, Katie Atkinson, Trevor Bench-Capon ',\n",
       " 'Roel Dobbe, Thomas Krendl Gilbert, Yonatan Mintz ',\n",
       " 'Oskar Wysocki, Jessica Katharine Davies and 5 more',\n",
       " 'Eoin M. Kenny, Courtney Ford, Molly Quinn, Mark T. Keane ',\n",
       " 'Nolan Bard, Jakob N. Foerster and 13 more',\n",
       " 'Ron Kohavi, George H. John ',\n",
       " 'Séverin Lemaignan, Mathieu Warnier and 3 more',\n",
       " 'Tomáš Kliegr, Štěpán Bahník, Johannes Fürnkranz ',\n",
       " 'Luigia Carlucci Aiello ',\n",
       " 'Patrick Lin, Keith Abney, George Bekey ',\n",
       " 'W. Bradley Knox, Alessandro Allievi and 3 more',\n",
       " 'Leslie Pack Kaelbling, Michael L. Littman, Anthony R. Cassandra ',\n",
       " 'Markus Langer, Daniel Oster and 6 more']"
      ]
     },
     "execution_count": 9,
     "metadata": {},
     "output_type": "execute_result"
    }
   ],
   "source": [
    "authors = []\n",
    "for i in soup.find_all('span',class_=\"sc-1w3fpd7-0 dnCnAO\"):\n",
    "    authors.append(i.text)\n",
    "authors"
   ]
  },
  {
   "cell_type": "code",
   "execution_count": 10,
   "id": "5672f7a8",
   "metadata": {},
   "outputs": [
    {
     "data": {
      "text/plain": [
       "'October 2021'"
      ]
     },
     "execution_count": 10,
     "metadata": {},
     "output_type": "execute_result"
    }
   ],
   "source": [
    "date = soup.find(\"span\",class_=\"sc-1thf9ly-2 dvggWt\")\n",
    "date.text"
   ]
  },
  {
   "cell_type": "code",
   "execution_count": 11,
   "id": "ead65ef4",
   "metadata": {},
   "outputs": [
    {
     "data": {
      "text/plain": [
       "['October 2021',\n",
       " 'February 2019',\n",
       " 'August 1998',\n",
       " 'February 2015',\n",
       " 'January 2022',\n",
       " 'October 2015',\n",
       " 'August 1999',\n",
       " 'September 2021',\n",
       " 'April 2021',\n",
       " 'August 2021',\n",
       " 'February 2021',\n",
       " 'April 2023',\n",
       " 'November 2021',\n",
       " 'March 2023',\n",
       " 'May 2021',\n",
       " 'March 2020',\n",
       " 'December 1997',\n",
       " 'June 2017',\n",
       " 'June 2021',\n",
       " 'June 2016',\n",
       " 'April 2011',\n",
       " 'March 2023',\n",
       " 'May 1998',\n",
       " 'July 2021']"
      ]
     },
     "execution_count": 11,
     "metadata": {},
     "output_type": "execute_result"
    }
   ],
   "source": [
    "dates = []\n",
    "for i in soup.find_all(\"span\",class_=\"sc-1thf9ly-2 dvggWt\"):\n",
    "    dates.append(i.text)\n",
    "dates"
   ]
  },
  {
   "cell_type": "code",
   "execution_count": 12,
   "id": "f1b12b06",
   "metadata": {},
   "outputs": [
    {
     "data": {
      "text/plain": [
       "['https://www.sciencedirect.com/science/article/pii/S0004370221000862',\n",
       " 'https://www.sciencedirect.com/science/article/pii/S0004370218305988',\n",
       " 'https://www.sciencedirect.com/science/article/pii/S0004370298000551',\n",
       " 'https://www.sciencedirect.com/science/article/pii/S0004370214001386',\n",
       " 'https://www.sciencedirect.com/science/article/pii/S0004370221001788',\n",
       " 'https://www.sciencedirect.com/science/article/pii/S0004370215000910',\n",
       " 'https://www.sciencedirect.com/science/article/pii/S0004370299000521',\n",
       " 'https://www.sciencedirect.com/science/article/pii/S0004370221000539',\n",
       " 'https://www.sciencedirect.com/science/article/pii/S0004370220301958',\n",
       " 'https://www.sciencedirect.com/science/article/pii/S0004370221000515',\n",
       " 'https://www.sciencedirect.com/science/article/pii/S0004370220301533',\n",
       " 'https://www.sciencedirect.com/science/article/pii/S0004370223000073',\n",
       " 'https://www.sciencedirect.com/science/article/pii/S0004370221001065',\n",
       " 'https://www.sciencedirect.com/science/article/pii/S0004370222001795',\n",
       " 'https://www.sciencedirect.com/science/article/pii/S0004370221000102',\n",
       " 'https://www.sciencedirect.com/science/article/pii/S0004370219300116',\n",
       " 'https://www.sciencedirect.com/science/article/pii/S000437029700043X',\n",
       " 'https://www.sciencedirect.com/science/article/pii/S0004370216300790',\n",
       " 'https://www.sciencedirect.com/science/article/pii/S0004370221000096',\n",
       " 'https://www.sciencedirect.com/science/article/pii/S0004370216300224',\n",
       " 'https://www.sciencedirect.com/science/article/pii/S0004370211000178',\n",
       " 'https://www.sciencedirect.com/science/article/pii/S0004370222001692',\n",
       " 'https://www.sciencedirect.com/science/article/pii/S000437029800023X',\n",
       " 'https://www.sciencedirect.com/science/article/pii/S0004370221000242']"
      ]
     },
     "execution_count": 12,
     "metadata": {},
     "output_type": "execute_result"
    }
   ],
   "source": [
    "links = []\n",
    "for i in soup.find_all(\"li\", class_=\"sc-9zxyh7-1 sc-9zxyh7-2 kOEIEO hvoVxs\"):\n",
    "    a_tags = i.find_all('a')\n",
    "    for a in a_tags:\n",
    "        links.append(a.get('href'))\n",
    "links"
   ]
  },
  {
   "cell_type": "code",
   "execution_count": 13,
   "id": "88b77090",
   "metadata": {},
   "outputs": [],
   "source": [
    "df = pd.DataFrame({'Paper Title':all_tittle,'Authors':authors,'Published Date':dates,'Paper URL':links})"
   ]
  },
  {
   "cell_type": "code",
   "execution_count": 14,
   "id": "0ad1910d",
   "metadata": {},
   "outputs": [
    {
     "data": {
      "text/html": [
       "<div>\n",
       "<style scoped>\n",
       "    .dataframe tbody tr th:only-of-type {\n",
       "        vertical-align: middle;\n",
       "    }\n",
       "\n",
       "    .dataframe tbody tr th {\n",
       "        vertical-align: top;\n",
       "    }\n",
       "\n",
       "    .dataframe thead th {\n",
       "        text-align: right;\n",
       "    }\n",
       "</style>\n",
       "<table border=\"1\" class=\"dataframe\">\n",
       "  <thead>\n",
       "    <tr style=\"text-align: right;\">\n",
       "      <th></th>\n",
       "      <th>Paper Title</th>\n",
       "      <th>Authors</th>\n",
       "      <th>Published Date</th>\n",
       "      <th>Paper URL</th>\n",
       "    </tr>\n",
       "  </thead>\n",
       "  <tbody>\n",
       "    <tr>\n",
       "      <th>0</th>\n",
       "      <td>Reward is enough</td>\n",
       "      <td>David Silver, Satinder Singh, Doina Precup, Ri...</td>\n",
       "      <td>October 2021</td>\n",
       "      <td>https://www.sciencedirect.com/science/article/...</td>\n",
       "    </tr>\n",
       "    <tr>\n",
       "      <th>1</th>\n",
       "      <td>Explanation in artificial intelligence: Insigh...</td>\n",
       "      <td>Tim Miller</td>\n",
       "      <td>February 2019</td>\n",
       "      <td>https://www.sciencedirect.com/science/article/...</td>\n",
       "    </tr>\n",
       "    <tr>\n",
       "      <th>2</th>\n",
       "      <td>Creativity and artificial intelligence</td>\n",
       "      <td>Margaret A. Boden</td>\n",
       "      <td>August 1998</td>\n",
       "      <td>https://www.sciencedirect.com/science/article/...</td>\n",
       "    </tr>\n",
       "    <tr>\n",
       "      <th>3</th>\n",
       "      <td>Conflict-based search for optimal multi-agent ...</td>\n",
       "      <td>Guni Sharon, Roni Stern, Ariel Felner, Nathan ...</td>\n",
       "      <td>February 2015</td>\n",
       "      <td>https://www.sciencedirect.com/science/article/...</td>\n",
       "    </tr>\n",
       "    <tr>\n",
       "      <th>4</th>\n",
       "      <td>Knowledge graphs as tools for explainable mach...</td>\n",
       "      <td>Ilaria Tiddi, Stefan Schlobach</td>\n",
       "      <td>January 2022</td>\n",
       "      <td>https://www.sciencedirect.com/science/article/...</td>\n",
       "    </tr>\n",
       "    <tr>\n",
       "      <th>5</th>\n",
       "      <td>Law and logic: A review from an argumentation ...</td>\n",
       "      <td>Henry Prakken, Giovanni Sartor</td>\n",
       "      <td>October 2015</td>\n",
       "      <td>https://www.sciencedirect.com/science/article/...</td>\n",
       "    </tr>\n",
       "    <tr>\n",
       "      <th>6</th>\n",
       "      <td>Between MDPs and semi-MDPs: A framework for te...</td>\n",
       "      <td>Richard S. Sutton, Doina Precup, Satinder Singh</td>\n",
       "      <td>August 1999</td>\n",
       "      <td>https://www.sciencedirect.com/science/article/...</td>\n",
       "    </tr>\n",
       "    <tr>\n",
       "      <th>7</th>\n",
       "      <td>Explaining individual predictions when feature...</td>\n",
       "      <td>Kjersti Aas, Martin Jullum, Anders Løland</td>\n",
       "      <td>September 2021</td>\n",
       "      <td>https://www.sciencedirect.com/science/article/...</td>\n",
       "    </tr>\n",
       "    <tr>\n",
       "      <th>8</th>\n",
       "      <td>Multiple object tracking: A literature review</td>\n",
       "      <td>Wenhan Luo, Junliang Xing and 4 more</td>\n",
       "      <td>April 2021</td>\n",
       "      <td>https://www.sciencedirect.com/science/article/...</td>\n",
       "    </tr>\n",
       "    <tr>\n",
       "      <th>9</th>\n",
       "      <td>A survey of inverse reinforcement learning: Ch...</td>\n",
       "      <td>Saurabh Arora, Prashant Doshi</td>\n",
       "      <td>August 2021</td>\n",
       "      <td>https://www.sciencedirect.com/science/article/...</td>\n",
       "    </tr>\n",
       "    <tr>\n",
       "      <th>10</th>\n",
       "      <td>Evaluating XAI: A comparison of rule-based and...</td>\n",
       "      <td>Jasper van der Waa, Elisabeth Nieuwburg, Anita...</td>\n",
       "      <td>February 2021</td>\n",
       "      <td>https://www.sciencedirect.com/science/article/...</td>\n",
       "    </tr>\n",
       "    <tr>\n",
       "      <th>11</th>\n",
       "      <td>Explainable AI tools for legal reasoning about...</td>\n",
       "      <td>Joe Collenette, Katie Atkinson, Trevor Bench-C...</td>\n",
       "      <td>April 2023</td>\n",
       "      <td>https://www.sciencedirect.com/science/article/...</td>\n",
       "    </tr>\n",
       "    <tr>\n",
       "      <th>12</th>\n",
       "      <td>Hard choices in artificial intelligence</td>\n",
       "      <td>Roel Dobbe, Thomas Krendl Gilbert, Yonatan Mintz</td>\n",
       "      <td>November 2021</td>\n",
       "      <td>https://www.sciencedirect.com/science/article/...</td>\n",
       "    </tr>\n",
       "    <tr>\n",
       "      <th>13</th>\n",
       "      <td>Assessing the communication gap between AI mod...</td>\n",
       "      <td>Oskar Wysocki, Jessica Katharine Davies and 5 ...</td>\n",
       "      <td>March 2023</td>\n",
       "      <td>https://www.sciencedirect.com/science/article/...</td>\n",
       "    </tr>\n",
       "    <tr>\n",
       "      <th>14</th>\n",
       "      <td>Explaining black-box classifiers using post-ho...</td>\n",
       "      <td>Eoin M. Kenny, Courtney Ford, Molly Quinn, Mar...</td>\n",
       "      <td>May 2021</td>\n",
       "      <td>https://www.sciencedirect.com/science/article/...</td>\n",
       "    </tr>\n",
       "    <tr>\n",
       "      <th>15</th>\n",
       "      <td>The Hanabi challenge: A new frontier for AI re...</td>\n",
       "      <td>Nolan Bard, Jakob N. Foerster and 13 more</td>\n",
       "      <td>March 2020</td>\n",
       "      <td>https://www.sciencedirect.com/science/article/...</td>\n",
       "    </tr>\n",
       "    <tr>\n",
       "      <th>16</th>\n",
       "      <td>Wrappers for feature subset selection</td>\n",
       "      <td>Ron Kohavi, George H. John</td>\n",
       "      <td>December 1997</td>\n",
       "      <td>https://www.sciencedirect.com/science/article/...</td>\n",
       "    </tr>\n",
       "    <tr>\n",
       "      <th>17</th>\n",
       "      <td>Artificial cognition for social human–robot in...</td>\n",
       "      <td>Séverin Lemaignan, Mathieu Warnier and 3 more</td>\n",
       "      <td>June 2017</td>\n",
       "      <td>https://www.sciencedirect.com/science/article/...</td>\n",
       "    </tr>\n",
       "    <tr>\n",
       "      <th>18</th>\n",
       "      <td>A review of possible effects of cognitive bias...</td>\n",
       "      <td>Tomáš Kliegr, Štěpán Bahník, Johannes Fürnkranz</td>\n",
       "      <td>June 2021</td>\n",
       "      <td>https://www.sciencedirect.com/science/article/...</td>\n",
       "    </tr>\n",
       "    <tr>\n",
       "      <th>19</th>\n",
       "      <td>The multifaceted impact of Ada Lovelace in the...</td>\n",
       "      <td>Luigia Carlucci Aiello</td>\n",
       "      <td>June 2016</td>\n",
       "      <td>https://www.sciencedirect.com/science/article/...</td>\n",
       "    </tr>\n",
       "    <tr>\n",
       "      <th>20</th>\n",
       "      <td>Robot ethics: Mapping the issues for a mechani...</td>\n",
       "      <td>Patrick Lin, Keith Abney, George Bekey</td>\n",
       "      <td>April 2011</td>\n",
       "      <td>https://www.sciencedirect.com/science/article/...</td>\n",
       "    </tr>\n",
       "    <tr>\n",
       "      <th>21</th>\n",
       "      <td>Reward (Mis)design for autonomous driving</td>\n",
       "      <td>W. Bradley Knox, Alessandro Allievi and 3 more</td>\n",
       "      <td>March 2023</td>\n",
       "      <td>https://www.sciencedirect.com/science/article/...</td>\n",
       "    </tr>\n",
       "    <tr>\n",
       "      <th>22</th>\n",
       "      <td>Planning and acting in partially observable st...</td>\n",
       "      <td>Leslie Pack Kaelbling, Michael L. Littman, Ant...</td>\n",
       "      <td>May 1998</td>\n",
       "      <td>https://www.sciencedirect.com/science/article/...</td>\n",
       "    </tr>\n",
       "    <tr>\n",
       "      <th>23</th>\n",
       "      <td>What do we want from Explainable Artificial In...</td>\n",
       "      <td>Markus Langer, Daniel Oster and 6 more</td>\n",
       "      <td>July 2021</td>\n",
       "      <td>https://www.sciencedirect.com/science/article/...</td>\n",
       "    </tr>\n",
       "  </tbody>\n",
       "</table>\n",
       "</div>"
      ],
      "text/plain": [
       "                                          Paper Title  \\\n",
       "0                                    Reward is enough   \n",
       "1   Explanation in artificial intelligence: Insigh...   \n",
       "2              Creativity and artificial intelligence   \n",
       "3   Conflict-based search for optimal multi-agent ...   \n",
       "4   Knowledge graphs as tools for explainable mach...   \n",
       "5   Law and logic: A review from an argumentation ...   \n",
       "6   Between MDPs and semi-MDPs: A framework for te...   \n",
       "7   Explaining individual predictions when feature...   \n",
       "8       Multiple object tracking: A literature review   \n",
       "9   A survey of inverse reinforcement learning: Ch...   \n",
       "10  Evaluating XAI: A comparison of rule-based and...   \n",
       "11  Explainable AI tools for legal reasoning about...   \n",
       "12            Hard choices in artificial intelligence   \n",
       "13  Assessing the communication gap between AI mod...   \n",
       "14  Explaining black-box classifiers using post-ho...   \n",
       "15  The Hanabi challenge: A new frontier for AI re...   \n",
       "16              Wrappers for feature subset selection   \n",
       "17  Artificial cognition for social human–robot in...   \n",
       "18  A review of possible effects of cognitive bias...   \n",
       "19  The multifaceted impact of Ada Lovelace in the...   \n",
       "20  Robot ethics: Mapping the issues for a mechani...   \n",
       "21          Reward (Mis)design for autonomous driving   \n",
       "22  Planning and acting in partially observable st...   \n",
       "23  What do we want from Explainable Artificial In...   \n",
       "\n",
       "                                              Authors  Published Date  \\\n",
       "0   David Silver, Satinder Singh, Doina Precup, Ri...    October 2021   \n",
       "1                                         Tim Miller    February 2019   \n",
       "2                                  Margaret A. Boden      August 1998   \n",
       "3   Guni Sharon, Roni Stern, Ariel Felner, Nathan ...   February 2015   \n",
       "4                     Ilaria Tiddi, Stefan Schlobach     January 2022   \n",
       "5                     Henry Prakken, Giovanni Sartor     October 2015   \n",
       "6    Richard S. Sutton, Doina Precup, Satinder Singh      August 1999   \n",
       "7          Kjersti Aas, Martin Jullum, Anders Løland   September 2021   \n",
       "8                Wenhan Luo, Junliang Xing and 4 more      April 2021   \n",
       "9                      Saurabh Arora, Prashant Doshi      August 2021   \n",
       "10  Jasper van der Waa, Elisabeth Nieuwburg, Anita...   February 2021   \n",
       "11  Joe Collenette, Katie Atkinson, Trevor Bench-C...      April 2023   \n",
       "12  Roel Dobbe, Thomas Krendl Gilbert, Yonatan Mintz    November 2021   \n",
       "13  Oskar Wysocki, Jessica Katharine Davies and 5 ...      March 2023   \n",
       "14  Eoin M. Kenny, Courtney Ford, Molly Quinn, Mar...        May 2021   \n",
       "15          Nolan Bard, Jakob N. Foerster and 13 more      March 2020   \n",
       "16                        Ron Kohavi, George H. John    December 1997   \n",
       "17      Séverin Lemaignan, Mathieu Warnier and 3 more       June 2017   \n",
       "18   Tomáš Kliegr, Štěpán Bahník, Johannes Fürnkranz        June 2021   \n",
       "19                            Luigia Carlucci Aiello        June 2016   \n",
       "20            Patrick Lin, Keith Abney, George Bekey       April 2011   \n",
       "21     W. Bradley Knox, Alessandro Allievi and 3 more      March 2023   \n",
       "22  Leslie Pack Kaelbling, Michael L. Littman, Ant...        May 1998   \n",
       "23             Markus Langer, Daniel Oster and 6 more       July 2021   \n",
       "\n",
       "                                            Paper URL  \n",
       "0   https://www.sciencedirect.com/science/article/...  \n",
       "1   https://www.sciencedirect.com/science/article/...  \n",
       "2   https://www.sciencedirect.com/science/article/...  \n",
       "3   https://www.sciencedirect.com/science/article/...  \n",
       "4   https://www.sciencedirect.com/science/article/...  \n",
       "5   https://www.sciencedirect.com/science/article/...  \n",
       "6   https://www.sciencedirect.com/science/article/...  \n",
       "7   https://www.sciencedirect.com/science/article/...  \n",
       "8   https://www.sciencedirect.com/science/article/...  \n",
       "9   https://www.sciencedirect.com/science/article/...  \n",
       "10  https://www.sciencedirect.com/science/article/...  \n",
       "11  https://www.sciencedirect.com/science/article/...  \n",
       "12  https://www.sciencedirect.com/science/article/...  \n",
       "13  https://www.sciencedirect.com/science/article/...  \n",
       "14  https://www.sciencedirect.com/science/article/...  \n",
       "15  https://www.sciencedirect.com/science/article/...  \n",
       "16  https://www.sciencedirect.com/science/article/...  \n",
       "17  https://www.sciencedirect.com/science/article/...  \n",
       "18  https://www.sciencedirect.com/science/article/...  \n",
       "19  https://www.sciencedirect.com/science/article/...  \n",
       "20  https://www.sciencedirect.com/science/article/...  \n",
       "21  https://www.sciencedirect.com/science/article/...  \n",
       "22  https://www.sciencedirect.com/science/article/...  \n",
       "23  https://www.sciencedirect.com/science/article/...  "
      ]
     },
     "execution_count": 14,
     "metadata": {},
     "output_type": "execute_result"
    }
   ],
   "source": [
    "df"
   ]
  },
  {
   "cell_type": "code",
   "execution_count": null,
   "id": "a0fcd03e",
   "metadata": {},
   "outputs": [],
   "source": []
  },
  {
   "cell_type": "code",
   "execution_count": null,
   "id": "60e1d9dd",
   "metadata": {},
   "outputs": [],
   "source": []
  },
  {
   "cell_type": "markdown",
   "id": "30796b80",
   "metadata": {},
   "source": [
    "Question no 7"
   ]
  },
  {
   "cell_type": "code",
   "execution_count": 15,
   "id": "3e2b8f41",
   "metadata": {},
   "outputs": [],
   "source": [
    "page = requests.get('https://www.dineout.co.in/delhi-restaurants/welcome-back')"
   ]
  },
  {
   "cell_type": "code",
   "execution_count": 16,
   "id": "d15e3ebb",
   "metadata": {},
   "outputs": [
    {
     "data": {
      "text/plain": [
       "<Response [200]>"
      ]
     },
     "execution_count": 16,
     "metadata": {},
     "output_type": "execute_result"
    }
   ],
   "source": [
    "page"
   ]
  },
  {
   "cell_type": "code",
   "execution_count": 17,
   "id": "adaa216f",
   "metadata": {},
   "outputs": [],
   "source": [
    "soup = bs(page.content)"
   ]
  },
  {
   "cell_type": "code",
   "execution_count": 18,
   "id": "7902ab3c",
   "metadata": {},
   "outputs": [],
   "source": [
    "name = soup.find('a',class_=\"restnt-name ellipsis\")"
   ]
  },
  {
   "cell_type": "code",
   "execution_count": 19,
   "id": "6ac15b5d",
   "metadata": {},
   "outputs": [
    {
     "data": {
      "text/plain": [
       "'Connaught Club House'"
      ]
     },
     "execution_count": 19,
     "metadata": {},
     "output_type": "execute_result"
    }
   ],
   "source": [
    "name.text"
   ]
  },
  {
   "cell_type": "code",
   "execution_count": 20,
   "id": "2539bbf5",
   "metadata": {},
   "outputs": [
    {
     "data": {
      "text/plain": [
       "['Connaught Club House',\n",
       " 'Ministry Of Beer',\n",
       " 'The G.T. Road',\n",
       " 'Gin & Juliet',\n",
       " 'My Bar Headquarters',\n",
       " 'Sandoz',\n",
       " 'The Junkyard Cafe',\n",
       " 'Tamasha',\n",
       " 'Unplugged Courtyard',\n",
       " 'Local',\n",
       " 'Openhouse Cafe',\n",
       " 'Ardor 2.1 Restaurant and Lounge',\n",
       " 'Yeti - The Himalayan Kitchen',\n",
       " 'Ghoomar Traditional Thali Restaurant',\n",
       " 'Farzi Cafe',\n",
       " \"Berco's\",\n",
       " '38 Barracks',\n",
       " 'Ranisa',\n",
       " 'Desi Villagio - Village Theme Restro Bar',\n",
       " 'Caffe Tonino',\n",
       " 'Zaffran']"
      ]
     },
     "execution_count": 20,
     "metadata": {},
     "output_type": "execute_result"
    }
   ],
   "source": [
    "restoname = []\n",
    "for i in soup.find_all('a',class_=\"restnt-name ellipsis\"):\n",
    "    restoname.append(i.text)\n",
    "restoname"
   ]
  },
  {
   "cell_type": "code",
   "execution_count": 21,
   "id": "22016f25",
   "metadata": {},
   "outputs": [],
   "source": [
    "loc= soup.find('div',class_=\"restnt-loc ellipsis\")"
   ]
  },
  {
   "cell_type": "code",
   "execution_count": 22,
   "id": "172a23ef",
   "metadata": {},
   "outputs": [
    {
     "data": {
      "text/plain": [
       "'Connaught Place, Central Delhi'"
      ]
     },
     "execution_count": 22,
     "metadata": {},
     "output_type": "execute_result"
    }
   ],
   "source": [
    "loc.text"
   ]
  },
  {
   "cell_type": "code",
   "execution_count": 23,
   "id": "6b45a488",
   "metadata": {},
   "outputs": [
    {
     "data": {
      "text/plain": [
       "['Connaught Place, Central Delhi',\n",
       " 'M-Block,Connaught Place, Central Delhi',\n",
       " 'M-Block,Connaught Place, Central Delhi',\n",
       " 'F-Block,Connaught Place, Central Delhi',\n",
       " 'Connaught Place, Central Delhi',\n",
       " 'Connaught Place, Central Delhi',\n",
       " 'Connaught Place, Central Delhi',\n",
       " 'Connaught Place, Central Delhi',\n",
       " 'Connaught Place, Central Delhi',\n",
       " 'Scindia House,Connaught Place, Central Delhi',\n",
       " 'Connaught Place, Central Delhi',\n",
       " 'Connaught Place, Central Delhi',\n",
       " 'The Colonnade,Connaught Place, Central Delhi',\n",
       " 'Connaught Place, Central Delhi',\n",
       " 'Connaught Place, Central Delhi',\n",
       " 'Connaught Place, Central Delhi',\n",
       " 'M-Block,Connaught Place, Central Delhi',\n",
       " 'Connaught Place, Central Delhi',\n",
       " 'Connaught Place, Central Delhi',\n",
       " 'PVR Plaza,Connaught Place, Central Delhi',\n",
       " 'Hotel Palace Heights,Connaught Place, Central Delhi']"
      ]
     },
     "execution_count": 23,
     "metadata": {},
     "output_type": "execute_result"
    }
   ],
   "source": [
    "locations = []\n",
    "for i in soup.find_all('div',class_=\"restnt-loc ellipsis\"):\n",
    "    locations.append(i.text)\n",
    "locations"
   ]
  },
  {
   "cell_type": "code",
   "execution_count": 24,
   "id": "5db4901f",
   "metadata": {},
   "outputs": [
    {
     "data": {
      "text/plain": [
       "'4.2'"
      ]
     },
     "execution_count": 24,
     "metadata": {},
     "output_type": "execute_result"
    }
   ],
   "source": [
    "rat = soup.find('div',class_=\"restnt-rating rating-4\")\n",
    "rat.text"
   ]
  },
  {
   "cell_type": "code",
   "execution_count": 25,
   "id": "ca724c12",
   "metadata": {},
   "outputs": [
    {
     "data": {
      "text/plain": [
       "['4.2',\n",
       " '4',\n",
       " '4.3',\n",
       " '4',\n",
       " '4',\n",
       " '4',\n",
       " '4.1',\n",
       " '4.2',\n",
       " '4',\n",
       " '4',\n",
       " '4.1',\n",
       " '4.1',\n",
       " '4.3',\n",
       " '4.1',\n",
       " '4.1',\n",
       " '4.3',\n",
       " '4.3',\n",
       " '4.3',\n",
       " '4.1',\n",
       " '4.4',\n",
       " '4.4']"
      ]
     },
     "execution_count": 25,
     "metadata": {},
     "output_type": "execute_result"
    }
   ],
   "source": [
    "ratings = []\n",
    "for i in soup.find_all('div',class_=\"restnt-rating rating-4\"):\n",
    "    ratings.append(i.text)\n",
    "ratings"
   ]
  },
  {
   "cell_type": "code",
   "execution_count": 26,
   "id": "77dfcab9",
   "metadata": {},
   "outputs": [
    {
     "data": {
      "text/plain": [
       "'https://im1.dineout.co.in/images/uploads/restaurant/sharpen/7/c/z/p77626-15833232035e5f98437554f.jpg?tr=tr:n-medium'"
      ]
     },
     "execution_count": 26,
     "metadata": {},
     "output_type": "execute_result"
    }
   ],
   "source": [
    "image = soup.find('img',class_=\"no-img\")\n",
    "image['data-src']"
   ]
  },
  {
   "cell_type": "code",
   "execution_count": 27,
   "id": "12b1bdd7",
   "metadata": {},
   "outputs": [
    {
     "data": {
      "text/plain": [
       "['https://im1.dineout.co.in/images/uploads/restaurant/sharpen/7/c/z/p77626-15833232035e5f98437554f.jpg?tr=tr:n-medium',\n",
       " 'https://im1.dineout.co.in/images/uploads/restaurant/sharpen/3/a/d/p32381-1495943585592a49a166fe7.jpg?tr=tr:n-medium',\n",
       " 'https://im1.dineout.co.in/images/uploads/restaurant/sharpen/3/m/u/p31393-15972091555f337a43bb961.jpg?tr=tr:n-medium',\n",
       " 'https://im1.dineout.co.in/images/uploads/restaurant/sharpen/9/l/q/p971-16946056676501a163bf712.jpg?tr=tr:n-medium',\n",
       " 'https://im1.dineout.co.in/images/uploads/restaurant/sharpen/1/d/f/p19636-16463919576221f295ae1f1.jpg?tr=tr:n-medium',\n",
       " 'https://im1.dineout.co.in/images/uploads/restaurant/sharpen/8/e/u/p80493-16064603115fc0a397716de.jpg?tr=tr:n-medium',\n",
       " 'https://im1.dineout.co.in/images/uploads/restaurant/sharpen/2/s/y/p20298-1664186585633178d99f1db.jpg?tr=tr:n-medium',\n",
       " 'https://im1.dineout.co.in/images/uploads/restaurant/sharpen/2/a/j/p20996-145631488756cd9a0796608.jpg?tr=tr:n-medium',\n",
       " 'https://im1.dineout.co.in/images/uploads/restaurant/sharpen/2/e/y/p20941-168915645564ae7b673b872.jpg?tr=tr:n-medium',\n",
       " 'https://im1.dineout.co.in/images/uploads/restaurant/sharpen/2/b/t/p27452-15020105505986dcb6d147f.jpg?tr=tr:n-medium',\n",
       " 'https://im1.dineout.co.in/images/uploads/restaurant/sharpen/1/e/q/p19748-169217151564dc7cfba4753.jpg?tr=tr:n-medium',\n",
       " 'https://im1.dineout.co.in/images/uploads/restaurant/sharpen/2/y/m/p221-16455303976214cd1d7a086.jpg?tr=tr:n-medium',\n",
       " 'https://im1.dineout.co.in/images/uploads/restaurant/sharpen/3/n/c/p3007-15706949095d9ee6fd0b8b4.jpg?tr=tr:n-medium',\n",
       " 'https://im1.dineout.co.in/images/uploads/restaurant/sharpen/5/e/z/p53380-15544492915ca7038b700f1.jpg?tr=tr:n-medium',\n",
       " 'https://im1.dineout.co.in/images/uploads/restaurant/sharpen/4/y/y/p4199-164188203361dd21b1a3174.jpg?tr=tr:n-medium',\n",
       " 'https://im1.dineout.co.in/images/uploads/restaurant/sharpen/2/t/u/p237-16468990666229af7a72b08.jpg?tr=tr:n-medium',\n",
       " 'https://im1.dineout.co.in/images/uploads/restaurant/sharpen/2/y/j/p21171-166019927162f4a167b10af.jpg?tr=tr:n-medium',\n",
       " 'https://im1.dineout.co.in/images/uploads/restaurant/sharpen/8/x/k/p87447-161588804660507eaee6e94.jpg?tr=tr:n-medium',\n",
       " 'https://im1.dineout.co.in/images/uploads/restaurant/sharpen/1/z/c/p19259-1686039280647eeaf0c8440.jpg?tr=tr:n-medium',\n",
       " 'https://im1.dineout.co.in/images/uploads/restaurant/sharpen/1/o/b/p1317-15164263275a62d457c112d.jpg?tr=tr:n-medium',\n",
       " 'https://im1.dineout.co.in/images/uploads/restaurant/sharpen/3/k/v/p3094-1617661641606b8ec9027d2.JPG?tr=tr:n-medium']"
      ]
     },
     "execution_count": 27,
     "metadata": {},
     "output_type": "execute_result"
    }
   ],
   "source": [
    "image_url=[]\n",
    "for i in soup.find_all('img',class_=\"no-img\"):\n",
    "    image_url.append(i['data-src'])\n",
    "image_url"
   ]
  },
  {
   "cell_type": "code",
   "execution_count": 28,
   "id": "2220b2e6",
   "metadata": {},
   "outputs": [
    {
     "data": {
      "text/plain": [
       "'₹ 1,800 for 2 (approx) | North Indian, Continental, Asian, Chinese'"
      ]
     },
     "execution_count": 28,
     "metadata": {},
     "output_type": "execute_result"
    }
   ],
   "source": [
    "cuisine = soup.find('span',class_=\"double-line-ellipsis\")\n",
    "cuisine.text\n"
   ]
  },
  {
   "cell_type": "code",
   "execution_count": 29,
   "id": "74e08388",
   "metadata": {},
   "outputs": [
    {
     "data": {
      "text/plain": [
       "[' North Indian, Continental, Asian, Chinese',\n",
       " ' North Indian, Continental, American, Asian',\n",
       " ' North Indian',\n",
       " ' Italian, Chinese, North Indian, Fast Food',\n",
       " ' North Indian, Chinese',\n",
       " ' North Indian, Continental',\n",
       " ' North Indian, Continental, Chinese, Fast Food',\n",
       " ' Continental, Asian, Italian, North Indian',\n",
       " ' North Indian, Italian, Chinese, Turkish, Continental',\n",
       " ' North Indian, Asian, Continental',\n",
       " ' North Indian, Asian, Italian',\n",
       " ' North Indian, Chinese, Italian, Continental',\n",
       " ' Tibetan, Nepalese',\n",
       " ' North Indian, Rajasthani',\n",
       " ' Modern Indian, Continental, Finger Food',\n",
       " ' Chinese, Thai',\n",
       " ' North Indian, Chinese, Continental',\n",
       " ' Rajasthani',\n",
       " ' North Indian',\n",
       " ' Italian, Beverages',\n",
       " ' Mughlai, North Indian']"
      ]
     },
     "execution_count": 29,
     "metadata": {},
     "output_type": "execute_result"
    }
   ],
   "source": [
    "import re\n",
    "cuisines = []\n",
    "for i in soup.find_all('span',class_=\"double-line-ellipsis\"):\n",
    "    text = i.text\n",
    "    pattern = r'₹ [\\d,]+ for \\d+ \\(approx\\) \\|'\n",
    "    g=re.sub(pattern,'',text)\n",
    "    cuisines.append(g)\n",
    "cuisines"
   ]
  },
  {
   "cell_type": "code",
   "execution_count": 30,
   "id": "4b157491",
   "metadata": {},
   "outputs": [],
   "source": [
    "import pandas as pd\n"
   ]
  },
  {
   "cell_type": "code",
   "execution_count": 31,
   "id": "1da980f5",
   "metadata": {},
   "outputs": [],
   "source": [
    "df = pd.DataFrame({'Restaurant name':restoname,'Cuisine':cuisines,'Location':locations,'Ratings':ratings,'Image URL':image_url})"
   ]
  },
  {
   "cell_type": "code",
   "execution_count": 32,
   "id": "fd52abb4",
   "metadata": {},
   "outputs": [
    {
     "data": {
      "text/html": [
       "<div>\n",
       "<style scoped>\n",
       "    .dataframe tbody tr th:only-of-type {\n",
       "        vertical-align: middle;\n",
       "    }\n",
       "\n",
       "    .dataframe tbody tr th {\n",
       "        vertical-align: top;\n",
       "    }\n",
       "\n",
       "    .dataframe thead th {\n",
       "        text-align: right;\n",
       "    }\n",
       "</style>\n",
       "<table border=\"1\" class=\"dataframe\">\n",
       "  <thead>\n",
       "    <tr style=\"text-align: right;\">\n",
       "      <th></th>\n",
       "      <th>Restaurant name</th>\n",
       "      <th>Cuisine</th>\n",
       "      <th>Location</th>\n",
       "      <th>Ratings</th>\n",
       "      <th>Image URL</th>\n",
       "    </tr>\n",
       "  </thead>\n",
       "  <tbody>\n",
       "    <tr>\n",
       "      <th>0</th>\n",
       "      <td>Connaught Club House</td>\n",
       "      <td>North Indian, Continental, Asian, Chinese</td>\n",
       "      <td>Connaught Place, Central Delhi</td>\n",
       "      <td>4.2</td>\n",
       "      <td>https://im1.dineout.co.in/images/uploads/resta...</td>\n",
       "    </tr>\n",
       "    <tr>\n",
       "      <th>1</th>\n",
       "      <td>Ministry Of Beer</td>\n",
       "      <td>North Indian, Continental, American, Asian</td>\n",
       "      <td>M-Block,Connaught Place, Central Delhi</td>\n",
       "      <td>4</td>\n",
       "      <td>https://im1.dineout.co.in/images/uploads/resta...</td>\n",
       "    </tr>\n",
       "    <tr>\n",
       "      <th>2</th>\n",
       "      <td>The G.T. Road</td>\n",
       "      <td>North Indian</td>\n",
       "      <td>M-Block,Connaught Place, Central Delhi</td>\n",
       "      <td>4.3</td>\n",
       "      <td>https://im1.dineout.co.in/images/uploads/resta...</td>\n",
       "    </tr>\n",
       "    <tr>\n",
       "      <th>3</th>\n",
       "      <td>Gin &amp; Juliet</td>\n",
       "      <td>Italian, Chinese, North Indian, Fast Food</td>\n",
       "      <td>F-Block,Connaught Place, Central Delhi</td>\n",
       "      <td>4</td>\n",
       "      <td>https://im1.dineout.co.in/images/uploads/resta...</td>\n",
       "    </tr>\n",
       "    <tr>\n",
       "      <th>4</th>\n",
       "      <td>My Bar Headquarters</td>\n",
       "      <td>North Indian, Chinese</td>\n",
       "      <td>Connaught Place, Central Delhi</td>\n",
       "      <td>4</td>\n",
       "      <td>https://im1.dineout.co.in/images/uploads/resta...</td>\n",
       "    </tr>\n",
       "    <tr>\n",
       "      <th>5</th>\n",
       "      <td>Sandoz</td>\n",
       "      <td>North Indian, Continental</td>\n",
       "      <td>Connaught Place, Central Delhi</td>\n",
       "      <td>4</td>\n",
       "      <td>https://im1.dineout.co.in/images/uploads/resta...</td>\n",
       "    </tr>\n",
       "    <tr>\n",
       "      <th>6</th>\n",
       "      <td>The Junkyard Cafe</td>\n",
       "      <td>North Indian, Continental, Chinese, Fast Food</td>\n",
       "      <td>Connaught Place, Central Delhi</td>\n",
       "      <td>4.1</td>\n",
       "      <td>https://im1.dineout.co.in/images/uploads/resta...</td>\n",
       "    </tr>\n",
       "    <tr>\n",
       "      <th>7</th>\n",
       "      <td>Tamasha</td>\n",
       "      <td>Continental, Asian, Italian, North Indian</td>\n",
       "      <td>Connaught Place, Central Delhi</td>\n",
       "      <td>4.2</td>\n",
       "      <td>https://im1.dineout.co.in/images/uploads/resta...</td>\n",
       "    </tr>\n",
       "    <tr>\n",
       "      <th>8</th>\n",
       "      <td>Unplugged Courtyard</td>\n",
       "      <td>North Indian, Italian, Chinese, Turkish, Cont...</td>\n",
       "      <td>Connaught Place, Central Delhi</td>\n",
       "      <td>4</td>\n",
       "      <td>https://im1.dineout.co.in/images/uploads/resta...</td>\n",
       "    </tr>\n",
       "    <tr>\n",
       "      <th>9</th>\n",
       "      <td>Local</td>\n",
       "      <td>North Indian, Asian, Continental</td>\n",
       "      <td>Scindia House,Connaught Place, Central Delhi</td>\n",
       "      <td>4</td>\n",
       "      <td>https://im1.dineout.co.in/images/uploads/resta...</td>\n",
       "    </tr>\n",
       "    <tr>\n",
       "      <th>10</th>\n",
       "      <td>Openhouse Cafe</td>\n",
       "      <td>North Indian, Asian, Italian</td>\n",
       "      <td>Connaught Place, Central Delhi</td>\n",
       "      <td>4.1</td>\n",
       "      <td>https://im1.dineout.co.in/images/uploads/resta...</td>\n",
       "    </tr>\n",
       "    <tr>\n",
       "      <th>11</th>\n",
       "      <td>Ardor 2.1 Restaurant and Lounge</td>\n",
       "      <td>North Indian, Chinese, Italian, Continental</td>\n",
       "      <td>Connaught Place, Central Delhi</td>\n",
       "      <td>4.1</td>\n",
       "      <td>https://im1.dineout.co.in/images/uploads/resta...</td>\n",
       "    </tr>\n",
       "    <tr>\n",
       "      <th>12</th>\n",
       "      <td>Yeti - The Himalayan Kitchen</td>\n",
       "      <td>Tibetan, Nepalese</td>\n",
       "      <td>The Colonnade,Connaught Place, Central Delhi</td>\n",
       "      <td>4.3</td>\n",
       "      <td>https://im1.dineout.co.in/images/uploads/resta...</td>\n",
       "    </tr>\n",
       "    <tr>\n",
       "      <th>13</th>\n",
       "      <td>Ghoomar Traditional Thali Restaurant</td>\n",
       "      <td>North Indian, Rajasthani</td>\n",
       "      <td>Connaught Place, Central Delhi</td>\n",
       "      <td>4.1</td>\n",
       "      <td>https://im1.dineout.co.in/images/uploads/resta...</td>\n",
       "    </tr>\n",
       "    <tr>\n",
       "      <th>14</th>\n",
       "      <td>Farzi Cafe</td>\n",
       "      <td>Modern Indian, Continental, Finger Food</td>\n",
       "      <td>Connaught Place, Central Delhi</td>\n",
       "      <td>4.1</td>\n",
       "      <td>https://im1.dineout.co.in/images/uploads/resta...</td>\n",
       "    </tr>\n",
       "    <tr>\n",
       "      <th>15</th>\n",
       "      <td>Berco's</td>\n",
       "      <td>Chinese, Thai</td>\n",
       "      <td>Connaught Place, Central Delhi</td>\n",
       "      <td>4.3</td>\n",
       "      <td>https://im1.dineout.co.in/images/uploads/resta...</td>\n",
       "    </tr>\n",
       "    <tr>\n",
       "      <th>16</th>\n",
       "      <td>38 Barracks</td>\n",
       "      <td>North Indian, Chinese, Continental</td>\n",
       "      <td>M-Block,Connaught Place, Central Delhi</td>\n",
       "      <td>4.3</td>\n",
       "      <td>https://im1.dineout.co.in/images/uploads/resta...</td>\n",
       "    </tr>\n",
       "    <tr>\n",
       "      <th>17</th>\n",
       "      <td>Ranisa</td>\n",
       "      <td>Rajasthani</td>\n",
       "      <td>Connaught Place, Central Delhi</td>\n",
       "      <td>4.3</td>\n",
       "      <td>https://im1.dineout.co.in/images/uploads/resta...</td>\n",
       "    </tr>\n",
       "    <tr>\n",
       "      <th>18</th>\n",
       "      <td>Desi Villagio - Village Theme Restro Bar</td>\n",
       "      <td>North Indian</td>\n",
       "      <td>Connaught Place, Central Delhi</td>\n",
       "      <td>4.1</td>\n",
       "      <td>https://im1.dineout.co.in/images/uploads/resta...</td>\n",
       "    </tr>\n",
       "    <tr>\n",
       "      <th>19</th>\n",
       "      <td>Caffe Tonino</td>\n",
       "      <td>Italian, Beverages</td>\n",
       "      <td>PVR Plaza,Connaught Place, Central Delhi</td>\n",
       "      <td>4.4</td>\n",
       "      <td>https://im1.dineout.co.in/images/uploads/resta...</td>\n",
       "    </tr>\n",
       "    <tr>\n",
       "      <th>20</th>\n",
       "      <td>Zaffran</td>\n",
       "      <td>Mughlai, North Indian</td>\n",
       "      <td>Hotel Palace Heights,Connaught Place, Central ...</td>\n",
       "      <td>4.4</td>\n",
       "      <td>https://im1.dineout.co.in/images/uploads/resta...</td>\n",
       "    </tr>\n",
       "  </tbody>\n",
       "</table>\n",
       "</div>"
      ],
      "text/plain": [
       "                             Restaurant name  \\\n",
       "0                       Connaught Club House   \n",
       "1                           Ministry Of Beer   \n",
       "2                              The G.T. Road   \n",
       "3                               Gin & Juliet   \n",
       "4                        My Bar Headquarters   \n",
       "5                                     Sandoz   \n",
       "6                          The Junkyard Cafe   \n",
       "7                                    Tamasha   \n",
       "8                        Unplugged Courtyard   \n",
       "9                                      Local   \n",
       "10                            Openhouse Cafe   \n",
       "11           Ardor 2.1 Restaurant and Lounge   \n",
       "12              Yeti - The Himalayan Kitchen   \n",
       "13      Ghoomar Traditional Thali Restaurant   \n",
       "14                                Farzi Cafe   \n",
       "15                                   Berco's   \n",
       "16                               38 Barracks   \n",
       "17                                    Ranisa   \n",
       "18  Desi Villagio - Village Theme Restro Bar   \n",
       "19                              Caffe Tonino   \n",
       "20                                   Zaffran   \n",
       "\n",
       "                                              Cuisine  \\\n",
       "0           North Indian, Continental, Asian, Chinese   \n",
       "1          North Indian, Continental, American, Asian   \n",
       "2                                        North Indian   \n",
       "3           Italian, Chinese, North Indian, Fast Food   \n",
       "4                               North Indian, Chinese   \n",
       "5                           North Indian, Continental   \n",
       "6       North Indian, Continental, Chinese, Fast Food   \n",
       "7           Continental, Asian, Italian, North Indian   \n",
       "8    North Indian, Italian, Chinese, Turkish, Cont...   \n",
       "9                    North Indian, Asian, Continental   \n",
       "10                       North Indian, Asian, Italian   \n",
       "11        North Indian, Chinese, Italian, Continental   \n",
       "12                                  Tibetan, Nepalese   \n",
       "13                           North Indian, Rajasthani   \n",
       "14            Modern Indian, Continental, Finger Food   \n",
       "15                                      Chinese, Thai   \n",
       "16                 North Indian, Chinese, Continental   \n",
       "17                                         Rajasthani   \n",
       "18                                       North Indian   \n",
       "19                                 Italian, Beverages   \n",
       "20                              Mughlai, North Indian   \n",
       "\n",
       "                                             Location Ratings  \\\n",
       "0                      Connaught Place, Central Delhi     4.2   \n",
       "1              M-Block,Connaught Place, Central Delhi       4   \n",
       "2              M-Block,Connaught Place, Central Delhi     4.3   \n",
       "3              F-Block,Connaught Place, Central Delhi       4   \n",
       "4                      Connaught Place, Central Delhi       4   \n",
       "5                      Connaught Place, Central Delhi       4   \n",
       "6                      Connaught Place, Central Delhi     4.1   \n",
       "7                      Connaught Place, Central Delhi     4.2   \n",
       "8                      Connaught Place, Central Delhi       4   \n",
       "9        Scindia House,Connaught Place, Central Delhi       4   \n",
       "10                     Connaught Place, Central Delhi     4.1   \n",
       "11                     Connaught Place, Central Delhi     4.1   \n",
       "12       The Colonnade,Connaught Place, Central Delhi     4.3   \n",
       "13                     Connaught Place, Central Delhi     4.1   \n",
       "14                     Connaught Place, Central Delhi     4.1   \n",
       "15                     Connaught Place, Central Delhi     4.3   \n",
       "16             M-Block,Connaught Place, Central Delhi     4.3   \n",
       "17                     Connaught Place, Central Delhi     4.3   \n",
       "18                     Connaught Place, Central Delhi     4.1   \n",
       "19           PVR Plaza,Connaught Place, Central Delhi     4.4   \n",
       "20  Hotel Palace Heights,Connaught Place, Central ...     4.4   \n",
       "\n",
       "                                            Image URL  \n",
       "0   https://im1.dineout.co.in/images/uploads/resta...  \n",
       "1   https://im1.dineout.co.in/images/uploads/resta...  \n",
       "2   https://im1.dineout.co.in/images/uploads/resta...  \n",
       "3   https://im1.dineout.co.in/images/uploads/resta...  \n",
       "4   https://im1.dineout.co.in/images/uploads/resta...  \n",
       "5   https://im1.dineout.co.in/images/uploads/resta...  \n",
       "6   https://im1.dineout.co.in/images/uploads/resta...  \n",
       "7   https://im1.dineout.co.in/images/uploads/resta...  \n",
       "8   https://im1.dineout.co.in/images/uploads/resta...  \n",
       "9   https://im1.dineout.co.in/images/uploads/resta...  \n",
       "10  https://im1.dineout.co.in/images/uploads/resta...  \n",
       "11  https://im1.dineout.co.in/images/uploads/resta...  \n",
       "12  https://im1.dineout.co.in/images/uploads/resta...  \n",
       "13  https://im1.dineout.co.in/images/uploads/resta...  \n",
       "14  https://im1.dineout.co.in/images/uploads/resta...  \n",
       "15  https://im1.dineout.co.in/images/uploads/resta...  \n",
       "16  https://im1.dineout.co.in/images/uploads/resta...  \n",
       "17  https://im1.dineout.co.in/images/uploads/resta...  \n",
       "18  https://im1.dineout.co.in/images/uploads/resta...  \n",
       "19  https://im1.dineout.co.in/images/uploads/resta...  \n",
       "20  https://im1.dineout.co.in/images/uploads/resta...  "
      ]
     },
     "execution_count": 32,
     "metadata": {},
     "output_type": "execute_result"
    }
   ],
   "source": [
    "df"
   ]
  },
  {
   "cell_type": "markdown",
   "id": "00f74da6",
   "metadata": {},
   "source": [
    "Question no 3"
   ]
  },
  {
   "cell_type": "code",
   "execution_count": 33,
   "id": "19b55321",
   "metadata": {},
   "outputs": [],
   "source": [
    "page = requests.get('https://www.icc-cricket.com/rankings/mens/team-rankings/odi')"
   ]
  },
  {
   "cell_type": "code",
   "execution_count": 34,
   "id": "a6229499",
   "metadata": {},
   "outputs": [
    {
     "data": {
      "text/plain": [
       "<Response [200]>"
      ]
     },
     "execution_count": 34,
     "metadata": {},
     "output_type": "execute_result"
    }
   ],
   "source": [
    "page"
   ]
  },
  {
   "cell_type": "code",
   "execution_count": 35,
   "id": "382cef2a",
   "metadata": {},
   "outputs": [],
   "source": [
    "soup = bs(page.content)"
   ]
  },
  {
   "cell_type": "code",
   "execution_count": 36,
   "id": "36dba93e",
   "metadata": {},
   "outputs": [
    {
     "data": {
      "text/plain": [
       "'India'"
      ]
     },
     "execution_count": 36,
     "metadata": {},
     "output_type": "execute_result"
    }
   ],
   "source": [
    "top_teams = soup.find('span',class_=\"u-hide-phablet\")\n",
    "top_teams.text\n"
   ]
  },
  {
   "cell_type": "code",
   "execution_count": 37,
   "id": "a8e849f9",
   "metadata": {},
   "outputs": [
    {
     "data": {
      "text/plain": [
       "['India',\n",
       " 'Pakistan',\n",
       " 'South Africa',\n",
       " 'Australia',\n",
       " 'New Zealand',\n",
       " 'England',\n",
       " 'Sri Lanka',\n",
       " 'Bangladesh',\n",
       " 'Afghanistan',\n",
       " 'West Indies',\n",
       " 'Zimbabwe',\n",
       " 'Scotland',\n",
       " 'Ireland',\n",
       " 'Netherlands',\n",
       " 'Nepal',\n",
       " 'Namibia',\n",
       " 'United States',\n",
       " 'Oman',\n",
       " 'UAE']"
      ]
     },
     "execution_count": 37,
     "metadata": {},
     "output_type": "execute_result"
    }
   ],
   "source": [
    "top_teams = []\n",
    "for i in soup.find_all('span',class_=\"u-hide-phablet\"):\n",
    "    top_teams.append(i.text)\n",
    "top_teams"
   ]
  },
  {
   "cell_type": "code",
   "execution_count": 38,
   "id": "a562781a",
   "metadata": {},
   "outputs": [
    {
     "data": {
      "text/plain": [
       "'47'"
      ]
     },
     "execution_count": 38,
     "metadata": {},
     "output_type": "execute_result"
    }
   ],
   "source": [
    "match= soup.find('td',class_=\"rankings-block__banner--matches\")\n",
    "match.text"
   ]
  },
  {
   "cell_type": "code",
   "execution_count": 39,
   "id": "105a8b5f",
   "metadata": {},
   "outputs": [],
   "source": [
    "matches=[]\n",
    "matches.append(match.text)"
   ]
  },
  {
   "cell_type": "code",
   "execution_count": 40,
   "id": "45eaa31b",
   "metadata": {},
   "outputs": [
    {
     "data": {
      "text/plain": [
       "['47']"
      ]
     },
     "execution_count": 40,
     "metadata": {},
     "output_type": "execute_result"
    }
   ],
   "source": [
    "matches"
   ]
  },
  {
   "cell_type": "code",
   "execution_count": 41,
   "id": "3d523eba",
   "metadata": {},
   "outputs": [
    {
     "data": {
      "text/plain": [
       "'5,542'"
      ]
     },
     "execution_count": 41,
     "metadata": {},
     "output_type": "execute_result"
    }
   ],
   "source": [
    "point = soup.find('td',class_=\"rankings-block__banner--points\")\n",
    "point.text"
   ]
  },
  {
   "cell_type": "code",
   "execution_count": 42,
   "id": "317b9708",
   "metadata": {},
   "outputs": [],
   "source": [
    "points = []\n",
    "points.append(point.text)"
   ]
  },
  {
   "cell_type": "code",
   "execution_count": 43,
   "id": "a09f050c",
   "metadata": {},
   "outputs": [
    {
     "data": {
      "text/plain": [
       "['5,542']"
      ]
     },
     "execution_count": 43,
     "metadata": {},
     "output_type": "execute_result"
    }
   ],
   "source": [
    "points"
   ]
  },
  {
   "cell_type": "code",
   "execution_count": 44,
   "id": "cb728107",
   "metadata": {},
   "outputs": [
    {
     "data": {
      "text/plain": [
       "'118'"
      ]
     },
     "execution_count": 44,
     "metadata": {},
     "output_type": "execute_result"
    }
   ],
   "source": [
    "rat = soup.find(\"td\",class_=\"rankings-block__banner--rating u-text-right\")\n",
    "rat.text.strip()"
   ]
  },
  {
   "cell_type": "code",
   "execution_count": 45,
   "id": "ca28d819",
   "metadata": {},
   "outputs": [],
   "source": [
    "ratings = []\n",
    "ratings.append(rat.text.strip())"
   ]
  },
  {
   "cell_type": "code",
   "execution_count": 46,
   "id": "ee048055",
   "metadata": {},
   "outputs": [
    {
     "data": {
      "text/plain": [
       "['118']"
      ]
     },
     "execution_count": 46,
     "metadata": {},
     "output_type": "execute_result"
    }
   ],
   "source": [
    "ratings"
   ]
  },
  {
   "cell_type": "code",
   "execution_count": 47,
   "id": "fe7d1f03",
   "metadata": {},
   "outputs": [
    {
     "data": {
      "text/plain": [
       "19"
      ]
     },
     "execution_count": 47,
     "metadata": {},
     "output_type": "execute_result"
    }
   ],
   "source": [
    "len(top_teams)"
   ]
  },
  {
   "cell_type": "code",
   "execution_count": 48,
   "id": "1923394a",
   "metadata": {},
   "outputs": [
    {
     "data": {
      "text/plain": [
       "['30',\n",
       " '3,435',\n",
       " '26',\n",
       " '2,853',\n",
       " '33',\n",
       " '3,588',\n",
       " '36',\n",
       " '3,808',\n",
       " '31',\n",
       " '3,253',\n",
       " '40',\n",
       " '3,633',\n",
       " '38',\n",
       " '3,448',\n",
       " '23',\n",
       " '1,796',\n",
       " '38',\n",
       " '2,582',\n",
       " '30',\n",
       " '1,641',\n",
       " '33',\n",
       " '1,662',\n",
       " '25',\n",
       " '1,083',\n",
       " '30',\n",
       " '1,098',\n",
       " '42',\n",
       " '1,446',\n",
       " '28',\n",
       " '813',\n",
       " '31',\n",
       " '808',\n",
       " '24',\n",
       " '525',\n",
       " '41',\n",
       " '617']"
      ]
     },
     "execution_count": 48,
     "metadata": {},
     "output_type": "execute_result"
    }
   ],
   "source": [
    "matched = []\n",
    "for i in soup.find_all('td',class_=\"table-body__cell u-center-text\"):\n",
    "    matched.append(i.text)\n",
    "matched"
   ]
  },
  {
   "cell_type": "code",
   "execution_count": 49,
   "id": "dd1f81c7",
   "metadata": {},
   "outputs": [
    {
     "data": {
      "text/plain": [
       "['47']"
      ]
     },
     "execution_count": 49,
     "metadata": {},
     "output_type": "execute_result"
    }
   ],
   "source": [
    "matches"
   ]
  },
  {
   "cell_type": "code",
   "execution_count": 50,
   "id": "dfd5f29f",
   "metadata": {},
   "outputs": [],
   "source": [
    "matches.append(point.text)"
   ]
  },
  {
   "cell_type": "code",
   "execution_count": 51,
   "id": "ff1970ad",
   "metadata": {},
   "outputs": [
    {
     "data": {
      "text/plain": [
       "['47', '5,542']"
      ]
     },
     "execution_count": 51,
     "metadata": {},
     "output_type": "execute_result"
    }
   ],
   "source": [
    "matches"
   ]
  },
  {
   "cell_type": "code",
   "execution_count": 52,
   "id": "17ac518f",
   "metadata": {},
   "outputs": [],
   "source": [
    "matched.insert(0,'47')"
   ]
  },
  {
   "cell_type": "code",
   "execution_count": 53,
   "id": "8e66c310",
   "metadata": {},
   "outputs": [],
   "source": [
    "matched.insert(1,'5,542')"
   ]
  },
  {
   "cell_type": "code",
   "execution_count": 54,
   "id": "01bc8e57",
   "metadata": {},
   "outputs": [],
   "source": [
    "\n",
    "data = [matched[i:i+2] for i in range(0, len(matched), 2)]\n"
   ]
  },
  {
   "cell_type": "code",
   "execution_count": 55,
   "id": "5156d2cd",
   "metadata": {},
   "outputs": [
    {
     "name": "stdout",
     "output_type": "stream",
     "text": [
      "   Matches Points\n",
      "0       47  5,542\n",
      "1       30  3,435\n",
      "2       26  2,853\n",
      "3       33  3,588\n",
      "4       36  3,808\n",
      "5       31  3,253\n",
      "6       40  3,633\n",
      "7       38  3,448\n",
      "8       23  1,796\n",
      "9       38  2,582\n",
      "10      30  1,641\n",
      "11      33  1,662\n",
      "12      25  1,083\n",
      "13      30  1,098\n",
      "14      42  1,446\n",
      "15      28    813\n",
      "16      31    808\n",
      "17      24    525\n",
      "18      41    617\n"
     ]
    }
   ],
   "source": [
    "df = pd.DataFrame(data, columns=['Matches', 'Points'])\n",
    "\n",
    "print(df)"
   ]
  },
  {
   "cell_type": "code",
   "execution_count": 56,
   "id": "73798206",
   "metadata": {},
   "outputs": [],
   "source": [
    "df['team']= pd.DataFrame(top_teams)"
   ]
  },
  {
   "cell_type": "code",
   "execution_count": 57,
   "id": "1f050d4b",
   "metadata": {},
   "outputs": [
    {
     "data": {
      "text/html": [
       "<div>\n",
       "<style scoped>\n",
       "    .dataframe tbody tr th:only-of-type {\n",
       "        vertical-align: middle;\n",
       "    }\n",
       "\n",
       "    .dataframe tbody tr th {\n",
       "        vertical-align: top;\n",
       "    }\n",
       "\n",
       "    .dataframe thead th {\n",
       "        text-align: right;\n",
       "    }\n",
       "</style>\n",
       "<table border=\"1\" class=\"dataframe\">\n",
       "  <thead>\n",
       "    <tr style=\"text-align: right;\">\n",
       "      <th></th>\n",
       "      <th>Matches</th>\n",
       "      <th>Points</th>\n",
       "      <th>team</th>\n",
       "    </tr>\n",
       "  </thead>\n",
       "  <tbody>\n",
       "    <tr>\n",
       "      <th>0</th>\n",
       "      <td>47</td>\n",
       "      <td>5,542</td>\n",
       "      <td>India</td>\n",
       "    </tr>\n",
       "    <tr>\n",
       "      <th>1</th>\n",
       "      <td>30</td>\n",
       "      <td>3,435</td>\n",
       "      <td>Pakistan</td>\n",
       "    </tr>\n",
       "    <tr>\n",
       "      <th>2</th>\n",
       "      <td>26</td>\n",
       "      <td>2,853</td>\n",
       "      <td>South Africa</td>\n",
       "    </tr>\n",
       "    <tr>\n",
       "      <th>3</th>\n",
       "      <td>33</td>\n",
       "      <td>3,588</td>\n",
       "      <td>Australia</td>\n",
       "    </tr>\n",
       "    <tr>\n",
       "      <th>4</th>\n",
       "      <td>36</td>\n",
       "      <td>3,808</td>\n",
       "      <td>New Zealand</td>\n",
       "    </tr>\n",
       "    <tr>\n",
       "      <th>5</th>\n",
       "      <td>31</td>\n",
       "      <td>3,253</td>\n",
       "      <td>England</td>\n",
       "    </tr>\n",
       "    <tr>\n",
       "      <th>6</th>\n",
       "      <td>40</td>\n",
       "      <td>3,633</td>\n",
       "      <td>Sri Lanka</td>\n",
       "    </tr>\n",
       "    <tr>\n",
       "      <th>7</th>\n",
       "      <td>38</td>\n",
       "      <td>3,448</td>\n",
       "      <td>Bangladesh</td>\n",
       "    </tr>\n",
       "    <tr>\n",
       "      <th>8</th>\n",
       "      <td>23</td>\n",
       "      <td>1,796</td>\n",
       "      <td>Afghanistan</td>\n",
       "    </tr>\n",
       "    <tr>\n",
       "      <th>9</th>\n",
       "      <td>38</td>\n",
       "      <td>2,582</td>\n",
       "      <td>West Indies</td>\n",
       "    </tr>\n",
       "    <tr>\n",
       "      <th>10</th>\n",
       "      <td>30</td>\n",
       "      <td>1,641</td>\n",
       "      <td>Zimbabwe</td>\n",
       "    </tr>\n",
       "    <tr>\n",
       "      <th>11</th>\n",
       "      <td>33</td>\n",
       "      <td>1,662</td>\n",
       "      <td>Scotland</td>\n",
       "    </tr>\n",
       "    <tr>\n",
       "      <th>12</th>\n",
       "      <td>25</td>\n",
       "      <td>1,083</td>\n",
       "      <td>Ireland</td>\n",
       "    </tr>\n",
       "    <tr>\n",
       "      <th>13</th>\n",
       "      <td>30</td>\n",
       "      <td>1,098</td>\n",
       "      <td>Netherlands</td>\n",
       "    </tr>\n",
       "    <tr>\n",
       "      <th>14</th>\n",
       "      <td>42</td>\n",
       "      <td>1,446</td>\n",
       "      <td>Nepal</td>\n",
       "    </tr>\n",
       "    <tr>\n",
       "      <th>15</th>\n",
       "      <td>28</td>\n",
       "      <td>813</td>\n",
       "      <td>Namibia</td>\n",
       "    </tr>\n",
       "    <tr>\n",
       "      <th>16</th>\n",
       "      <td>31</td>\n",
       "      <td>808</td>\n",
       "      <td>United States</td>\n",
       "    </tr>\n",
       "    <tr>\n",
       "      <th>17</th>\n",
       "      <td>24</td>\n",
       "      <td>525</td>\n",
       "      <td>Oman</td>\n",
       "    </tr>\n",
       "    <tr>\n",
       "      <th>18</th>\n",
       "      <td>41</td>\n",
       "      <td>617</td>\n",
       "      <td>UAE</td>\n",
       "    </tr>\n",
       "  </tbody>\n",
       "</table>\n",
       "</div>"
      ],
      "text/plain": [
       "   Matches Points           team\n",
       "0       47  5,542          India\n",
       "1       30  3,435       Pakistan\n",
       "2       26  2,853   South Africa\n",
       "3       33  3,588      Australia\n",
       "4       36  3,808    New Zealand\n",
       "5       31  3,253        England\n",
       "6       40  3,633      Sri Lanka\n",
       "7       38  3,448     Bangladesh\n",
       "8       23  1,796    Afghanistan\n",
       "9       38  2,582    West Indies\n",
       "10      30  1,641       Zimbabwe\n",
       "11      33  1,662       Scotland\n",
       "12      25  1,083        Ireland\n",
       "13      30  1,098    Netherlands\n",
       "14      42  1,446          Nepal\n",
       "15      28    813        Namibia\n",
       "16      31    808  United States\n",
       "17      24    525           Oman\n",
       "18      41    617            UAE"
      ]
     },
     "execution_count": 57,
     "metadata": {},
     "output_type": "execute_result"
    }
   ],
   "source": [
    "df"
   ]
  },
  {
   "cell_type": "code",
   "execution_count": 58,
   "id": "f3f3f7e5",
   "metadata": {},
   "outputs": [
    {
     "data": {
      "text/plain": [
       "['118',\n",
       " '115',\n",
       " '110',\n",
       " '109',\n",
       " '106',\n",
       " '105',\n",
       " '91',\n",
       " '91',\n",
       " '78',\n",
       " '68',\n",
       " '55',\n",
       " '50',\n",
       " '43',\n",
       " '37',\n",
       " '34',\n",
       " '29',\n",
       " '26',\n",
       " '22',\n",
       " '15']"
      ]
     },
     "execution_count": 58,
     "metadata": {},
     "output_type": "execute_result"
    }
   ],
   "source": [
    "for i in soup.find_all(\"td\",class_=\"table-body__cell u-text-right rating\"):\n",
    "    ratings.append(i.text.strip())\n",
    "    \n",
    "ratings"
   ]
  },
  {
   "cell_type": "code",
   "execution_count": 59,
   "id": "756edd6b",
   "metadata": {},
   "outputs": [],
   "source": [
    "df['ratings']=pd.DataFrame(ratings)"
   ]
  },
  {
   "cell_type": "code",
   "execution_count": 60,
   "id": "be719479",
   "metadata": {},
   "outputs": [],
   "source": [
    "table = df.head(10)"
   ]
  },
  {
   "cell_type": "code",
   "execution_count": 61,
   "id": "5ebec907",
   "metadata": {},
   "outputs": [
    {
     "data": {
      "text/html": [
       "<div>\n",
       "<style scoped>\n",
       "    .dataframe tbody tr th:only-of-type {\n",
       "        vertical-align: middle;\n",
       "    }\n",
       "\n",
       "    .dataframe tbody tr th {\n",
       "        vertical-align: top;\n",
       "    }\n",
       "\n",
       "    .dataframe thead th {\n",
       "        text-align: right;\n",
       "    }\n",
       "</style>\n",
       "<table border=\"1\" class=\"dataframe\">\n",
       "  <thead>\n",
       "    <tr style=\"text-align: right;\">\n",
       "      <th></th>\n",
       "      <th>Matches</th>\n",
       "      <th>Points</th>\n",
       "      <th>team</th>\n",
       "      <th>ratings</th>\n",
       "    </tr>\n",
       "  </thead>\n",
       "  <tbody>\n",
       "    <tr>\n",
       "      <th>0</th>\n",
       "      <td>47</td>\n",
       "      <td>5,542</td>\n",
       "      <td>India</td>\n",
       "      <td>118</td>\n",
       "    </tr>\n",
       "    <tr>\n",
       "      <th>1</th>\n",
       "      <td>30</td>\n",
       "      <td>3,435</td>\n",
       "      <td>Pakistan</td>\n",
       "      <td>115</td>\n",
       "    </tr>\n",
       "    <tr>\n",
       "      <th>2</th>\n",
       "      <td>26</td>\n",
       "      <td>2,853</td>\n",
       "      <td>South Africa</td>\n",
       "      <td>110</td>\n",
       "    </tr>\n",
       "    <tr>\n",
       "      <th>3</th>\n",
       "      <td>33</td>\n",
       "      <td>3,588</td>\n",
       "      <td>Australia</td>\n",
       "      <td>109</td>\n",
       "    </tr>\n",
       "    <tr>\n",
       "      <th>4</th>\n",
       "      <td>36</td>\n",
       "      <td>3,808</td>\n",
       "      <td>New Zealand</td>\n",
       "      <td>106</td>\n",
       "    </tr>\n",
       "    <tr>\n",
       "      <th>5</th>\n",
       "      <td>31</td>\n",
       "      <td>3,253</td>\n",
       "      <td>England</td>\n",
       "      <td>105</td>\n",
       "    </tr>\n",
       "    <tr>\n",
       "      <th>6</th>\n",
       "      <td>40</td>\n",
       "      <td>3,633</td>\n",
       "      <td>Sri Lanka</td>\n",
       "      <td>91</td>\n",
       "    </tr>\n",
       "    <tr>\n",
       "      <th>7</th>\n",
       "      <td>38</td>\n",
       "      <td>3,448</td>\n",
       "      <td>Bangladesh</td>\n",
       "      <td>91</td>\n",
       "    </tr>\n",
       "    <tr>\n",
       "      <th>8</th>\n",
       "      <td>23</td>\n",
       "      <td>1,796</td>\n",
       "      <td>Afghanistan</td>\n",
       "      <td>78</td>\n",
       "    </tr>\n",
       "    <tr>\n",
       "      <th>9</th>\n",
       "      <td>38</td>\n",
       "      <td>2,582</td>\n",
       "      <td>West Indies</td>\n",
       "      <td>68</td>\n",
       "    </tr>\n",
       "  </tbody>\n",
       "</table>\n",
       "</div>"
      ],
      "text/plain": [
       "  Matches Points          team ratings\n",
       "0      47  5,542         India     118\n",
       "1      30  3,435      Pakistan     115\n",
       "2      26  2,853  South Africa     110\n",
       "3      33  3,588     Australia     109\n",
       "4      36  3,808   New Zealand     106\n",
       "5      31  3,253       England     105\n",
       "6      40  3,633     Sri Lanka      91\n",
       "7      38  3,448    Bangladesh      91\n",
       "8      23  1,796   Afghanistan      78\n",
       "9      38  2,582   West Indies      68"
      ]
     },
     "execution_count": 61,
     "metadata": {},
     "output_type": "execute_result"
    }
   ],
   "source": [
    "table"
   ]
  },
  {
   "cell_type": "markdown",
   "id": "30615a6d",
   "metadata": {},
   "source": [
    "part 2"
   ]
  },
  {
   "cell_type": "code",
   "execution_count": 62,
   "id": "e29be839",
   "metadata": {},
   "outputs": [],
   "source": [
    "page = requests.get('https://www.icc-cricket.com/rankings/mens/player-rankings/odi')\n",
    "soup = bs(page.content)"
   ]
  },
  {
   "cell_type": "code",
   "execution_count": null,
   "id": "9e0acf12",
   "metadata": {},
   "outputs": [],
   "source": []
  },
  {
   "cell_type": "code",
   "execution_count": 63,
   "id": "133b99dc",
   "metadata": {},
   "outputs": [],
   "source": [
    "odi_batsman = []\n",
    "for i in soup.find_all('td',class_=\"table-body__cell name\"):\n",
    "    odi_batsman.append(i.text.strip())\n",
    "#odi_batsman\n"
   ]
  },
  {
   "cell_type": "code",
   "execution_count": null,
   "id": "436d48b9",
   "metadata": {},
   "outputs": [],
   "source": []
  },
  {
   "cell_type": "code",
   "execution_count": 64,
   "id": "43c4af42",
   "metadata": {},
   "outputs": [],
   "source": [
    "odi_teams = []\n",
    "for i in soup.find_all('span',class_=\"table-body__logo-text\"):\n",
    "    odi_teams.append(i.text.strip())\n",
    "#odi_teams"
   ]
  },
  {
   "cell_type": "code",
   "execution_count": 65,
   "id": "24fbad56",
   "metadata": {},
   "outputs": [],
   "source": [
    "odi_ratings = []\n",
    "for i in soup.find_all('td',class_=\"table-body__cell u-text-right rating\"):\n",
    "    odi_ratings.append(i.text.strip())\n",
    "#odi_ratings"
   ]
  },
  {
   "cell_type": "code",
   "execution_count": 66,
   "id": "ded49f87",
   "metadata": {},
   "outputs": [
    {
     "data": {
      "text/plain": [
       "'Babar Azam'"
      ]
     },
     "execution_count": 66,
     "metadata": {},
     "output_type": "execute_result"
    }
   ],
   "source": [
    "a=soup.find('div',class_=\"rankings-block__banner--name\")\n",
    "a.text.strip()"
   ]
  },
  {
   "cell_type": "code",
   "execution_count": 67,
   "id": "9b5a0858",
   "metadata": {},
   "outputs": [],
   "source": [
    "odi_batsman.insert(0,a.text.strip())"
   ]
  },
  {
   "cell_type": "code",
   "execution_count": 68,
   "id": "a85d80b9",
   "metadata": {},
   "outputs": [],
   "source": [
    "#odi_batsman"
   ]
  },
  {
   "cell_type": "code",
   "execution_count": 69,
   "id": "366222db",
   "metadata": {},
   "outputs": [],
   "source": [
    "odi_teams.insert(0,'PAK')"
   ]
  },
  {
   "cell_type": "code",
   "execution_count": 70,
   "id": "f63b1ad2",
   "metadata": {},
   "outputs": [],
   "source": [
    "#odi_teams"
   ]
  },
  {
   "cell_type": "code",
   "execution_count": 71,
   "id": "4216573e",
   "metadata": {},
   "outputs": [
    {
     "data": {
      "text/plain": [
       "'829'"
      ]
     },
     "execution_count": 71,
     "metadata": {},
     "output_type": "execute_result"
    }
   ],
   "source": [
    "c = soup.find('div',class_=\"rankings-block__banner--rating\")\n",
    "c.text.strip()"
   ]
  },
  {
   "cell_type": "code",
   "execution_count": 72,
   "id": "bc0b8855",
   "metadata": {},
   "outputs": [],
   "source": [
    "odi_ratings.insert(0,c.text.strip())"
   ]
  },
  {
   "cell_type": "code",
   "execution_count": 73,
   "id": "47175823",
   "metadata": {},
   "outputs": [],
   "source": [
    "#odi_ratings"
   ]
  },
  {
   "cell_type": "code",
   "execution_count": 74,
   "id": "21e9ed31",
   "metadata": {},
   "outputs": [],
   "source": [
    "df = pd.DataFrame({'Batsman':odi_batsman,'Team':odi_teams,'Rating':odi_ratings})"
   ]
  },
  {
   "cell_type": "code",
   "execution_count": 75,
   "id": "1f078147",
   "metadata": {},
   "outputs": [],
   "source": [
    "table = df.head(10)"
   ]
  },
  {
   "cell_type": "code",
   "execution_count": 76,
   "id": "4bfad115",
   "metadata": {},
   "outputs": [
    {
     "data": {
      "text/html": [
       "<div>\n",
       "<style scoped>\n",
       "    .dataframe tbody tr th:only-of-type {\n",
       "        vertical-align: middle;\n",
       "    }\n",
       "\n",
       "    .dataframe tbody tr th {\n",
       "        vertical-align: top;\n",
       "    }\n",
       "\n",
       "    .dataframe thead th {\n",
       "        text-align: right;\n",
       "    }\n",
       "</style>\n",
       "<table border=\"1\" class=\"dataframe\">\n",
       "  <thead>\n",
       "    <tr style=\"text-align: right;\">\n",
       "      <th></th>\n",
       "      <th>Batsman</th>\n",
       "      <th>Team</th>\n",
       "      <th>Rating</th>\n",
       "    </tr>\n",
       "  </thead>\n",
       "  <tbody>\n",
       "    <tr>\n",
       "      <th>0</th>\n",
       "      <td>Babar Azam</td>\n",
       "      <td>PAK</td>\n",
       "      <td>829</td>\n",
       "    </tr>\n",
       "    <tr>\n",
       "      <th>1</th>\n",
       "      <td>Shubman Gill</td>\n",
       "      <td>IND</td>\n",
       "      <td>823</td>\n",
       "    </tr>\n",
       "    <tr>\n",
       "      <th>2</th>\n",
       "      <td>Quinton de Kock</td>\n",
       "      <td>SA</td>\n",
       "      <td>769</td>\n",
       "    </tr>\n",
       "    <tr>\n",
       "      <th>3</th>\n",
       "      <td>Heinrich Klaasen</td>\n",
       "      <td>SA</td>\n",
       "      <td>756</td>\n",
       "    </tr>\n",
       "    <tr>\n",
       "      <th>4</th>\n",
       "      <td>David Warner</td>\n",
       "      <td>AUS</td>\n",
       "      <td>747</td>\n",
       "    </tr>\n",
       "    <tr>\n",
       "      <th>5</th>\n",
       "      <td>Virat Kohli</td>\n",
       "      <td>IND</td>\n",
       "      <td>747</td>\n",
       "    </tr>\n",
       "    <tr>\n",
       "      <th>6</th>\n",
       "      <td>Harry Tector</td>\n",
       "      <td>IRE</td>\n",
       "      <td>729</td>\n",
       "    </tr>\n",
       "    <tr>\n",
       "      <th>7</th>\n",
       "      <td>Rohit Sharma</td>\n",
       "      <td>IND</td>\n",
       "      <td>725</td>\n",
       "    </tr>\n",
       "    <tr>\n",
       "      <th>8</th>\n",
       "      <td>Rassie van der Dussen</td>\n",
       "      <td>SA</td>\n",
       "      <td>716</td>\n",
       "    </tr>\n",
       "    <tr>\n",
       "      <th>9</th>\n",
       "      <td>Imam-ul-Haq</td>\n",
       "      <td>PAK</td>\n",
       "      <td>704</td>\n",
       "    </tr>\n",
       "  </tbody>\n",
       "</table>\n",
       "</div>"
      ],
      "text/plain": [
       "                 Batsman Team Rating\n",
       "0             Babar Azam  PAK    829\n",
       "1           Shubman Gill  IND    823\n",
       "2        Quinton de Kock   SA    769\n",
       "3       Heinrich Klaasen   SA    756\n",
       "4           David Warner  AUS    747\n",
       "5            Virat Kohli  IND    747\n",
       "6           Harry Tector  IRE    729\n",
       "7           Rohit Sharma  IND    725\n",
       "8  Rassie van der Dussen   SA    716\n",
       "9            Imam-ul-Haq  PAK    704"
      ]
     },
     "execution_count": 76,
     "metadata": {},
     "output_type": "execute_result"
    }
   ],
   "source": [
    "table"
   ]
  },
  {
   "cell_type": "markdown",
   "id": "2fd17c1b",
   "metadata": {},
   "source": [
    "part 3"
   ]
  },
  {
   "cell_type": "code",
   "execution_count": 77,
   "id": "4bb87265",
   "metadata": {},
   "outputs": [],
   "source": [
    "bowlers = []\n",
    "team =[]\n",
    "rating=[]\n"
   ]
  },
  {
   "cell_type": "code",
   "execution_count": 78,
   "id": "47e8b4de",
   "metadata": {},
   "outputs": [],
   "source": [
    "for i in soup.find_all('td',class_=\"table-body__cell name\"):\n",
    "    bowlers.append(i.text.strip())\n",
    "#bowlers"
   ]
  },
  {
   "cell_type": "code",
   "execution_count": 79,
   "id": "2f9d2f4d",
   "metadata": {},
   "outputs": [],
   "source": [
    "bowlers = bowlers[9:18]"
   ]
  },
  {
   "cell_type": "code",
   "execution_count": 80,
   "id": "55d59df2",
   "metadata": {},
   "outputs": [
    {
     "data": {
      "text/plain": [
       "['Mohammed Siraj',\n",
       " 'Keshav Maharaj',\n",
       " 'Rashid Khan',\n",
       " 'Trent Boult',\n",
       " 'Mohammad Nabi',\n",
       " 'Adam Zampa',\n",
       " 'Matt Henry',\n",
       " 'Kuldeep Yadav',\n",
       " 'Shaheen Afridi']"
      ]
     },
     "execution_count": 80,
     "metadata": {},
     "output_type": "execute_result"
    }
   ],
   "source": [
    "bowlers"
   ]
  },
  {
   "cell_type": "code",
   "execution_count": 81,
   "id": "7daffe3d",
   "metadata": {},
   "outputs": [],
   "source": [
    "for i in soup.find_all('td',class_=\"table-body__cell nationality-logo\"):\n",
    "    team.append(i.text.strip())\n",
    "#team"
   ]
  },
  {
   "cell_type": "code",
   "execution_count": 82,
   "id": "30d1ae13",
   "metadata": {},
   "outputs": [],
   "source": [
    "team =team[9:18]"
   ]
  },
  {
   "cell_type": "code",
   "execution_count": 83,
   "id": "b711b708",
   "metadata": {},
   "outputs": [
    {
     "data": {
      "text/plain": [
       "['IND', 'SA', 'AFG', 'NZ', 'AFG', 'AUS', 'NZ', 'IND', 'PAK']"
      ]
     },
     "execution_count": 83,
     "metadata": {},
     "output_type": "execute_result"
    }
   ],
   "source": [
    "team"
   ]
  },
  {
   "cell_type": "code",
   "execution_count": 84,
   "id": "d8116ddc",
   "metadata": {},
   "outputs": [],
   "source": [
    "for i in soup.find_all('td',class_=\"table-body__cell u-text-right rating\"):\n",
    "    rating.append(i.text.strip())\n",
    "#rating\n",
    "    "
   ]
  },
  {
   "cell_type": "code",
   "execution_count": 85,
   "id": "7bf340b4",
   "metadata": {},
   "outputs": [],
   "source": [
    "rating = rating[9:18]"
   ]
  },
  {
   "cell_type": "code",
   "execution_count": 86,
   "id": "eb46d395",
   "metadata": {},
   "outputs": [
    {
     "data": {
      "text/plain": [
       "['668', '656', '654', '653', '641', '635', '634', '632', '625']"
      ]
     },
     "execution_count": 86,
     "metadata": {},
     "output_type": "execute_result"
    }
   ],
   "source": [
    "rating"
   ]
  },
  {
   "cell_type": "code",
   "execution_count": 87,
   "id": "160fa966",
   "metadata": {},
   "outputs": [],
   "source": [
    "rating.insert(0,'670')"
   ]
  },
  {
   "cell_type": "code",
   "execution_count": 88,
   "id": "1c932959",
   "metadata": {},
   "outputs": [
    {
     "data": {
      "text/plain": [
       "['670', '668', '656', '654', '653', '641', '635', '634', '632', '625']"
      ]
     },
     "execution_count": 88,
     "metadata": {},
     "output_type": "execute_result"
    }
   ],
   "source": [
    "rating"
   ]
  },
  {
   "cell_type": "code",
   "execution_count": 89,
   "id": "08699e82",
   "metadata": {},
   "outputs": [],
   "source": [
    "team.insert(0,\"AUS\")"
   ]
  },
  {
   "cell_type": "code",
   "execution_count": 90,
   "id": "434358eb",
   "metadata": {},
   "outputs": [
    {
     "data": {
      "text/plain": [
       "['AUS', 'IND', 'SA', 'AFG', 'NZ', 'AFG', 'AUS', 'NZ', 'IND', 'PAK']"
      ]
     },
     "execution_count": 90,
     "metadata": {},
     "output_type": "execute_result"
    }
   ],
   "source": [
    "team"
   ]
  },
  {
   "cell_type": "code",
   "execution_count": 91,
   "id": "8602010f",
   "metadata": {},
   "outputs": [],
   "source": [
    "bowlers.insert(0,'Josh Hazlewood')"
   ]
  },
  {
   "cell_type": "code",
   "execution_count": 92,
   "id": "9f5c4a4d",
   "metadata": {},
   "outputs": [
    {
     "data": {
      "text/plain": [
       "['Josh Hazlewood',\n",
       " 'Mohammed Siraj',\n",
       " 'Keshav Maharaj',\n",
       " 'Rashid Khan',\n",
       " 'Trent Boult',\n",
       " 'Mohammad Nabi',\n",
       " 'Adam Zampa',\n",
       " 'Matt Henry',\n",
       " 'Kuldeep Yadav',\n",
       " 'Shaheen Afridi']"
      ]
     },
     "execution_count": 92,
     "metadata": {},
     "output_type": "execute_result"
    }
   ],
   "source": [
    "bowlers"
   ]
  },
  {
   "cell_type": "code",
   "execution_count": 93,
   "id": "e9555ce1",
   "metadata": {},
   "outputs": [],
   "source": [
    "df = pd.DataFrame({'bowlers':bowlers,\"team\":team,\"rating\":rating})"
   ]
  },
  {
   "cell_type": "code",
   "execution_count": 94,
   "id": "fce554d7",
   "metadata": {},
   "outputs": [
    {
     "data": {
      "text/html": [
       "<div>\n",
       "<style scoped>\n",
       "    .dataframe tbody tr th:only-of-type {\n",
       "        vertical-align: middle;\n",
       "    }\n",
       "\n",
       "    .dataframe tbody tr th {\n",
       "        vertical-align: top;\n",
       "    }\n",
       "\n",
       "    .dataframe thead th {\n",
       "        text-align: right;\n",
       "    }\n",
       "</style>\n",
       "<table border=\"1\" class=\"dataframe\">\n",
       "  <thead>\n",
       "    <tr style=\"text-align: right;\">\n",
       "      <th></th>\n",
       "      <th>bowlers</th>\n",
       "      <th>team</th>\n",
       "      <th>rating</th>\n",
       "    </tr>\n",
       "  </thead>\n",
       "  <tbody>\n",
       "    <tr>\n",
       "      <th>0</th>\n",
       "      <td>Josh Hazlewood</td>\n",
       "      <td>AUS</td>\n",
       "      <td>670</td>\n",
       "    </tr>\n",
       "    <tr>\n",
       "      <th>1</th>\n",
       "      <td>Mohammed Siraj</td>\n",
       "      <td>IND</td>\n",
       "      <td>668</td>\n",
       "    </tr>\n",
       "    <tr>\n",
       "      <th>2</th>\n",
       "      <td>Keshav Maharaj</td>\n",
       "      <td>SA</td>\n",
       "      <td>656</td>\n",
       "    </tr>\n",
       "    <tr>\n",
       "      <th>3</th>\n",
       "      <td>Rashid Khan</td>\n",
       "      <td>AFG</td>\n",
       "      <td>654</td>\n",
       "    </tr>\n",
       "    <tr>\n",
       "      <th>4</th>\n",
       "      <td>Trent Boult</td>\n",
       "      <td>NZ</td>\n",
       "      <td>653</td>\n",
       "    </tr>\n",
       "    <tr>\n",
       "      <th>5</th>\n",
       "      <td>Mohammad Nabi</td>\n",
       "      <td>AFG</td>\n",
       "      <td>641</td>\n",
       "    </tr>\n",
       "    <tr>\n",
       "      <th>6</th>\n",
       "      <td>Adam Zampa</td>\n",
       "      <td>AUS</td>\n",
       "      <td>635</td>\n",
       "    </tr>\n",
       "    <tr>\n",
       "      <th>7</th>\n",
       "      <td>Matt Henry</td>\n",
       "      <td>NZ</td>\n",
       "      <td>634</td>\n",
       "    </tr>\n",
       "    <tr>\n",
       "      <th>8</th>\n",
       "      <td>Kuldeep Yadav</td>\n",
       "      <td>IND</td>\n",
       "      <td>632</td>\n",
       "    </tr>\n",
       "    <tr>\n",
       "      <th>9</th>\n",
       "      <td>Shaheen Afridi</td>\n",
       "      <td>PAK</td>\n",
       "      <td>625</td>\n",
       "    </tr>\n",
       "  </tbody>\n",
       "</table>\n",
       "</div>"
      ],
      "text/plain": [
       "          bowlers team rating\n",
       "0  Josh Hazlewood  AUS    670\n",
       "1  Mohammed Siraj  IND    668\n",
       "2  Keshav Maharaj   SA    656\n",
       "3     Rashid Khan  AFG    654\n",
       "4     Trent Boult   NZ    653\n",
       "5   Mohammad Nabi  AFG    641\n",
       "6      Adam Zampa  AUS    635\n",
       "7      Matt Henry   NZ    634\n",
       "8   Kuldeep Yadav  IND    632\n",
       "9  Shaheen Afridi  PAK    625"
      ]
     },
     "execution_count": 94,
     "metadata": {},
     "output_type": "execute_result"
    }
   ],
   "source": [
    "df"
   ]
  },
  {
   "cell_type": "code",
   "execution_count": null,
   "id": "0fc6fc6f",
   "metadata": {},
   "outputs": [],
   "source": []
  },
  {
   "cell_type": "markdown",
   "id": "9c1a4b24",
   "metadata": {},
   "source": [
    "Question no 4"
   ]
  },
  {
   "cell_type": "code",
   "execution_count": 95,
   "id": "45fb1363",
   "metadata": {},
   "outputs": [],
   "source": [
    "page = requests.get(\"https://www.icc-cricket.com/rankings/womens/team-rankings/odi\")"
   ]
  },
  {
   "cell_type": "code",
   "execution_count": 96,
   "id": "0b49f53f",
   "metadata": {},
   "outputs": [],
   "source": [
    "soup = bs(page.content)"
   ]
  },
  {
   "cell_type": "code",
   "execution_count": 97,
   "id": "295e6a47",
   "metadata": {},
   "outputs": [
    {
     "data": {
      "text/plain": [
       "'Australia'"
      ]
     },
     "execution_count": 97,
     "metadata": {},
     "output_type": "execute_result"
    }
   ],
   "source": [
    "teams = soup.find(\"span\",class_ =\"u-hide-phablet\")\n",
    "teams.text"
   ]
  },
  {
   "cell_type": "code",
   "execution_count": 98,
   "id": "f0e3db97",
   "metadata": {},
   "outputs": [
    {
     "data": {
      "text/plain": [
       "['Australia',\n",
       " 'England',\n",
       " 'South Africa',\n",
       " 'India',\n",
       " 'New Zealand',\n",
       " 'West Indies',\n",
       " 'Sri Lanka',\n",
       " 'Bangladesh',\n",
       " 'Thailand',\n",
       " 'Pakistan',\n",
       " 'Ireland',\n",
       " 'Netherlands',\n",
       " 'Zimbabwe']"
      ]
     },
     "execution_count": 98,
     "metadata": {},
     "output_type": "execute_result"
    }
   ],
   "source": [
    "all_teams =[]\n",
    "for i in soup.find_all(\"span\",class_ =\"u-hide-phablet\"):\n",
    "    all_teams.append(i.text)\n",
    "all_teams"
   ]
  },
  {
   "cell_type": "code",
   "execution_count": 99,
   "id": "66379fe8",
   "metadata": {},
   "outputs": [
    {
     "data": {
      "text/plain": [
       "['23',\n",
       " '2,991',\n",
       " '21',\n",
       " '2,446',\n",
       " '18',\n",
       " '1,745',\n",
       " '21',\n",
       " '2,014',\n",
       " '18',\n",
       " '1,610',\n",
       " '9',\n",
       " '714',\n",
       " '11',\n",
       " '816',\n",
       " '11',\n",
       " '753',\n",
       " '21',\n",
       " '1,435',\n",
       " '13',\n",
       " '418',\n",
       " '9',\n",
       " '94',\n",
       " '7',\n",
       " '0']"
      ]
     },
     "execution_count": 99,
     "metadata": {},
     "output_type": "execute_result"
    }
   ],
   "source": [
    "matches_points =[]\n",
    "for i in soup.find_all(\"td\",class_=\"table-body__cell u-center-text\"):\n",
    "    matches_points.append(i.text)\n",
    "matches_points\n"
   ]
  },
  {
   "cell_type": "code",
   "execution_count": 100,
   "id": "e33a8221",
   "metadata": {},
   "outputs": [],
   "source": [
    "matches = matches_points[::2]"
   ]
  },
  {
   "cell_type": "code",
   "execution_count": 101,
   "id": "cb5782ed",
   "metadata": {},
   "outputs": [
    {
     "data": {
      "text/plain": [
       "['23', '21', '18', '21', '18', '9', '11', '11', '21', '13', '9', '7']"
      ]
     },
     "execution_count": 101,
     "metadata": {},
     "output_type": "execute_result"
    }
   ],
   "source": [
    "matches"
   ]
  },
  {
   "cell_type": "code",
   "execution_count": 102,
   "id": "7dd27cc1",
   "metadata": {},
   "outputs": [],
   "source": [
    "points = matches_points[1::2]"
   ]
  },
  {
   "cell_type": "code",
   "execution_count": 103,
   "id": "1529151f",
   "metadata": {},
   "outputs": [
    {
     "data": {
      "text/plain": [
       "['2,991',\n",
       " '2,446',\n",
       " '1,745',\n",
       " '2,014',\n",
       " '1,610',\n",
       " '714',\n",
       " '816',\n",
       " '753',\n",
       " '1,435',\n",
       " '418',\n",
       " '94',\n",
       " '0']"
      ]
     },
     "execution_count": 103,
     "metadata": {},
     "output_type": "execute_result"
    }
   ],
   "source": [
    "points"
   ]
  },
  {
   "cell_type": "code",
   "execution_count": 104,
   "id": "8fd1a40f",
   "metadata": {},
   "outputs": [
    {
     "data": {
      "text/plain": [
       "['130', '116', '97', '96', '89', '79', '74', '68', '68', '32', '10', '0']"
      ]
     },
     "execution_count": 104,
     "metadata": {},
     "output_type": "execute_result"
    }
   ],
   "source": [
    "ratings = []\n",
    "for i in soup.find_all('td',class_=\"table-body__cell u-text-right rating\"):\n",
    "    ratings.append(i.text)\n",
    "ratings"
   ]
  },
  {
   "cell_type": "code",
   "execution_count": 105,
   "id": "05ad36b2",
   "metadata": {},
   "outputs": [],
   "source": [
    "ratings.insert(0,'162')"
   ]
  },
  {
   "cell_type": "code",
   "execution_count": 106,
   "id": "ae662f5e",
   "metadata": {},
   "outputs": [
    {
     "data": {
      "text/plain": [
       "['162',\n",
       " '130',\n",
       " '116',\n",
       " '97',\n",
       " '96',\n",
       " '89',\n",
       " '79',\n",
       " '74',\n",
       " '68',\n",
       " '68',\n",
       " '32',\n",
       " '10',\n",
       " '0']"
      ]
     },
     "execution_count": 106,
     "metadata": {},
     "output_type": "execute_result"
    }
   ],
   "source": [
    "ratings"
   ]
  },
  {
   "cell_type": "code",
   "execution_count": 107,
   "id": "61171552",
   "metadata": {},
   "outputs": [],
   "source": [
    "points.insert(0,'3084')"
   ]
  },
  {
   "cell_type": "code",
   "execution_count": 108,
   "id": "a11480ad",
   "metadata": {},
   "outputs": [
    {
     "data": {
      "text/plain": [
       "['3084',\n",
       " '2,991',\n",
       " '2,446',\n",
       " '1,745',\n",
       " '2,014',\n",
       " '1,610',\n",
       " '714',\n",
       " '816',\n",
       " '753',\n",
       " '1,435',\n",
       " '418',\n",
       " '94',\n",
       " '0']"
      ]
     },
     "execution_count": 108,
     "metadata": {},
     "output_type": "execute_result"
    }
   ],
   "source": [
    "points"
   ]
  },
  {
   "cell_type": "code",
   "execution_count": 109,
   "id": "67dcf7d3",
   "metadata": {},
   "outputs": [],
   "source": [
    "matches.insert(0,'19')"
   ]
  },
  {
   "cell_type": "code",
   "execution_count": 110,
   "id": "c5fd2124",
   "metadata": {},
   "outputs": [
    {
     "data": {
      "text/plain": [
       "['19', '23', '21', '18', '21', '18', '9', '11', '11', '21', '13', '9', '7']"
      ]
     },
     "execution_count": 110,
     "metadata": {},
     "output_type": "execute_result"
    }
   ],
   "source": [
    "matches"
   ]
  },
  {
   "cell_type": "code",
   "execution_count": 111,
   "id": "1efb9504",
   "metadata": {},
   "outputs": [],
   "source": [
    "df = pd.DataFrame({'teams':all_teams,'matches':matches,'points':points,'ratings':ratings})"
   ]
  },
  {
   "cell_type": "code",
   "execution_count": 112,
   "id": "1a42b3b8",
   "metadata": {},
   "outputs": [],
   "source": [
    "df = df.head(10)"
   ]
  },
  {
   "cell_type": "code",
   "execution_count": 113,
   "id": "31f5b14e",
   "metadata": {},
   "outputs": [
    {
     "data": {
      "text/html": [
       "<div>\n",
       "<style scoped>\n",
       "    .dataframe tbody tr th:only-of-type {\n",
       "        vertical-align: middle;\n",
       "    }\n",
       "\n",
       "    .dataframe tbody tr th {\n",
       "        vertical-align: top;\n",
       "    }\n",
       "\n",
       "    .dataframe thead th {\n",
       "        text-align: right;\n",
       "    }\n",
       "</style>\n",
       "<table border=\"1\" class=\"dataframe\">\n",
       "  <thead>\n",
       "    <tr style=\"text-align: right;\">\n",
       "      <th></th>\n",
       "      <th>teams</th>\n",
       "      <th>matches</th>\n",
       "      <th>points</th>\n",
       "      <th>ratings</th>\n",
       "    </tr>\n",
       "  </thead>\n",
       "  <tbody>\n",
       "    <tr>\n",
       "      <th>0</th>\n",
       "      <td>Australia</td>\n",
       "      <td>19</td>\n",
       "      <td>3084</td>\n",
       "      <td>162</td>\n",
       "    </tr>\n",
       "    <tr>\n",
       "      <th>1</th>\n",
       "      <td>England</td>\n",
       "      <td>23</td>\n",
       "      <td>2,991</td>\n",
       "      <td>130</td>\n",
       "    </tr>\n",
       "    <tr>\n",
       "      <th>2</th>\n",
       "      <td>South Africa</td>\n",
       "      <td>21</td>\n",
       "      <td>2,446</td>\n",
       "      <td>116</td>\n",
       "    </tr>\n",
       "    <tr>\n",
       "      <th>3</th>\n",
       "      <td>India</td>\n",
       "      <td>18</td>\n",
       "      <td>1,745</td>\n",
       "      <td>97</td>\n",
       "    </tr>\n",
       "    <tr>\n",
       "      <th>4</th>\n",
       "      <td>New Zealand</td>\n",
       "      <td>21</td>\n",
       "      <td>2,014</td>\n",
       "      <td>96</td>\n",
       "    </tr>\n",
       "    <tr>\n",
       "      <th>5</th>\n",
       "      <td>West Indies</td>\n",
       "      <td>18</td>\n",
       "      <td>1,610</td>\n",
       "      <td>89</td>\n",
       "    </tr>\n",
       "    <tr>\n",
       "      <th>6</th>\n",
       "      <td>Sri Lanka</td>\n",
       "      <td>9</td>\n",
       "      <td>714</td>\n",
       "      <td>79</td>\n",
       "    </tr>\n",
       "    <tr>\n",
       "      <th>7</th>\n",
       "      <td>Bangladesh</td>\n",
       "      <td>11</td>\n",
       "      <td>816</td>\n",
       "      <td>74</td>\n",
       "    </tr>\n",
       "    <tr>\n",
       "      <th>8</th>\n",
       "      <td>Thailand</td>\n",
       "      <td>11</td>\n",
       "      <td>753</td>\n",
       "      <td>68</td>\n",
       "    </tr>\n",
       "    <tr>\n",
       "      <th>9</th>\n",
       "      <td>Pakistan</td>\n",
       "      <td>21</td>\n",
       "      <td>1,435</td>\n",
       "      <td>68</td>\n",
       "    </tr>\n",
       "  </tbody>\n",
       "</table>\n",
       "</div>"
      ],
      "text/plain": [
       "          teams matches points ratings\n",
       "0     Australia      19   3084     162\n",
       "1       England      23  2,991     130\n",
       "2  South Africa      21  2,446     116\n",
       "3         India      18  1,745      97\n",
       "4   New Zealand      21  2,014      96\n",
       "5   West Indies      18  1,610      89\n",
       "6     Sri Lanka       9    714      79\n",
       "7    Bangladesh      11    816      74\n",
       "8      Thailand      11    753      68\n",
       "9      Pakistan      21  1,435      68"
      ]
     },
     "execution_count": 113,
     "metadata": {},
     "output_type": "execute_result"
    }
   ],
   "source": [
    "df"
   ]
  },
  {
   "cell_type": "markdown",
   "id": "b183bf83",
   "metadata": {},
   "source": [
    "part 2"
   ]
  },
  {
   "cell_type": "code",
   "execution_count": 114,
   "id": "ac377ae3",
   "metadata": {},
   "outputs": [],
   "source": [
    "page = requests.get(\"https://www.icc-cricket.com/rankings/womens/player-rankings/odi\")"
   ]
  },
  {
   "cell_type": "code",
   "execution_count": 115,
   "id": "2c7ddd25",
   "metadata": {},
   "outputs": [],
   "source": [
    "soup = bs(page.content)"
   ]
  },
  {
   "cell_type": "code",
   "execution_count": 116,
   "id": "38149ce6",
   "metadata": {},
   "outputs": [],
   "source": [
    "players = []\n",
    "for i in soup.find_all(\"td\", class_=\"table-body__cell name\"):\n",
    "    a_tags = i.find_all('a')\n",
    "    for a in a_tags:\n",
    "        players.append(a.text)\n"
   ]
  },
  {
   "cell_type": "code",
   "execution_count": 117,
   "id": "5df11afe",
   "metadata": {},
   "outputs": [
    {
     "data": {
      "text/plain": [
       "['Beth Mooney',\n",
       " 'Chamari Athapaththu',\n",
       " 'Laura Wolvaardt',\n",
       " 'Smriti Mandhana',\n",
       " 'Alyssa Healy',\n",
       " 'Ellyse Perry',\n",
       " 'Harmanpreet Kaur',\n",
       " 'Meg Lanning',\n",
       " 'Marizanne Kapp',\n",
       " 'Shabnim Ismail',\n",
       " 'Jess Jonassen',\n",
       " 'Megan Schutt',\n",
       " 'Ashleigh Gardner',\n",
       " 'Ayabonga Khaka',\n",
       " 'Kate Cross',\n",
       " 'Hayley Matthews',\n",
       " 'Deepti Sharma',\n",
       " 'Marizanne Kapp',\n",
       " 'Ashleigh Gardner',\n",
       " 'Natalie Sciver-Brunt',\n",
       " 'Hayley Matthews',\n",
       " 'Amelia Kerr',\n",
       " 'Deepti Sharma',\n",
       " 'Ellyse Perry',\n",
       " 'Jess Jonassen',\n",
       " 'Sophie Devine',\n",
       " 'Nida Dar']"
      ]
     },
     "execution_count": 117,
     "metadata": {},
     "output_type": "execute_result"
    }
   ],
   "source": [
    "players"
   ]
  },
  {
   "cell_type": "code",
   "execution_count": 118,
   "id": "1acdd39f",
   "metadata": {},
   "outputs": [],
   "source": [
    "women_batsman = players[:9]"
   ]
  },
  {
   "cell_type": "code",
   "execution_count": 119,
   "id": "291c9a0a",
   "metadata": {},
   "outputs": [],
   "source": [
    "women_batsman.insert(0,'Natalie Sciver-Brunt')"
   ]
  },
  {
   "cell_type": "code",
   "execution_count": 120,
   "id": "92414b22",
   "metadata": {},
   "outputs": [
    {
     "data": {
      "text/plain": [
       "['Natalie Sciver-Brunt',\n",
       " 'Beth Mooney',\n",
       " 'Chamari Athapaththu',\n",
       " 'Laura Wolvaardt',\n",
       " 'Smriti Mandhana',\n",
       " 'Alyssa Healy',\n",
       " 'Ellyse Perry',\n",
       " 'Harmanpreet Kaur',\n",
       " 'Meg Lanning',\n",
       " 'Marizanne Kapp']"
      ]
     },
     "execution_count": 120,
     "metadata": {},
     "output_type": "execute_result"
    }
   ],
   "source": [
    "women_batsman"
   ]
  },
  {
   "cell_type": "code",
   "execution_count": 121,
   "id": "2cc10b34",
   "metadata": {},
   "outputs": [],
   "source": [
    "women_allrounders = players[18:]"
   ]
  },
  {
   "cell_type": "code",
   "execution_count": 122,
   "id": "850810d7",
   "metadata": {},
   "outputs": [],
   "source": [
    "women_allrounders.insert(0,'Marizanne Kapp')"
   ]
  },
  {
   "cell_type": "code",
   "execution_count": 123,
   "id": "e3d75c92",
   "metadata": {},
   "outputs": [
    {
     "data": {
      "text/plain": [
       "['Marizanne Kapp',\n",
       " 'Ashleigh Gardner',\n",
       " 'Natalie Sciver-Brunt',\n",
       " 'Hayley Matthews',\n",
       " 'Amelia Kerr',\n",
       " 'Deepti Sharma',\n",
       " 'Ellyse Perry',\n",
       " 'Jess Jonassen',\n",
       " 'Sophie Devine',\n",
       " 'Nida Dar']"
      ]
     },
     "execution_count": 123,
     "metadata": {},
     "output_type": "execute_result"
    }
   ],
   "source": [
    "women_allrounders"
   ]
  },
  {
   "cell_type": "code",
   "execution_count": 124,
   "id": "b5b3b62d",
   "metadata": {},
   "outputs": [
    {
     "data": {
      "text/plain": [
       "['AUS',\n",
       " 'SL',\n",
       " 'SA',\n",
       " 'IND',\n",
       " 'AUS',\n",
       " 'AUS',\n",
       " 'IND',\n",
       " 'AUS',\n",
       " 'SA',\n",
       " 'SA',\n",
       " 'AUS',\n",
       " 'AUS',\n",
       " 'AUS',\n",
       " 'SA',\n",
       " 'ENG',\n",
       " 'WI',\n",
       " 'IND',\n",
       " 'SA',\n",
       " 'AUS',\n",
       " 'ENG',\n",
       " 'WI',\n",
       " 'NZ',\n",
       " 'IND',\n",
       " 'AUS',\n",
       " 'AUS',\n",
       " 'NZ',\n",
       " 'PAK']"
      ]
     },
     "execution_count": 124,
     "metadata": {},
     "output_type": "execute_result"
    }
   ],
   "source": [
    "teams = []\n",
    "for i in soup.find_all('span',class_=\"table-body__logo-text\"):\n",
    "    teams.append(i.text)\n",
    "teams"
   ]
  },
  {
   "cell_type": "code",
   "execution_count": 125,
   "id": "6f5ffd7a",
   "metadata": {},
   "outputs": [],
   "source": [
    "batting_teams = teams[:9]"
   ]
  },
  {
   "cell_type": "code",
   "execution_count": 126,
   "id": "426acaa4",
   "metadata": {},
   "outputs": [],
   "source": [
    "batting_teams.insert(0,'ENG')"
   ]
  },
  {
   "cell_type": "code",
   "execution_count": 127,
   "id": "80948572",
   "metadata": {},
   "outputs": [
    {
     "data": {
      "text/plain": [
       "['ENG', 'AUS', 'SL', 'SA', 'IND', 'AUS', 'AUS', 'IND', 'AUS', 'SA']"
      ]
     },
     "execution_count": 127,
     "metadata": {},
     "output_type": "execute_result"
    }
   ],
   "source": [
    "batting_teams"
   ]
  },
  {
   "cell_type": "code",
   "execution_count": 128,
   "id": "179e5167",
   "metadata": {},
   "outputs": [],
   "source": [
    "all_r_teams= teams[18:]"
   ]
  },
  {
   "cell_type": "code",
   "execution_count": 129,
   "id": "3f6c213d",
   "metadata": {},
   "outputs": [],
   "source": [
    "all_r_teams.insert(0,\"SA\")"
   ]
  },
  {
   "cell_type": "code",
   "execution_count": 130,
   "id": "29beb94b",
   "metadata": {},
   "outputs": [
    {
     "data": {
      "text/plain": [
       "['SA', 'AUS', 'ENG', 'WI', 'NZ', 'IND', 'AUS', 'AUS', 'NZ', 'PAK']"
      ]
     },
     "execution_count": 130,
     "metadata": {},
     "output_type": "execute_result"
    }
   ],
   "source": [
    "all_r_teams"
   ]
  },
  {
   "cell_type": "code",
   "execution_count": 131,
   "id": "22a5fa28",
   "metadata": {},
   "outputs": [
    {
     "data": {
      "text/plain": [
       "['750',\n",
       " '736',\n",
       " '727',\n",
       " '708',\n",
       " '698',\n",
       " '697',\n",
       " '694',\n",
       " '662',\n",
       " '642',\n",
       " '680',\n",
       " '662',\n",
       " '658',\n",
       " '652',\n",
       " '640',\n",
       " '628',\n",
       " '625',\n",
       " '607',\n",
       " '600',\n",
       " '377',\n",
       " '360',\n",
       " '358',\n",
       " '346',\n",
       " '312',\n",
       " '282',\n",
       " '227',\n",
       " '227',\n",
       " '224']"
      ]
     },
     "execution_count": 131,
     "metadata": {},
     "output_type": "execute_result"
    }
   ],
   "source": [
    "ratings = []\n",
    "for i in soup.find_all('td',class_=\"table-body__cell u-text-right rating\"):\n",
    "    ratings.append(i.text)\n",
    "ratings"
   ]
  },
  {
   "cell_type": "code",
   "execution_count": 132,
   "id": "877b3936",
   "metadata": {},
   "outputs": [],
   "source": [
    "batting_ratings = ratings[:9]"
   ]
  },
  {
   "cell_type": "code",
   "execution_count": 133,
   "id": "19c83cb8",
   "metadata": {},
   "outputs": [],
   "source": [
    "batting_ratings.insert(0,'807')"
   ]
  },
  {
   "cell_type": "code",
   "execution_count": 134,
   "id": "ff1f8420",
   "metadata": {},
   "outputs": [
    {
     "data": {
      "text/plain": [
       "['807', '750', '736', '727', '708', '698', '697', '694', '662', '642']"
      ]
     },
     "execution_count": 134,
     "metadata": {},
     "output_type": "execute_result"
    }
   ],
   "source": [
    "batting_ratings"
   ]
  },
  {
   "cell_type": "code",
   "execution_count": 135,
   "id": "2bfbba0e",
   "metadata": {},
   "outputs": [],
   "source": [
    "all_r_ratings = ratings[18:]"
   ]
  },
  {
   "cell_type": "code",
   "execution_count": 136,
   "id": "f8d18b48",
   "metadata": {},
   "outputs": [],
   "source": [
    "all_r_ratings.insert(0,\"385\")"
   ]
  },
  {
   "cell_type": "code",
   "execution_count": 137,
   "id": "8e66d200",
   "metadata": {},
   "outputs": [
    {
     "data": {
      "text/plain": [
       "['385', '377', '360', '358', '346', '312', '282', '227', '227', '224']"
      ]
     },
     "execution_count": 137,
     "metadata": {},
     "output_type": "execute_result"
    }
   ],
   "source": [
    "all_r_ratings"
   ]
  },
  {
   "cell_type": "code",
   "execution_count": 138,
   "id": "1f404c15",
   "metadata": {},
   "outputs": [],
   "source": [
    "df = pd.DataFrame({'teams':batting_teams,'batsman':women_batsman,'ratings':batting_ratings})"
   ]
  },
  {
   "cell_type": "code",
   "execution_count": 139,
   "id": "c7b2f3e8",
   "metadata": {},
   "outputs": [
    {
     "data": {
      "text/html": [
       "<div>\n",
       "<style scoped>\n",
       "    .dataframe tbody tr th:only-of-type {\n",
       "        vertical-align: middle;\n",
       "    }\n",
       "\n",
       "    .dataframe tbody tr th {\n",
       "        vertical-align: top;\n",
       "    }\n",
       "\n",
       "    .dataframe thead th {\n",
       "        text-align: right;\n",
       "    }\n",
       "</style>\n",
       "<table border=\"1\" class=\"dataframe\">\n",
       "  <thead>\n",
       "    <tr style=\"text-align: right;\">\n",
       "      <th></th>\n",
       "      <th>teams</th>\n",
       "      <th>batsman</th>\n",
       "      <th>ratings</th>\n",
       "    </tr>\n",
       "  </thead>\n",
       "  <tbody>\n",
       "    <tr>\n",
       "      <th>0</th>\n",
       "      <td>ENG</td>\n",
       "      <td>Natalie Sciver-Brunt</td>\n",
       "      <td>807</td>\n",
       "    </tr>\n",
       "    <tr>\n",
       "      <th>1</th>\n",
       "      <td>AUS</td>\n",
       "      <td>Beth Mooney</td>\n",
       "      <td>750</td>\n",
       "    </tr>\n",
       "    <tr>\n",
       "      <th>2</th>\n",
       "      <td>SL</td>\n",
       "      <td>Chamari Athapaththu</td>\n",
       "      <td>736</td>\n",
       "    </tr>\n",
       "    <tr>\n",
       "      <th>3</th>\n",
       "      <td>SA</td>\n",
       "      <td>Laura Wolvaardt</td>\n",
       "      <td>727</td>\n",
       "    </tr>\n",
       "    <tr>\n",
       "      <th>4</th>\n",
       "      <td>IND</td>\n",
       "      <td>Smriti Mandhana</td>\n",
       "      <td>708</td>\n",
       "    </tr>\n",
       "    <tr>\n",
       "      <th>5</th>\n",
       "      <td>AUS</td>\n",
       "      <td>Alyssa Healy</td>\n",
       "      <td>698</td>\n",
       "    </tr>\n",
       "    <tr>\n",
       "      <th>6</th>\n",
       "      <td>AUS</td>\n",
       "      <td>Ellyse Perry</td>\n",
       "      <td>697</td>\n",
       "    </tr>\n",
       "    <tr>\n",
       "      <th>7</th>\n",
       "      <td>IND</td>\n",
       "      <td>Harmanpreet Kaur</td>\n",
       "      <td>694</td>\n",
       "    </tr>\n",
       "    <tr>\n",
       "      <th>8</th>\n",
       "      <td>AUS</td>\n",
       "      <td>Meg Lanning</td>\n",
       "      <td>662</td>\n",
       "    </tr>\n",
       "    <tr>\n",
       "      <th>9</th>\n",
       "      <td>SA</td>\n",
       "      <td>Marizanne Kapp</td>\n",
       "      <td>642</td>\n",
       "    </tr>\n",
       "  </tbody>\n",
       "</table>\n",
       "</div>"
      ],
      "text/plain": [
       "  teams               batsman ratings\n",
       "0   ENG  Natalie Sciver-Brunt     807\n",
       "1   AUS           Beth Mooney     750\n",
       "2    SL   Chamari Athapaththu     736\n",
       "3    SA       Laura Wolvaardt     727\n",
       "4   IND       Smriti Mandhana     708\n",
       "5   AUS          Alyssa Healy     698\n",
       "6   AUS          Ellyse Perry     697\n",
       "7   IND      Harmanpreet Kaur     694\n",
       "8   AUS           Meg Lanning     662\n",
       "9    SA        Marizanne Kapp     642"
      ]
     },
     "execution_count": 139,
     "metadata": {},
     "output_type": "execute_result"
    }
   ],
   "source": [
    "df"
   ]
  },
  {
   "cell_type": "markdown",
   "id": "2b8a3188",
   "metadata": {},
   "source": [
    "part 3"
   ]
  },
  {
   "cell_type": "code",
   "execution_count": 140,
   "id": "a1b75b57",
   "metadata": {},
   "outputs": [],
   "source": [
    "df = pd.DataFrame({\"all_rounders\":women_allrounders,'teams':all_r_teams,'ratings':all_r_ratings})"
   ]
  },
  {
   "cell_type": "code",
   "execution_count": 141,
   "id": "e517c7a7",
   "metadata": {},
   "outputs": [
    {
     "data": {
      "text/html": [
       "<div>\n",
       "<style scoped>\n",
       "    .dataframe tbody tr th:only-of-type {\n",
       "        vertical-align: middle;\n",
       "    }\n",
       "\n",
       "    .dataframe tbody tr th {\n",
       "        vertical-align: top;\n",
       "    }\n",
       "\n",
       "    .dataframe thead th {\n",
       "        text-align: right;\n",
       "    }\n",
       "</style>\n",
       "<table border=\"1\" class=\"dataframe\">\n",
       "  <thead>\n",
       "    <tr style=\"text-align: right;\">\n",
       "      <th></th>\n",
       "      <th>all_rounders</th>\n",
       "      <th>teams</th>\n",
       "      <th>ratings</th>\n",
       "    </tr>\n",
       "  </thead>\n",
       "  <tbody>\n",
       "    <tr>\n",
       "      <th>0</th>\n",
       "      <td>Marizanne Kapp</td>\n",
       "      <td>SA</td>\n",
       "      <td>385</td>\n",
       "    </tr>\n",
       "    <tr>\n",
       "      <th>1</th>\n",
       "      <td>Ashleigh Gardner</td>\n",
       "      <td>AUS</td>\n",
       "      <td>377</td>\n",
       "    </tr>\n",
       "    <tr>\n",
       "      <th>2</th>\n",
       "      <td>Natalie Sciver-Brunt</td>\n",
       "      <td>ENG</td>\n",
       "      <td>360</td>\n",
       "    </tr>\n",
       "    <tr>\n",
       "      <th>3</th>\n",
       "      <td>Hayley Matthews</td>\n",
       "      <td>WI</td>\n",
       "      <td>358</td>\n",
       "    </tr>\n",
       "    <tr>\n",
       "      <th>4</th>\n",
       "      <td>Amelia Kerr</td>\n",
       "      <td>NZ</td>\n",
       "      <td>346</td>\n",
       "    </tr>\n",
       "    <tr>\n",
       "      <th>5</th>\n",
       "      <td>Deepti Sharma</td>\n",
       "      <td>IND</td>\n",
       "      <td>312</td>\n",
       "    </tr>\n",
       "    <tr>\n",
       "      <th>6</th>\n",
       "      <td>Ellyse Perry</td>\n",
       "      <td>AUS</td>\n",
       "      <td>282</td>\n",
       "    </tr>\n",
       "    <tr>\n",
       "      <th>7</th>\n",
       "      <td>Jess Jonassen</td>\n",
       "      <td>AUS</td>\n",
       "      <td>227</td>\n",
       "    </tr>\n",
       "    <tr>\n",
       "      <th>8</th>\n",
       "      <td>Sophie Devine</td>\n",
       "      <td>NZ</td>\n",
       "      <td>227</td>\n",
       "    </tr>\n",
       "    <tr>\n",
       "      <th>9</th>\n",
       "      <td>Nida Dar</td>\n",
       "      <td>PAK</td>\n",
       "      <td>224</td>\n",
       "    </tr>\n",
       "  </tbody>\n",
       "</table>\n",
       "</div>"
      ],
      "text/plain": [
       "           all_rounders teams ratings\n",
       "0        Marizanne Kapp    SA     385\n",
       "1      Ashleigh Gardner   AUS     377\n",
       "2  Natalie Sciver-Brunt   ENG     360\n",
       "3       Hayley Matthews    WI     358\n",
       "4           Amelia Kerr    NZ     346\n",
       "5         Deepti Sharma   IND     312\n",
       "6          Ellyse Perry   AUS     282\n",
       "7         Jess Jonassen   AUS     227\n",
       "8         Sophie Devine    NZ     227\n",
       "9              Nida Dar   PAK     224"
      ]
     },
     "execution_count": 141,
     "metadata": {},
     "output_type": "execute_result"
    }
   ],
   "source": [
    "df"
   ]
  },
  {
   "cell_type": "code",
   "execution_count": null,
   "id": "f0aaeea2",
   "metadata": {},
   "outputs": [],
   "source": []
  },
  {
   "cell_type": "code",
   "execution_count": null,
   "id": "45c24b00",
   "metadata": {},
   "outputs": [],
   "source": []
  },
  {
   "cell_type": "markdown",
   "id": "d7d11f18",
   "metadata": {},
   "source": [
    "Question no 1"
   ]
  },
  {
   "cell_type": "code",
   "execution_count": 142,
   "id": "3f164422",
   "metadata": {},
   "outputs": [],
   "source": [
    "page = requests.get(\"https://en.wikipedia.org/wiki/Main_Page\")"
   ]
  },
  {
   "cell_type": "code",
   "execution_count": 143,
   "id": "ff5d584c",
   "metadata": {},
   "outputs": [],
   "source": [
    "soup = bs(page.content)"
   ]
  },
  {
   "cell_type": "code",
   "execution_count": 145,
   "id": "0c20e7ab",
   "metadata": {},
   "outputs": [
    {
     "name": "stdout",
     "output_type": "stream",
     "text": [
      "                            text tags\n",
      "0                      Main Page   h1\n",
      "1           Welcome to Wikipedia   h1\n",
      "2  From today's featured article   h2\n",
      "3               Did you know ...   h2\n",
      "4                    In the news   h2\n",
      "5                    On this day   h2\n",
      "6       Today's featured picture   h2\n",
      "7       Other areas of Wikipedia   h2\n",
      "8    Wikipedia's sister projects   h2\n",
      "9            Wikipedia languages   h2\n"
     ]
    }
   ],
   "source": [
    "header_tags = soup.find_all(['h1', 'h2', 'h3', 'h4', 'h5', 'h6'])\n",
    "texts = []\n",
    "tags = []\n",
    "for header in header_tags:\n",
    "    texts.append(header.text)\n",
    "    tags.append(header.name)\n",
    "df = pd.DataFrame({'text':texts,'tags':tags})\n",
    "print(df)"
   ]
  },
  {
   "cell_type": "code",
   "execution_count": null,
   "id": "04d95e61",
   "metadata": {},
   "outputs": [],
   "source": []
  },
  {
   "cell_type": "markdown",
   "id": "73d9dfeb",
   "metadata": {},
   "source": [
    "Question no 5"
   ]
  },
  {
   "cell_type": "code",
   "execution_count": null,
   "id": "c05b53f8",
   "metadata": {},
   "outputs": [],
   "source": [
    "page = requests.get(\"https://www.cnbc.com/world/?region=world\")"
   ]
  },
  {
   "cell_type": "code",
   "execution_count": null,
   "id": "de284ca3",
   "metadata": {},
   "outputs": [],
   "source": [
    "soup = bs(page.content)"
   ]
  },
  {
   "cell_type": "code",
   "execution_count": null,
   "id": "4aabd02b",
   "metadata": {},
   "outputs": [],
   "source": [
    "all_news = soup.find('')"
   ]
  },
  {
   "cell_type": "code",
   "execution_count": null,
   "id": "5fd431eb",
   "metadata": {},
   "outputs": [],
   "source": [
    "all_news = []\n",
    "for i in soup.find_all(\"div\", class_=\"LatestNews-headlineWrapper\"):\n",
    "    a_tags = i.find_all('a')\n",
    "    for a in a_tags:\n",
    "        all_news.append(a.text)"
   ]
  },
  {
   "cell_type": "code",
   "execution_count": null,
   "id": "9b9c89da",
   "metadata": {},
   "outputs": [],
   "source": [
    "all_news"
   ]
  },
  {
   "cell_type": "code",
   "execution_count": null,
   "id": "a0ef274a",
   "metadata": {},
   "outputs": [],
   "source": [
    "news_link = []\n",
    "for i in soup.find_all(\"div\", class_=\"LatestNews-headlineWrapper\"):\n",
    "    a_tags = i.find_all('a')\n",
    "    for a in a_tags:\n",
    "        news_link.append(a.get('href'))\n",
    "news_link"
   ]
  },
  {
   "cell_type": "code",
   "execution_count": null,
   "id": "4e2ed94a",
   "metadata": {},
   "outputs": [],
   "source": [
    "len(news_link)"
   ]
  },
  {
   "cell_type": "code",
   "execution_count": null,
   "id": "e286c28b",
   "metadata": {},
   "outputs": [],
   "source": [
    "len(all_news)"
   ]
  },
  {
   "cell_type": "code",
   "execution_count": null,
   "id": "c72e8e9d",
   "metadata": {},
   "outputs": [],
   "source": [
    "news_link = news_link[:30]"
   ]
  },
  {
   "cell_type": "code",
   "execution_count": null,
   "id": "1b150a91",
   "metadata": {},
   "outputs": [],
   "source": [
    "news_link"
   ]
  },
  {
   "cell_type": "code",
   "execution_count": null,
   "id": "5ec8ccb9",
   "metadata": {},
   "outputs": [],
   "source": [
    "all_news = all_news[:30]"
   ]
  },
  {
   "cell_type": "code",
   "execution_count": null,
   "id": "71426cf3",
   "metadata": {},
   "outputs": [],
   "source": [
    "all_news"
   ]
  },
  {
   "cell_type": "code",
   "execution_count": null,
   "id": "c541d369",
   "metadata": {},
   "outputs": [],
   "source": []
  },
  {
   "cell_type": "code",
   "execution_count": null,
   "id": "72cb9536",
   "metadata": {},
   "outputs": [],
   "source": []
  },
  {
   "cell_type": "code",
   "execution_count": null,
   "id": "5e9b42ec",
   "metadata": {},
   "outputs": [],
   "source": []
  },
  {
   "cell_type": "code",
   "execution_count": null,
   "id": "3f81be30",
   "metadata": {},
   "outputs": [],
   "source": [
    "time = []\n",
    "for i in soup.find_all(\"time\",class_=\"LatestNews-timestamp\"):\n",
    "    time.append(i.text)\n",
    "time"
   ]
  },
  {
   "cell_type": "code",
   "execution_count": null,
   "id": "cf2763b6",
   "metadata": {},
   "outputs": [],
   "source": [
    "len(time)"
   ]
  },
  {
   "cell_type": "code",
   "execution_count": null,
   "id": "096e9d84",
   "metadata": {},
   "outputs": [],
   "source": [
    "df = pd.DataFrame({'Headline':all_news,\"Time\":time,'News Link':news_link})"
   ]
  },
  {
   "cell_type": "code",
   "execution_count": null,
   "id": "bfeb5cf0",
   "metadata": {},
   "outputs": [],
   "source": [
    "df"
   ]
  }
 ],
 "metadata": {
  "kernelspec": {
   "display_name": "Python 3 (ipykernel)",
   "language": "python",
   "name": "python3"
  },
  "language_info": {
   "codemirror_mode": {
    "name": "ipython",
    "version": 3
   },
   "file_extension": ".py",
   "mimetype": "text/x-python",
   "name": "python",
   "nbconvert_exporter": "python",
   "pygments_lexer": "ipython3",
   "version": "3.10.9"
  }
 },
 "nbformat": 4,
 "nbformat_minor": 5
}
